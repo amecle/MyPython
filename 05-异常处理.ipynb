{
 "cells": [
  {
   "cell_type": "markdown",
   "metadata": {},
   "source": [
    "# 异常\n",
    "  - 广义上的错误分为错误和异常\n",
    "  - 错误：人为可以避免的\n",
    "  - 异常：在语法逻辑正确的前提下出现的问题\n",
    "  - 在python里，异常是一个类，可以处理和使用"
   ]
  },
  {
   "cell_type": "code",
   "execution_count": null,
   "metadata": {},
   "outputs": [],
   "source": [
    "     异常的分类（https://www.cnblogs.com/Lival/p/6203111.html）\n",
    "        \n",
    "        ArithmeticError-----所有数值计算错误的基类\n",
    "        AssertionError-----断言语句失败\n",
    "        AttributeError-----对象没有这个属性\n",
    "        BaseException-----所有异常的基类\n",
    "        DeprecationWarning-----关于被弃用的特征的警告\n",
    "        EnvironmentError-----操作系统错误的基类\n",
    "        EOFError-----没有内建输入,到达EOF 标记\n",
    "        Exception-----常规错误的基类\n",
    "        FloatingPointError-----浮点计算错误\n",
    "        FutureWarning-----关于构造将来语义会有改变的警告\n",
    "        GeneratorExit-----生成器(generator)发生异常来通知退出\n",
    "        ImportError-----导入模块/对象失败\n",
    "        IndentationError-----缩进错误\n",
    "        IndexError-----序列中没有没有此索引(index)\n",
    "        IOError-----输入/输出操作失败\n",
    "        KeyboardInterrupt-----用户中断执行(通常是输入^C)\n",
    "        KeyError-----映射中没有这个键\n",
    "        LookupError-----无效数据查询的基类\n",
    "        MemoryError-----内存溢出错误(对于Python 解释器不是致命的)\n",
    "        NameError-----未声明/初始化对象 (没有属性)\n",
    "        NotImplementedError-----尚未实现的方法\n",
    "        OSError-----操作系统错误\n",
    "        OverflowError-----数值运算超出最大限制\n",
    "        OverflowWarning-----旧的关于自动提升为长整型(long)的警告\n",
    "        PendingDeprecationWarning-----关于特性将会被废弃的警告\n",
    "        ReferenceError-----弱引用(Weak reference)试图访问已经垃圾回收了的对象\n",
    "        RuntimeError-----一般的运行时错误\n",
    "        RuntimeWarning-----可疑的运行时行为(runtime behavior)的警告\n",
    "        StandardError-----所有的内建标准异常的基类\n",
    "        StopIteration-----迭代器没有更多的值\n",
    "        SyntaxError-----Python 语法错误\n",
    "        SyntaxWarning-----可疑的语法的警告\n",
    "        SystemError-----一般的解释器系统错误\n",
    "        SystemExit-----Python 解释器请求退出\n",
    "        TabError-----Tab 和空格混用\n",
    "        TypeError-----对类型无效的操作\n",
    "        UnboundLocalError-----访问未初始化的本地变量\n",
    "        UnicodeDecodeError-----Unicode 解码时的错误\n",
    "        UnicodeEncodeError-----Unicode 编码时错误\n",
    "        UnicodeError-----Unicode 相关的错误\n",
    "        UnicodeTranslateError-----Unicode 转换时错误\n",
    "        UserWarning-----用户代码生成的警告\n",
    "        ValueError-----传入无效的参数\n",
    "        Warning-----警告的基类\n",
    "        WindowsError-----系统调用失败\n",
    "        ZeroDivisionError-----除(或取模)零 (所有数据类型)"
   ]
  },
  {
   "cell_type": "markdown",
   "metadata": {},
   "source": [
    "# 异常处理\n",
    "  - 不能保证程序永远正确运行\n",
    "  - 但是，必须保证程序在最坏的情况下得到的问题被妥善处理\n",
    "  - python的异常处理模块全部语法：\n",
    "      \n",
    "      try:\n",
    "        尝试实现某个操作，\n",
    "        如果没有出现异常，任务就可以完成\n",
    "        如果出现异常，将异常从当前代码块扔出去尝试解决异常\n",
    "      \n",
    "      except 异常类型1：\n",
    "        解决方案1：用于尝试在此处处理异常解决问题\n",
    "      \n",
    "      except 异常类型2：\n",
    "        解决方案2：用于尝试在此处处理异常解决问题\n",
    "      \n",
    "      except (异常类型1,异常类型2 ...)\n",
    "        解决方案：针对多个异常使用相同的处理方式\n",
    "      \n",
    "      except ：\n",
    "        解决方案：所有异常的解决方案\n",
    "      \n",
    "      else：\n",
    "        如果没有出现任何异常，将会执行此处代码\n",
    "        \n",
    "      finally：\n",
    "        不论是否有异常都要执行此代码\n",
    "        \n",
    "  - 流程\n",
    "     - 1.执行try语句块\n",
    "     - 2.如果出现异常，则在except语句里查找对应异常并进行处理\n",
    "        - except可以有多个，从上往下一旦找到相应异常，则不再继续向下查看\n",
    "        - 所有异常都是继承自Exception，所以Exception应该作为最后的except，用于拦截所有异常\n",
    "     - 3.如果没有出现异常，则执行else语句内容\n",
    "     - 4.最后，不管是否出现异常，都要执行finally语句\n",
    "  - 除 except (最少一个)以外， else 和 finally 可选\n",
    "      "
   ]
  },
  {
   "cell_type": "code",
   "execution_count": 1,
   "metadata": {},
   "outputs": [
    {
     "name": "stdout",
     "output_type": "stream",
     "text": [
      "请输入数值：adsfa\n",
      "您的输入有误\n"
     ]
    }
   ],
   "source": [
    "# 简单异常案例\n",
    "try:\n",
    "    num = int(input('请输入数值：'))\n",
    "    rst = 100 / num\n",
    "    print('计算结果是：{0}'.format(rst))\n",
    "except:\n",
    "    print('您的输入有误')\n",
    "    # exit 是退出程序的意思\n",
    "    exit()"
   ]
  },
  {
   "cell_type": "code",
   "execution_count": 1,
   "metadata": {},
   "outputs": [
    {
     "name": "stdout",
     "output_type": "stream",
     "text": [
      "请输入数值：0\n",
      "您输入了非法数值0\n",
      "division by zero\n",
      "异常处理结束，已进入下面语句\n"
     ]
    }
   ],
   "source": [
    "# 简单异常案例\n",
    "# 给出提示信息\n",
    "try:\n",
    "    num = int(input('请输入数值：'))\n",
    "    rst = 100 / num\n",
    "    print('计算结果是：{0}'.format(rst))\n",
    "# 如果是多种error的情况\n",
    "# 需要把越具体的错误，越往前放\n",
    "# 在异常类继承关系中：越子类越往前放，越父类越往后放\n",
    "\n",
    "# 在处理异常时，一旦拦截到某一个异常，则不再继续往下查看\n",
    "# 直接进行下一个代码，即有finally则执行finally，否则就执行下一语句\n",
    "except ZeroDivisionError as e:\n",
    "    print('您输入了非法数值0')\n",
    "    print(e)\n",
    "    # exit 是退出程序的意思，应该是退出try语句块\n",
    "    #exit()\n",
    "except ValueError as e:\n",
    "    print('您的输入不是数值')\n",
    "    print(e)\n",
    "    # exit 是退出程序的意思\n",
    "    exit()\n",
    "\n",
    "# 所有异常都是继承自Exception\n",
    "# 任何异常都会被Exception拦截，所以Exception一定是最后一个except\n",
    "except Exception as e:\n",
    "    print('不知为何出错了')\n",
    "    print(e)\n",
    "\n",
    "# 如果 Exception 后还有异常，则该异常永远不会在此被截获\n",
    "except NameError as e:\n",
    "    print('名字错了')\n",
    "    print(e)\n",
    "    # exit 是退出程序的意思\n",
    "    exit()\n",
    "    \n",
    "print('异常处理结束，已进入下面语句')"
   ]
  },
  {
   "cell_type": "code",
   "execution_count": 10,
   "metadata": {},
   "outputs": [
    {
     "name": "stdout",
     "output_type": "stream",
     "text": [
      "请输入数值：9\n",
      "计算结果是：11.11111111111111\n",
      "No Exception\n",
      "我是finally，不论是否有异常，我都会出现\n"
     ]
    }
   ],
   "source": [
    "# else 语句案例\n",
    "\n",
    "try:\n",
    "    num = int(input('请输入数值：'))\n",
    "    rst = 100 / num\n",
    "    print('计算结果是：{0}'.format(rst))\n",
    "except Exception as e:\n",
    "    print('Exception异常')\n",
    "else:\n",
    "    print('No Exception')\n",
    "finally:\n",
    "    print('我是finally，不论是否有异常，我都会出现')"
   ]
  },
  {
   "cell_type": "markdown",
   "metadata": {},
   "source": [
    "# 用户手动引发异常\n",
    "  - 当某些情况，用户希望自己引发一个异常\n",
    "  - raise 关键字来引发异常\n",
    "  \n",
    "          raise error_name"
   ]
  },
  {
   "cell_type": "code",
   "execution_count": 9,
   "metadata": {},
   "outputs": [
    {
     "name": "stdout",
     "output_type": "stream",
     "text": [
      "我爱python\n",
      "3.14159265\n",
      "DaoValueError\n",
      "我是finally，不论是否有异常，我都会出现\n"
     ]
    }
   ],
   "source": [
    "# raise案例\n",
    "\n",
    "# 自己可以定义异常\n",
    "# 需要注意：\n",
    "#    1.自定义异常必须是系统异常的子类\n",
    "#    2.自定义异常也可以被它的父类截获，所以要注意except顺序\n",
    "class DaoValueError(ValueError):\n",
    "    pass\n",
    "\n",
    "try:\n",
    "    print('我爱python')\n",
    "    print(3.14159265)\n",
    "    # 手动引发一个异常\n",
    "    # 注意语法\n",
    "    raise DaoValueError\n",
    "    print('还没有结束啊')\n",
    "except NameError as e:\n",
    "    print('NameError')    \n",
    "except DaoValueError as e:\n",
    "    print('DaoValueError')\n",
    "except ValueError as e:\n",
    "    print('ValueError')\n",
    "#except DaoValueError as e:\n",
    "#    print('DaoValueError')\n",
    "except Exception as e:\n",
    "    print('有异常')\n",
    "finally:\n",
    "    print('我是finally，不论是否有异常，我都会出现')"
   ]
  },
  {
   "cell_type": "code",
   "execution_count": null,
   "metadata": {},
   "outputs": [],
   "source": [
    "# 关于自定义异常\n",
    "  - 只要是 raise 异常，则推荐自定义异常\n",
    "  - 在自定义异常的时候，一般包含以下内容：\n",
    "    - 自定义发生异常的异常代码\n",
    "    - 自定义发生异常后的问题提示\n",
    "    - 自定义发生异常的行数\n",
    "  - 最终的目的是，一旦发生异常，方便程序员快速定位错误现场\n"
   ]
  },
  {
   "cell_type": "code",
   "execution_count": null,
   "metadata": {},
   "outputs": [],
   "source": []
  }
 ],
 "metadata": {
  "kernelspec": {
   "display_name": "Python 3",
   "language": "python",
   "name": "python3"
  },
  "language_info": {
   "codemirror_mode": {
    "name": "ipython",
    "version": 3
   },
   "file_extension": ".py",
   "mimetype": "text/x-python",
   "name": "python",
   "nbconvert_exporter": "python",
   "pygments_lexer": "ipython3",
   "version": "3.6.5"
  }
 },
 "nbformat": 4,
 "nbformat_minor": 2
}
