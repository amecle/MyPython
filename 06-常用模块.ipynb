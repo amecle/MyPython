{
 "cells": [
  {
   "cell_type": "markdown",
   "metadata": {},
   "source": [
    "# 常用模块\n",
    " - 下列模块的使用，理论上都应该先导入，string是特例\n",
    " - calendar，time，datetime 的区别参考中文意思\n",
    " \n",
    "   - calendar\n",
    "   - time\n",
    "   - datetime\n",
    "   - timeit\n",
    "   - os\n",
    "   - shutil\n",
    "   - zip\n",
    "   - math\n",
    "   - string "
   ]
  },
  {
   "cell_type": "markdown",
   "metadata": {},
   "source": [
    "# calendar （实际工作中不常用）\n",
    "  - 跟日历相关的模块"
   ]
  },
  {
   "cell_type": "code",
   "execution_count": 2,
   "metadata": {},
   "outputs": [],
   "source": [
    "# 使用前需要先导入\n",
    "import calendar"
   ]
  },
  {
   "cell_type": "code",
   "execution_count": 12,
   "metadata": {},
   "outputs": [
    {
     "name": "stdout",
     "output_type": "stream",
     "text": [
      "<class 'str'>\n"
     ]
    }
   ],
   "source": [
    "# calendar：获取一年的日历字符串\n",
    "# 参数\n",
    "# w = 每个日期之间的间隔字符数\n",
    "# l = 每周所占用的行数\n",
    "# c = 每个月之间的间隔字符数\n",
    "cal = calendar.calendar(2018)\n",
    "print(type(cal))\n",
    "#print(cal)"
   ]
  },
  {
   "cell_type": "code",
   "execution_count": 14,
   "metadata": {},
   "outputs": [],
   "source": [
    "cal = calendar.calendar(2018,l=0,c=4)\n",
    "#print(cal)"
   ]
  },
  {
   "cell_type": "code",
   "execution_count": 15,
   "metadata": {},
   "outputs": [
    {
     "data": {
      "text/plain": [
       "True"
      ]
     },
     "execution_count": 15,
     "metadata": {},
     "output_type": "execute_result"
    }
   ],
   "source": [
    "# isleap ：判断某一年是否闰年\n",
    "calendar.isleap(2004)"
   ]
  },
  {
   "cell_type": "code",
   "execution_count": 16,
   "metadata": {},
   "outputs": [
    {
     "data": {
      "text/plain": [
       "4"
      ]
     },
     "execution_count": 16,
     "metadata": {},
     "output_type": "execute_result"
    }
   ],
   "source": [
    "# leapdays ：判断某一年是否闰年\n",
    "calendar.leapdays(2001,2018)"
   ]
  },
  {
   "cell_type": "code",
   "execution_count": 17,
   "metadata": {},
   "outputs": [
    {
     "name": "stdout",
     "output_type": "stream",
     "text": [
      "Help on function leapdays in module calendar:\n",
      "\n",
      "leapdays(y1, y2)\n",
      "    Return number of leap years in range [y1, y2).\n",
      "    Assume y1 <= y2.\n",
      "\n"
     ]
    }
   ],
   "source": [
    "help(calendar.leapdays)"
   ]
  },
  {
   "cell_type": "code",
   "execution_count": 19,
   "metadata": {},
   "outputs": [
    {
     "data": {
      "text/plain": [
       "-1"
      ]
     },
     "execution_count": 19,
     "metadata": {},
     "output_type": "execute_result"
    }
   ],
   "source": [
    "# 年份输入反了，返回-1\n",
    "calendar.leapdays(2001,1998)"
   ]
  },
  {
   "cell_type": "code",
   "execution_count": 20,
   "metadata": {},
   "outputs": [
    {
     "name": "stdout",
     "output_type": "stream",
     "text": [
      "     June 2018\n",
      "Mo Tu We Th Fr Sa Su\n",
      "             1  2  3\n",
      " 4  5  6  7  8  9 10\n",
      "11 12 13 14 15 16 17\n",
      "18 19 20 21 22 23 24\n",
      "25 26 27 28 29 30\n",
      "\n"
     ]
    }
   ],
   "source": [
    "# month() 获取某个月的日历字符串\n",
    "# 格式：calendar.month(yyyy,mm)\n",
    "# 返回值：月日历的字符串\n",
    "m = calendar.month(2018,6)\n",
    "print(m)"
   ]
  },
  {
   "cell_type": "code",
   "execution_count": 23,
   "metadata": {},
   "outputs": [
    {
     "name": "stdout",
     "output_type": "stream",
     "text": [
      "Help on function monthrange in module calendar:\n",
      "\n",
      "monthrange(year, month)\n",
      "    Return weekday (0-6 ~ Mon-Sun) and number of days (28-31) for\n",
      "    year, month.\n",
      "\n",
      "**********\n",
      "(4, 30)\n",
      "**********\n",
      "4\n",
      "30\n"
     ]
    }
   ],
   "source": [
    "# monthrange() 获取某个月是从周几开始的、和这个月的天数\n",
    "# 格式：calendar.monthrange(yyyy,mm)\n",
    "# 返回值：元组 ( 周几开始，总天数 )\n",
    "# 注意：周默认 0 - 6 表示周一到周日\n",
    "help(calendar.monthrange)\n",
    "print('**********')\n",
    "m = calendar.monthrange(2018,6)\n",
    "print(m)\n",
    "print('**********')\n",
    "w,t = calendar.monthrange(2018,6)\n",
    "print(w)\n",
    "print(t)\n"
   ]
  },
  {
   "cell_type": "code",
   "execution_count": 24,
   "metadata": {},
   "outputs": [
    {
     "name": "stdout",
     "output_type": "stream",
     "text": [
      "<class 'list'>\n",
      "[[0, 0, 0, 0, 1, 2, 3], [4, 5, 6, 7, 8, 9, 10], [11, 12, 13, 14, 15, 16, 17], [18, 19, 20, 21, 22, 23, 24], [25, 26, 27, 28, 29, 30, 0]]\n"
     ]
    }
   ],
   "source": [
    "# monthcalendar() 返回一个月每天的矩阵列表\n",
    "# 格式：calendar.monthcalendar(yyyy,mm)\n",
    "# 返回值：二级列表\n",
    "# 注意：矩阵中没有天数用0表示\n",
    "m = calendar.monthcalendar(2018,6)\n",
    "print(type(m))\n",
    "print(m)"
   ]
  },
  {
   "cell_type": "code",
   "execution_count": 26,
   "metadata": {},
   "outputs": [
    {
     "name": "stdout",
     "output_type": "stream",
     "text": [
      "                                  2018\n",
      "\n",
      "      January                   February                   March\n",
      "Mo Tu We Th Fr Sa Su      Mo Tu We Th Fr Sa Su      Mo Tu We Th Fr Sa Su\n",
      " 1  2  3  4  5  6  7                1  2  3  4                1  2  3  4\n",
      " 8  9 10 11 12 13 14       5  6  7  8  9 10 11       5  6  7  8  9 10 11\n",
      "15 16 17 18 19 20 21      12 13 14 15 16 17 18      12 13 14 15 16 17 18\n",
      "22 23 24 25 26 27 28      19 20 21 22 23 24 25      19 20 21 22 23 24 25\n",
      "29 30 31                  26 27 28                  26 27 28 29 30 31\n",
      "\n",
      "       April                      May                       June\n",
      "Mo Tu We Th Fr Sa Su      Mo Tu We Th Fr Sa Su      Mo Tu We Th Fr Sa Su\n",
      "                   1          1  2  3  4  5  6                   1  2  3\n",
      " 2  3  4  5  6  7  8       7  8  9 10 11 12 13       4  5  6  7  8  9 10\n",
      " 9 10 11 12 13 14 15      14 15 16 17 18 19 20      11 12 13 14 15 16 17\n",
      "16 17 18 19 20 21 22      21 22 23 24 25 26 27      18 19 20 21 22 23 24\n",
      "23 24 25 26 27 28 29      28 29 30 31               25 26 27 28 29 30\n",
      "30\n",
      "\n",
      "        July                     August                  September\n",
      "Mo Tu We Th Fr Sa Su      Mo Tu We Th Fr Sa Su      Mo Tu We Th Fr Sa Su\n",
      "                   1             1  2  3  4  5                      1  2\n",
      " 2  3  4  5  6  7  8       6  7  8  9 10 11 12       3  4  5  6  7  8  9\n",
      " 9 10 11 12 13 14 15      13 14 15 16 17 18 19      10 11 12 13 14 15 16\n",
      "16 17 18 19 20 21 22      20 21 22 23 24 25 26      17 18 19 20 21 22 23\n",
      "23 24 25 26 27 28 29      27 28 29 30 31            24 25 26 27 28 29 30\n",
      "30 31\n",
      "\n",
      "      October                   November                  December\n",
      "Mo Tu We Th Fr Sa Su      Mo Tu We Th Fr Sa Su      Mo Tu We Th Fr Sa Su\n",
      " 1  2  3  4  5  6  7                1  2  3  4                      1  2\n",
      " 8  9 10 11 12 13 14       5  6  7  8  9 10 11       3  4  5  6  7  8  9\n",
      "15 16 17 18 19 20 21      12 13 14 15 16 17 18      10 11 12 13 14 15 16\n",
      "22 23 24 25 26 27 28      19 20 21 22 23 24 25      17 18 19 20 21 22 23\n",
      "29 30 31                  26 27 28 29 30            24 25 26 27 28 29 30\n",
      "                                                    31\n",
      "\n",
      "Help on method pryear in module calendar:\n",
      "\n",
      "pryear(theyear, w=0, l=0, c=6, m=3) method of calendar.TextCalendar instance\n",
      "    Print a year's calendar.\n",
      "\n"
     ]
    }
   ],
   "source": [
    "# prcal: print calendar  直接打印日历\n",
    "calendar.prcal(2018)\n",
    "help(calendar.prcal)"
   ]
  },
  {
   "cell_type": "code",
   "execution_count": 28,
   "metadata": {},
   "outputs": [
    {
     "name": "stdout",
     "output_type": "stream",
     "text": [
      "     June 2018\n",
      "Mo Tu We Th Fr Sa Su\n",
      "             1  2  3\n",
      " 4  5  6  7  8  9 10\n",
      "11 12 13 14 15 16 17\n",
      "18 19 20 21 22 23 24\n",
      "25 26 27 28 29 30\n"
     ]
    }
   ],
   "source": [
    "# prmonth() 之间打印整个月的日历\n",
    "# 格式：calendar.prmonth(yyyy, mm)\n",
    "# 返回值：None\n",
    "calendar.prmonth(2018,6)"
   ]
  },
  {
   "cell_type": "code",
   "execution_count": 31,
   "metadata": {},
   "outputs": [
    {
     "data": {
      "text/plain": [
       "1"
      ]
     },
     "execution_count": 31,
     "metadata": {},
     "output_type": "execute_result"
    }
   ],
   "source": [
    "# weekday() 获取周几\n",
    "# 格式：calendar.weekday(yyyy, mm, dd )\n",
    "# 返回值：周几对应的数字（0-6 ~ Mon-Sun）\n",
    "calendar.weekday(2018,6,12)"
   ]
  },
  {
   "cell_type": "markdown",
   "metadata": {},
   "source": [
    "# time 模块  （实际工作中很常用）\n",
    "### 时间戳\n",
    "  - 一个时间表示，根据不同语音，可以是整数或者浮点数\n",
    "  - 是从 1970-01-01 00:00:00 秒，到现在经历的秒数\n",
    "  - 如果表示的时间是1970年以前或者太遥远的未来，可能出现异常\n",
    "  - 32 位操作系统能够支持到2038年\n",
    "  \n",
    "### UTC时间\n",
    "  - UTC又称为世界协调时间，以英国的格林尼治天文台所在地区的时间作为参考的时间，也叫做世界标准时间。\n",
    "  - 中国时间是 UTC+8 东八区\n",
    "  \n",
    "### 夏令时\n",
    "  - 夏令时就是在夏天的时候将时间调快一小时，本意是督促大家早睡早起节省蜡烛！每天变成25个小时，本质没变还是24小时。\n",
    "  \n",
    "### 时间元组\n",
    "  - 一个包含时间内容的普通元组\n",
    "  \n",
    "        索引    内容    属性        值\n",
    "        0      年     tm_year     2015\n",
    "        1      月     tm_mon      1~12\n",
    "        2      日     tm_mday     1~31\n",
    "        3      时     tm_hour     0~23\n",
    "        4      分     tm_min      0~59\n",
    "        5      秒     tm_sec      0~59 (60表示闰秒，61保留值)\n",
    "        6      周几    tm_wday     0~6\n",
    "        7      第几天   tm_yday     1~366\n",
    "        8      夏令时   tm_isdst    0, 1, -1 (表示夏令时)"
   ]
  },
  {
   "cell_type": "code",
   "execution_count": 33,
   "metadata": {},
   "outputs": [],
   "source": [
    "# 需要单独导入\n",
    "import time"
   ]
  },
  {
   "cell_type": "code",
   "execution_count": 36,
   "metadata": {},
   "outputs": [
    {
     "name": "stdout",
     "output_type": "stream",
     "text": [
      "-28800\n",
      "-32400\n",
      "0\n"
     ]
    }
   ],
   "source": [
    "# 时间模块的属性\n",
    "# timezone: 当前时区和 UTC 时间相差的秒数，在没有夏令时的情况下的间隔\n",
    "# altzone: 获取当前时区和 UTC 时间相差的秒数，在有夏令时的情况下\n",
    "# daylight: 测当前是否是夏令时时间状态，0表示是\n",
    "print(time.timezone)\n",
    "# 东八区，相差8小时，= 8 *3600\n",
    "\n",
    "print(time.altzone)\n",
    "\n",
    "print(time.daylight)\n"
   ]
  },
  {
   "cell_type": "code",
   "execution_count": 37,
   "metadata": {},
   "outputs": [
    {
     "data": {
      "text/plain": [
       "1528697362.9571881"
      ]
     },
     "execution_count": 37,
     "metadata": {},
     "output_type": "execute_result"
    }
   ],
   "source": [
    "# 得到时间戳(距1970年1月1日 00:00:00 的秒数)\n",
    "time.time()"
   ]
  },
  {
   "cell_type": "code",
   "execution_count": 47,
   "metadata": {},
   "outputs": [
    {
     "name": "stdout",
     "output_type": "stream",
     "text": [
      "time.struct_time(tm_year=2018, tm_mon=6, tm_mday=11, tm_hour=14, tm_min=38, tm_sec=20, tm_wday=0, tm_yday=162, tm_isdst=0)\n",
      "14\n",
      "2018\n",
      "<class 'time.struct_time'>\n"
     ]
    }
   ],
   "source": [
    "# localtime , 得到当前时间的时间结构\n",
    "# 可以通过点号操作符得到相应的属性元素的内容\n",
    "t = time.localtime()\n",
    "print(t)\n",
    "print(t.tm_hour)\n",
    "print(t[0])\n",
    "# 时间元组，所以也可以通过下标访问\n",
    "print(type(t))"
   ]
  },
  {
   "cell_type": "code",
   "execution_count": 51,
   "metadata": {},
   "outputs": [
    {
     "name": "stdout",
     "output_type": "stream",
     "text": [
      "<class 'str'>\n",
      "Mon Jun 11 14:40:46 2018\n"
     ]
    }
   ],
   "source": [
    "# asctime() 返回元组的正常字符串化之后的时间格式\n",
    "# 格式：time.asctime(时间元组)\n",
    "# 返回值：字符串 Mon Jun 11 14:40:46 2018\n",
    "t = time.localtime()\n",
    "\n",
    "tt = time.asctime(t)\n",
    "print(type(tt))\n",
    "print(tt)"
   ]
  },
  {
   "cell_type": "code",
   "execution_count": 62,
   "metadata": {},
   "outputs": [
    {
     "name": "stdout",
     "output_type": "stream",
     "text": [
      "<class 'str'>\n",
      "Mon Jun 11 14:41:30 2018\n"
     ]
    }
   ],
   "source": [
    "# ctime : 获取字符串化的当前时间\n",
    "t = time.ctime()\n",
    "print(type(t))\n",
    "print(t)"
   ]
  },
  {
   "cell_type": "code",
   "execution_count": 63,
   "metadata": {},
   "outputs": [
    {
     "name": "stdout",
     "output_type": "stream",
     "text": [
      "<class 'float'>\n",
      "1528699433.0\n"
     ]
    }
   ],
   "source": [
    "# mktime() 使用时间元组获取对应的时间戳\n",
    "# 格式：time.mktime(时间元组)\n",
    "# 返回值：浮点数时间戳\n",
    "\n",
    "lt = time.localtime()\n",
    "ts = time.mktime(lt)\n",
    "print(type(ts))\n",
    "print(ts)"
   ]
  },
  {
   "cell_type": "code",
   "execution_count": 75,
   "metadata": {},
   "outputs": [
    {
     "name": "stdout",
     "output_type": "stream",
     "text": [
      "3.0000679969841713\n"
     ]
    }
   ],
   "source": [
    "# clock : 获取cpu时间，3.0 - 3.3 版本直接使用，3.6调用有问题\n",
    "# 返回值：float型\n",
    "# （通常可以利用clock计算一段程序执行的时间）\n",
    "t0 = time.clock()\n",
    "time.sleep(3)\n",
    "t1 = time.clock()\n",
    "print(t1-t0)"
   ]
  },
  {
   "cell_type": "code",
   "execution_count": 71,
   "metadata": {},
   "outputs": [
    {
     "name": "stdout",
     "output_type": "stream",
     "text": [
      "0\n",
      "1\n",
      "2\n",
      "3\n",
      "4\n",
      "5\n",
      "6\n",
      "7\n",
      "8\n",
      "9\n"
     ]
    }
   ],
   "source": [
    "# sleep ：使程序进入睡眠，n秒后继续\n",
    "for i in range(10):\n",
    "    print(i)\n",
    "    time.sleep(1)"
   ]
  },
  {
   "cell_type": "code",
   "execution_count": 78,
   "metadata": {},
   "outputs": [
    {
     "name": "stdout",
     "output_type": "stream",
     "text": [
      "2018 06.11 15:12\n"
     ]
    }
   ],
   "source": [
    "# strftime：将时间元组转化为自定义的字符串格式\n",
    "'''\n",
    "格式 含义\n",
    "%a 本地的星期缩写\n",
    "%A 本地的星期全称\n",
    "%b 本地的月份缩写\n",
    "%B 本地的月份全称\n",
    "%c 本地的合适的日期和时间表示形式\n",
    "%d 月份中的第几天，类型为decimal number（10进制数字），范围[01,31]\n",
    "%f 微秒，类型为decimal number，范围[0,999999]，Python 2.6新增\n",
    "%H 小时（24进制），类型为decimal number，范围[00,23]\n",
    "%I 小时（12进制），类型为decimal number，范围[01,12]\n",
    "%j 一年中的第几天，类型为decimal number，范围[001,366]\n",
    "%m 月份，类型为decimal number，范围[01,12]\n",
    "%M 分钟，类型为decimal number，范围[00,59]\n",
    "%p 本地的上午或下午的表示（AM或PM），只当设置为%I（12进制）时才有效\n",
    "%S 秒钟，类型为decimal number，范围[00,61]（60和61是为了处理闰秒）\n",
    "%U 一年中的第几周（以星期日为一周的开始），类型为decimal number，范围[00,53]。在度过新年时，直到一周的全部7天都在该年中时，才计算为第0周。只当指定了年份才有效。\n",
    "%w 星期，类型为decimal number，范围[0,6]，0为星期日\n",
    "%W 一年中的第几周（以星期一为一周的开始），类型为decimal number，范围[00,53]。在度过新年时，直到一周的全部7天都在该年中时，才计算为第0周。只当指定了年份才有效。\n",
    "%x 本地的合适的日期表示形式\n",
    "%X 本地的合适的时间表示形式\n",
    "%y 去掉世纪的年份数，类型为decimal number，范围[00,99]\n",
    "%Y 带有世纪的年份数，类型为decimal number\n",
    "%Z 时区名字（不存在时区时为空）\n",
    "%% 代表转义的\"%\"字符\n",
    "'''\n",
    "# 把时间表示成： 2018 6.11 15:09\n",
    "t = time.localtime()\n",
    "ft = time.strftime('%Y %m.%d %H:%M',t)\n",
    "print(ft)"
   ]
  },
  {
   "cell_type": "markdown",
   "metadata": {},
   "source": [
    "# datetime模块\n",
    "  - datetime 提供日期和时间的运算和表示"
   ]
  },
  {
   "cell_type": "code",
   "execution_count": 80,
   "metadata": {},
   "outputs": [],
   "source": [
    "import datetime"
   ]
  },
  {
   "cell_type": "code",
   "execution_count": 86,
   "metadata": {},
   "outputs": [
    {
     "name": "stdout",
     "output_type": "stream",
     "text": [
      "<class 'datetime.date'>\n",
      "2018-06-11\n",
      "11\n",
      "2018\n",
      "6\n"
     ]
    }
   ],
   "source": [
    "# datetime 常见属性\n",
    "# datetime.date: 一个理想化的日期，提供year, month, day 属性\n",
    "print(datetime.date)\n",
    "\n",
    "dt = datetime.date(2018, 6, 11)\n",
    "print(dt)\n",
    "print(dt.day)\n",
    "print(dt.year)\n",
    "print(dt.month)\n"
   ]
  },
  {
   "cell_type": "code",
   "execution_count": 112,
   "metadata": {},
   "outputs": [
    {
     "name": "stdout",
     "output_type": "stream",
     "text": [
      "2018-06-11 15:30:34.545172\n",
      "2018-06-11 15:30:34.545172\n",
      "2018-06-11 15:30:34.545665\n"
     ]
    }
   ],
   "source": [
    "# datetime.time : 提供一个理想化的时间，具有hour, minute, sec, microsec 等内容\n",
    "# datetime.datetime : 提供日期跟时间的组合\n",
    "# datetime.timedelta : 提供一个时间差，时间长度\n",
    "from datetime import datetime\n",
    "# 常用类方法：\n",
    "# today\n",
    "# now\n",
    "# utcnow\n",
    "# fromtimestamp : 从时间戳中返回本地时间\n",
    "dt = datetime(2018, 6, 11)\n",
    "print(dt.today())\n",
    "print(dt.now())\n",
    "\n",
    "print(dt.fromtimestamp(time.time()))"
   ]
  },
  {
   "cell_type": "code",
   "execution_count": 132,
   "metadata": {},
   "outputs": [
    {
     "name": "stdout",
     "output_type": "stream",
     "text": [
      "2018-06-11 16:38:07\n",
      "2018-06-11 17:38:07\n"
     ]
    }
   ],
   "source": [
    "# datetime.timedelta (用的比较多)\n",
    "# 表示一个时间间隔\n",
    "\n",
    "from datetime import datetime, timedelta\n",
    "t1 = datetime.now()\n",
    "print(t1.strftime('%Y-%m-%d %H:%M:%S'))\n",
    "# td 表示一小时的时间长度\n",
    "td = timedelta(hours=1)\n",
    "# 当前时间加上一小时的时间间隔后，把得到的时间格式化输出\n",
    "print((t1+td).strftime('%Y-%m-%d %H:%M:%S'))"
   ]
  },
  {
   "cell_type": "markdown",
   "metadata": {},
   "source": [
    "# timeit 模块\n",
    "  - 时间测量工具"
   ]
  },
  {
   "cell_type": "code",
   "execution_count": 118,
   "metadata": {},
   "outputs": [
    {
     "name": "stdout",
     "output_type": "stream",
     "text": [
      "2.0009098052978516\n"
     ]
    }
   ],
   "source": [
    "# timeit : 时间测量工具\n",
    "\n",
    "# 测量程序运行时间间隔\n",
    "def p():\n",
    "    time.sleep(2)\n",
    "\n",
    "t1 = time.time()\n",
    "p()\n",
    "print(time.time()-t1)"
   ]
  },
  {
   "cell_type": "code",
   "execution_count": 122,
   "metadata": {},
   "outputs": [
    {
     "name": "stdout",
     "output_type": "stream",
     "text": [
      "4.151316810779008\n",
      "10.216883009692083\n"
     ]
    }
   ],
   "source": [
    "import timeit\n",
    "# 生成列表的两种方法的比较\n",
    "# 如果单纯比较生成一个列表的时间，可能很难实现\n",
    "c = '''\n",
    "lst = []\n",
    "for i in range(1000):\n",
    "    lst.append(i)\n",
    "'''\n",
    "\n",
    "# 利用timeit调用代码，执行100000 次，返回运行时间   \n",
    "t1 = timeit.timeit(stmt='[i for i in range(1000)]',number=100000)\n",
    "t2 = timeit.timeit(stmt=c,number=100000)\n",
    "print(t1)\n",
    "print(t2)"
   ]
  },
  {
   "cell_type": "code",
   "execution_count": 123,
   "metadata": {},
   "outputs": [
    {
     "name": "stdout",
     "output_type": "stream",
     "text": [
      "Help on function timeit in module timeit:\n",
      "\n",
      "timeit(stmt='pass', setup='pass', timer=<built-in function perf_counter>, number=1000000, globals=None)\n",
      "    Convenience function to create Timer object and call timeit method.\n",
      "\n"
     ]
    }
   ],
   "source": [
    "help(timeit.timeit)"
   ]
  },
  {
   "cell_type": "code",
   "execution_count": 126,
   "metadata": {},
   "outputs": [
    {
     "name": "stdout",
     "output_type": "stream",
     "text": [
      "Repeat for 0\n",
      "Repeat for 1\n",
      "Repeat for 2\n",
      "Repeat for 0\n",
      "Repeat for 1\n",
      "Repeat for 2\n",
      "Repeat for 0\n",
      "Repeat for 1\n",
      "Repeat for 2\n",
      "Repeat for 0\n",
      "Repeat for 1\n",
      "Repeat for 2\n",
      "Repeat for 0\n",
      "Repeat for 1\n",
      "Repeat for 2\n",
      "Repeat for 0\n",
      "Repeat for 1\n",
      "Repeat for 2\n",
      "Repeat for 0\n",
      "Repeat for 1\n",
      "Repeat for 2\n",
      "Repeat for 0\n",
      "Repeat for 1\n",
      "Repeat for 2\n",
      "Repeat for 0\n",
      "Repeat for 1\n",
      "Repeat for 2\n",
      "Repeat for 0\n",
      "Repeat for 1\n",
      "Repeat for 2\n",
      "0.0007488221340281598\n"
     ]
    }
   ],
   "source": [
    "# timeit 可以执行一个函数，来测量一个函数的执行时间\n",
    "def doIt():\n",
    "    num = 3\n",
    "    for i in range(num):\n",
    "        print('Repeat for {0}'.format(i))\n",
    "\n",
    "# 执行函数，重复10次        \n",
    "t = timeit.timeit(stmt=doIt, number=10)\n",
    "print(t)"
   ]
  },
  {
   "cell_type": "code",
   "execution_count": 131,
   "metadata": {},
   "outputs": [
    {
     "name": "stdout",
     "output_type": "stream",
     "text": [
      "Repeat for 0\n",
      "Repeat for 1\n",
      "Repeat for 2\n",
      "Repeat for 0\n",
      "Repeat for 1\n",
      "Repeat for 2\n",
      "Repeat for 0\n",
      "Repeat for 1\n",
      "Repeat for 2\n",
      "Repeat for 0\n",
      "Repeat for 1\n",
      "Repeat for 2\n",
      "Repeat for 0\n",
      "Repeat for 1\n",
      "Repeat for 2\n",
      "Repeat for 0\n",
      "Repeat for 1\n",
      "Repeat for 2\n",
      "Repeat for 0\n",
      "Repeat for 1\n",
      "Repeat for 2\n",
      "Repeat for 0\n",
      "Repeat for 1\n",
      "Repeat for 2\n",
      "Repeat for 0\n",
      "Repeat for 1\n",
      "Repeat for 2\n",
      "Repeat for 0\n",
      "Repeat for 1\n",
      "Repeat for 2\n",
      "0.0010648584311638842\n"
     ]
    }
   ],
   "source": [
    "s = '''\n",
    "def doIt(num):\n",
    "    for i in range(num):\n",
    "        print('Repeat for {0}'.format(i))\n",
    "\n",
    "'''\n",
    "# 执行doIt(num)\n",
    "# setup 负责把环境变量准备好\n",
    "# 实际相当于给timeit创造了一个小环境\n",
    "# 在创建的小环境中，代码执行的顺序是：\n",
    "'''\n",
    "def doIt(num):\n",
    "    ......\n",
    "num = 3\n",
    "\n",
    "doIt(num)\n",
    "'''\n",
    "    \n",
    "\n",
    "#t = timeit.timeit('doIt(num)', setup=s+'num=3', number=10)\n",
    "t = timeit.timeit('doIt(num)', setup=s+'num=3', number=10)\n",
    "print(t)"
   ]
  },
  {
   "cell_type": "markdown",
   "metadata": {},
   "source": [
    "# datetime.datetime 模块\n",
    "  - 提供比较好用的时间而已\n",
    "  - 类定义\n",
    "  \n",
    "      class datetime(year,month,day[,hour\n",
    "          [,minute\n",
    "          [,second\n",
    "          [,microsecond\n",
    "          [,tzinfo]]]]])\n",
    "      \\# The year,month and day arguments are requird.\n",
    "\n",
    "          MINYEAR <= year <=MAXYEAR\n",
    "          1 <= month <= 12\n",
    "          1 <= day <= n\n",
    "          0 <= hour < 24\n",
    "          0 <= minute < 60\n",
    "          0 <= second < 60\n",
    "          0 <= microsecond < 10**\n",
    "\n",
    "  - 类方法\n",
    "    \n",
    "   - datetime.today()\n",
    "   - datetime.fromtimestamp(time.time())\n",
    "   - datetime.now([tz])\n",
    "   - datetime.utcnow()\n",
    "   - datetime.fromtimestamp(timestamp[,tz])\n",
    "   - datetime.utcfromtimestamp(timestamp)\n",
    "   - datetime.fromordinal(ordinal)\n",
    "   - datetime.combine(date,time)\n",
    "   - datetime.strptime(date_string,format)\n",
    "    \n",
    "  - 实例方法\n",
    "   \n",
    "   - datetime.date()\n",
    "   - datetime.time()\n",
    "   - datetime.replace(kw)\n",
    "    \n",
    "  - 类属性\n",
    "  \n",
    "   - datetime.min \n",
    "   - datetime.max \n",
    "    \n",
    "  - 实例属性\n",
    "  \n",
    "   - datetime.year  \n",
    "   - datetime.month \n",
    "   - datetime.day \n",
    "   - datetime.hour \n",
    "   - datetime.minute \n",
    "   - datetime.second \n",
    "   - datetime.microsecond "
   ]
  },
  {
   "cell_type": "code",
   "execution_count": 141,
   "metadata": {},
   "outputs": [
    {
     "name": "stdout",
     "output_type": "stream",
     "text": [
      "2018-06-11 17:30:45.589045\n"
     ]
    }
   ],
   "source": [
    "from datetime import datetime as dt\n",
    "\n",
    "print(dt.now())"
   ]
  },
  {
   "cell_type": "markdown",
   "metadata": {},
   "source": [
    "# os - 操作系统相关\n",
    "  - 跟操作系统相关，主要是文件操作\n",
    "  - 与系统相关的操作，主要包含在三个模块里\n",
    "    - os , 操作系统目录相关\n",
    "    - os.path , 系统路径相关操作\n",
    "    - shutil , 高级文件操作，目录树的操作，文件复制，删除，移动\n",
    "  - 路径：\n",
    "    - 绝对路径：总是从根目录开始\n",
    "    - 相对路径：基本以当前环境为开始的一个相对的地方"
   ]
  },
  {
   "cell_type": "code",
   "execution_count": 142,
   "metadata": {},
   "outputs": [],
   "source": [
    "import os"
   ]
  },
  {
   "cell_type": "code",
   "execution_count": 144,
   "metadata": {},
   "outputs": [
    {
     "name": "stdout",
     "output_type": "stream",
     "text": [
      "C:\\Users\\houjie\\ameclePython\\03-python高级语法\n"
     ]
    }
   ],
   "source": [
    "# getcwd() 获取当前的工作目录\n",
    "# os.getcwd()\n",
    "# 返回值：当前工作目录的字符串\n",
    "# 当前工作目录就是程序在进行文件相关操作，默认查找文件的目录\n",
    "\n",
    "mydir = os.getcwd()\n",
    "print(mydir)"
   ]
  },
  {
   "cell_type": "code",
   "execution_count": 150,
   "metadata": {},
   "outputs": [
    {
     "name": "stdout",
     "output_type": "stream",
     "text": [
      "C:\\Users\\houjie\\ameclePython\n"
     ]
    }
   ],
   "source": [
    "# chdir() 改变当前的工作目录\n",
    "# change directory\n",
    "# os.chdir(路径)\n",
    "# 返回值：无\n",
    "\n",
    "os.chdir('C:/Users/houjie/ameclePython')\n",
    "mydir2 = os.getcwd()\n",
    "print(mydir2)"
   ]
  },
  {
   "cell_type": "code",
   "execution_count": 153,
   "metadata": {},
   "outputs": [
    {
     "name": "stdout",
     "output_type": "stream",
     "text": [
      "['.ipynb_checkpoints', '02-基础语法', '03-python高级语法', 'Untitled1.ipynb', 'Untitled2.ipynb', '项目实战+课程名称.txt']\n"
     ]
    }
   ],
   "source": [
    "# listdir() 获取一个目录中所有子目录和文件的名称列表\n",
    "# os.listdir(路径)\n",
    "# 返回值：所有子目录和文件名称的列表\n",
    "#help(os.listdir)\n",
    "\n",
    "ld = os.listdir()\n",
    "print(ld)\n",
    "# 名称以 .开头的文件，是隐藏文件\n",
    "# 在Linux系统中，ls显示文件列表（不含隐藏文件）\n",
    "# ll显示全部文件列表（包含隐藏文件）"
   ]
  },
  {
   "cell_type": "code",
   "execution_count": 192,
   "metadata": {},
   "outputs": [
    {
     "name": "stdout",
     "output_type": "stream",
     "text": [
      "None\n",
      "['.ipynb_checkpoints', '02-基础语法', '03-python高级语法', 'daodao', 'Untitled1.ipynb', 'Untitled2.ipynb', '项目实战+课程名称.txt']\n"
     ]
    }
   ],
   "source": [
    "# makedirs() 递归创建文件夹\n",
    "# os.makedirs(递归路径)\n",
    "# 返回值：无\n",
    "# 递归路径：多个文件夹层层包含的路径就是递归路径\n",
    "#help(os.makedirs)\n",
    "\n",
    "rst = os.makedirs('daodao')\n",
    "print(rst)\n",
    "print(os.listdir())"
   ]
  },
  {
   "cell_type": "code",
   "execution_count": 191,
   "metadata": {},
   "outputs": [
    {
     "name": "stdout",
     "output_type": "stream",
     "text": [
      "['.ipynb_checkpoints', '02-基础语法', '03-python高级语法', 'Untitled1.ipynb', 'Untitled2.ipynb', '项目实战+课程名称.txt']\n"
     ]
    }
   ],
   "source": [
    "# removedirs() 递归创建文件夹\n",
    "# os.makedirs(递归路径)\n",
    "# 返回值：无\n",
    "# 递归路径：多个文件夹层层包含的路径就是递归路径\n",
    "#help(os.makedirs)\n",
    "os.removedirs('daodao')\n",
    "print(os.listdir())"
   ]
  },
  {
   "cell_type": "markdown",
   "metadata": {},
   "source": [
    "- 下面案例在Linux系统下运行\n",
    "- ls - Linux系统命令，显示当前路径下的文件列表\n",
    "- touch test.py - Linux系统命令，在当前路径下创建test.py文件\n",
    "- os.system('系统命令') ：当系统命令顺利执行时，返回0"
   ]
  },
  {
   "cell_type": "code",
   "execution_count": 184,
   "metadata": {},
   "outputs": [
    {
     "name": "stdout",
     "output_type": "stream",
     "text": [
      "0\n"
     ]
    }
   ],
   "source": [
    "# system() 运行系统shell命令\n",
    "# os.system(系统命令)\n",
    "# 返回值：打开一个shell或者终端界面\n",
    "# ls是列出当前文件和文件夹的系统命令\n",
    "# help(os.system)\n",
    "# Linux 系统命令：ls - 文件列表；touch test.py - 创建文件\n",
    "# 一般推荐使用 subprocess 代替 system 命令\n",
    "rst = os.system('ls')  # 正确执行返回0\n",
    "print(rst)\n",
    "\n",
    "# 在当前目录下创建一个 dao.dd 的文件\n",
    "rst = os.system('touch test.py')  # 正确执行返回0\n",
    "print(rst)"
   ]
  },
  {
   "cell_type": "markdown",
   "metadata": {},
   "source": [
    "- 下面案例在Windows系统下运行\n",
    "- rmdir - Windows系统命令，在当前路径下删除daodao文件夹\n",
    "- os.system('系统命令') ：当系统命令顺利执行时，返回0"
   ]
  },
  {
   "cell_type": "code",
   "execution_count": 193,
   "metadata": {},
   "outputs": [
    {
     "name": "stdout",
     "output_type": "stream",
     "text": [
      "0\n"
     ]
    }
   ],
   "source": [
    "rst = os.system('rmdir daodao') # 正确执行返回0\n",
    "print(rst)"
   ]
  },
  {
   "cell_type": "code",
   "execution_count": 195,
   "metadata": {},
   "outputs": [
    {
     "name": "stdout",
     "output_type": "stream",
     "text": [
      "C:\\ProgramData\\Anaconda3;C:\\ProgramData\\Anaconda3\\Library\\mingw-w64\\bin;C:\\ProgramData\\Anaconda3\\Library\\usr\\bin;C:\\ProgramData\\Anaconda3\\Library\\bin;C:\\ProgramData\\Anaconda3\\Scripts;C:\\ProgramData\\Anaconda3;C:\\ProgramData\\Anaconda3\\Library\\mingw-w64\\bin;C:\\ProgramData\\Anaconda3\\Library\\usr\\bin;C:\\ProgramData\\Anaconda3\\Library\\bin;C:\\ProgramData\\Anaconda3\\Scripts;C:\\Program Files\\Broadcom\\Broadcom 802.11 Network Adapter;C:\\Program Files (x86)\\NVIDIA Corporation\\PhysX\\Common;C:\\Program Files (x86)\\Intel\\iCLS Client\\;C:\\Program Files\\Intel\\iCLS Client\\;C:\\WINDOWS\\system32;C:\\WINDOWS;C:\\WINDOWS\\System32\\Wbem;C:\\WINDOWS\\System32\\WindowsPowerShell\\v1.0\\;C:\\Program Files\\Intel\\Intel(R) Management Engine Components\\DAL;C:\\Program Files\\Intel\\Intel(R) Management Engine Components\\IPT;C:\\Program Files (x86)\\Intel\\Intel(R) Management Engine Components\\DAL;C:\\Program Files (x86)\\Intel\\Intel(R) Management Engine Components\\IPT;C:\\Program Files\\WIDCOMM\\Bluetooth Software\\;C:\\Program Files\\WIDCOMM\\Bluetooth Software\\syswow64;C:\\Program Files\\Git\\cmd;C:\\Users\\houjie\\AppData\\Local\\Microsoft\\WindowsApps;C:\\Program Files\\Microsoft VS Code\\bin\n"
     ]
    }
   ],
   "source": [
    "# getenv() 获取指定的系统环境变量值\n",
    "# os.getenv('环境变量名')\n",
    "# 返回值 ：指定环境变量名对应的值\n",
    "rst = os.getenv('PATH')\n",
    "print(rst)"
   ]
  },
  {
   "cell_type": "markdown",
   "metadata": {},
   "source": [
    "相应的还有: putenv() 添加一个环境变量"
   ]
  },
  {
   "cell_type": "code",
   "execution_count": 198,
   "metadata": {},
   "outputs": [],
   "source": [
    "# exit() 退出当前程序\n",
    "# exit()\n",
    "# 返回值：无\n",
    "exit()"
   ]
  },
  {
   "cell_type": "markdown",
   "metadata": {},
   "source": [
    "# 值部分\n",
    "  - os.curdir : current dir, 当前目录\n",
    "  - os.pardir : parent dir, 父目录\n",
    "  - os.sep : 当前系统的路径分隔符\n",
    "    - windows : '\\'\n",
    "    - unix,linux,macos : '/'\n",
    "  - os.linesep : 当前系统的换行符号\n",
    "    - windows : '\\r\\n'\n",
    "    - unix,linux,macos : '\\n'\n",
    "  - os.name : 当前系统名称\n",
    "    - windows : 'nt'\n",
    "    - unix,linux,macos : 'posix'\n",
    "\n",
    "  \n",
    "  - 特别注意：在路径相关的操作中，不要手动拼写地址，因为收到拼写的路径可能不具有移植性"
   ]
  },
  {
   "cell_type": "code",
   "execution_count": 14,
   "metadata": {},
   "outputs": [
    {
     "name": "stdout",
     "output_type": "stream",
     "text": [
      "..\n",
      ".\n",
      "\\\n",
      "nt\n"
     ]
    }
   ],
   "source": [
    "print(os.pardir)\n",
    "print(os.curdir)\n",
    "print(os.sep)\n",
    "print(os.name)"
   ]
  },
  {
   "cell_type": "code",
   "execution_count": 16,
   "metadata": {},
   "outputs": [
    {
     "name": "stdout",
     "output_type": "stream",
     "text": [
      "\r\n",
      "\n"
     ]
    }
   ],
   "source": [
    "print(os.linesep)  #  '\\r\\n' 所以不可见，占两行"
   ]
  },
  {
   "cell_type": "markdown",
   "metadata": {},
   "source": [
    "# os.path 模块，跟路径相关的模块"
   ]
  },
  {
   "cell_type": "code",
   "execution_count": 18,
   "metadata": {},
   "outputs": [],
   "source": [
    "import os.path as op"
   ]
  },
  {
   "cell_type": "code",
   "execution_count": 22,
   "metadata": {},
   "outputs": [
    {
     "name": "stdout",
     "output_type": "stream",
     "text": [
      "C:\\Users\\houjie\\ameclePython\\03-python高级语法\n",
      "C:\\Users\\houjie\\ameclePython\n"
     ]
    }
   ],
   "source": [
    "# abspath() 将路径转化为绝对路径\n",
    "# absolute 绝对\n",
    "# os.path.abspath('路径')\n",
    "# 返回值：路径的绝对路径形式\n",
    "\n",
    "# Linux 中\n",
    "# . 点号，代表当前目录\n",
    "# .. 双点，代表父目录\n",
    "absp = op.abspath('.')\n",
    "print(absp)\n",
    "absp = op.abspath('..')\n",
    "print(absp)"
   ]
  },
  {
   "cell_type": "code",
   "execution_count": 33,
   "metadata": {},
   "outputs": [
    {
     "name": "stdout",
     "output_type": "stream",
     "text": [
      "abc.abc\n"
     ]
    },
    {
     "data": {
      "text/plain": [
       "''"
      ]
     },
     "execution_count": 33,
     "metadata": {},
     "output_type": "execute_result"
    }
   ],
   "source": [
    "# basename() 获取路径中的文件名部分\n",
    "# os.path.basename(路径)\n",
    "# 返回值：文件名字符串\n",
    "\n",
    "bn1 = op.basename('C:/Users/abc.abc')\n",
    "print(bn1)\n",
    "bn2 = op.basename(absp+'/')\n",
    "bn2\n",
    "# basename 只按字符串截取最后一个路径分隔符之后的内容\n",
    "# 截取到的字符串，是否是文件,是否存在，不做判断\n",
    "# 如果路径以路径分隔符结尾，则返回空字符串"
   ]
  },
  {
   "cell_type": "code",
   "execution_count": 47,
   "metadata": {},
   "outputs": [
    {
     "name": "stdout",
     "output_type": "stream",
     "text": [
      "Help on function join in module ntpath:\n",
      "\n",
      "join(path, *paths)\n",
      "    # Join two (or more) paths.\n",
      "\n"
     ]
    },
    {
     "data": {
      "text/plain": [
       "'C:\\\\Users\\\\houjie\\\\ameclePython\\\\03-python高级语法\\\\daodao.py'"
      ]
     },
     "execution_count": 47,
     "metadata": {},
     "output_type": "execute_result"
    }
   ],
   "source": [
    "# join() 将多个路径自动拼合成一个路径\n",
    "# os.path.join(路径1, 路径2, ...)\n",
    "# 返回值：组合之后的新路径字符串\n",
    "\n",
    "help(op.join)\n",
    "\n",
    "op.join(op.abspath('.'),'daodao.py')\n",
    "# 如果多个参数中，有部分路径重复，join会自动剔除重复部分"
   ]
  },
  {
   "cell_type": "code",
   "execution_count": 50,
   "metadata": {},
   "outputs": [
    {
     "name": "stdout",
     "output_type": "stream",
     "text": [
      "('C:\\\\Users\\\\houjie\\\\ameclePython', '03-python高级语法')\n",
      "C:\\Users\\houjie\\ameclePython 03-python高级语法\n"
     ]
    }
   ],
   "source": [
    "# split() 将路径切割为文件夹部分和当前文件部分\n",
    "# os.path.split(路径)\n",
    "# 返回值：路径和文件名组成的元组\n",
    "\n",
    "t = op.split(op.abspath('.'))\n",
    "print(t)\n",
    "k,w = t\n",
    "print(k,w)"
   ]
  },
  {
   "cell_type": "code",
   "execution_count": 70,
   "metadata": {},
   "outputs": [
    {
     "name": "stdout",
     "output_type": "stream",
     "text": [
      "True\n"
     ]
    },
    {
     "data": {
      "text/plain": [
       "False"
      ]
     },
     "execution_count": 70,
     "metadata": {},
     "output_type": "execute_result"
    }
   ],
   "source": [
    "# isdir() 检查是否是目录（主要检查是否有这个目录）\n",
    "# os.path.isdir(路径)\n",
    "# 返回值：布尔值\n",
    "\n",
    "rst = op.isdir(absp)\n",
    "print(rst)\n",
    "rst = op.isdir('C:/Users/houjie/ameclePython/新建文件夹/')\n",
    "rst"
   ]
  },
  {
   "cell_type": "code",
   "execution_count": 72,
   "metadata": {},
   "outputs": [
    {
     "name": "stdout",
     "output_type": "stream",
     "text": [
      "False\n"
     ]
    },
    {
     "data": {
      "text/plain": [
       "True"
      ]
     },
     "execution_count": 72,
     "metadata": {},
     "output_type": "execute_result"
    }
   ],
   "source": [
    "# exists() 检测文件或目录是否存在\n",
    "# os.path.exists(路径)\n",
    "# 返回值：布尔值\n",
    "\n",
    "e = op.exists('C:/Users/houjie/ameclePython/新建文件夹/')\n",
    "print(e)\n",
    "e = op.exists(absp)\n",
    "e"
   ]
  },
  {
   "cell_type": "markdown",
   "metadata": {},
   "source": [
    "# shutil 模块"
   ]
  },
  {
   "cell_type": "code",
   "execution_count": 74,
   "metadata": {},
   "outputs": [],
   "source": [
    "import shutil"
   ]
  },
  {
   "cell_type": "code",
   "execution_count": 77,
   "metadata": {},
   "outputs": [
    {
     "name": "stdout",
     "output_type": "stream",
     "text": [
      "C:\\Users\\houjie\\ameclePython\n",
      "C:\\Users\\houjie\\ameclePython/b.txt\n"
     ]
    }
   ],
   "source": [
    "# copy() 复制文件\n",
    "# shutil.copy(源路径, 目标路径)\n",
    "# 返回值：目标路径\n",
    "# 拷贝的同时，可以给文件重命名\n",
    "print(absp)\n",
    "rst = shutil.copy(absp+'/a.txt',absp+'/b.txt')\n",
    "print(rst)"
   ]
  },
  {
   "cell_type": "markdown",
   "metadata": {},
   "source": [
    "- 上例：把absp目录下的a.txt文件拷贝为b.txt文件，\n",
    "- 相当于：拷贝并重命名\n",
    "- 如果已有目标文件，会覆盖"
   ]
  },
  {
   "cell_type": "code",
   "execution_count": 78,
   "metadata": {},
   "outputs": [],
   "source": [
    "# copy2() 复制文件，保留元数据（文件信息：如创建时间、权限等）\n",
    "# shutil.copy2(源路径, 目标路径)\n",
    "# 返回值：目标路径\n",
    "# 与copy的区别在于：copy2复制文件时尽量保留元数据"
   ]
  },
  {
   "cell_type": "code",
   "execution_count": 88,
   "metadata": {},
   "outputs": [
    {
     "name": "stdout",
     "output_type": "stream",
     "text": [
      "b.txt\n"
     ]
    }
   ],
   "source": [
    "# copyfile() 将一个文件中的内容复制到另一个文件当中\n",
    "# shutil.copyfile(源路径, 目标路径)\n",
    "# 返回值：目标路径\n",
    "\n",
    "#help(shutil.copyfile)\n",
    "\n",
    "# 在当前路径下，进行 copyfile()\n",
    "rst1 = shutil.copyfile('a.txt','b.txt')\n",
    "print(rst1)\n",
    "# 和上面 copy() 覆盖的例子效果很相似"
   ]
  },
  {
   "cell_type": "code",
   "execution_count": 96,
   "metadata": {},
   "outputs": [
    {
     "name": "stdout",
     "output_type": "stream",
     "text": [
      "../b.txt\n"
     ]
    }
   ],
   "source": [
    "# move() 移动文件/文件夹\n",
    "# shutil.move(源路径, 目标路径)\n",
    "# 返回值：目标路径\n",
    "# 可以重命名\n",
    "# 覆盖：文件可以覆盖文件，文件夹不能覆盖文件\n",
    "\n",
    "# 将当前目录中的 a.txt 文件移动到父目录中并重命名为 b.txt\n",
    "rst1 = shutil.move('./a.txt','../b.txt')\n",
    "print(rst1)"
   ]
  },
  {
   "cell_type": "markdown",
   "metadata": {},
   "source": [
    "# 归档和压缩\n",
    "  - 归档：把多个文件或者文件夹合并到一个文件当中\n",
    "  - 压缩：用算法把多个文件或者文件夹无损或者有损合并到一个文件当中"
   ]
  },
  {
   "cell_type": "code",
   "execution_count": 100,
   "metadata": {},
   "outputs": [
    {
     "data": {
      "text/plain": [
       "'C:\\\\Users\\\\houjie\\\\ameclePython\\\\gd.zip'"
      ]
     },
     "execution_count": 100,
     "metadata": {},
     "output_type": "execute_result"
    }
   ],
   "source": [
    "# make_archive() 归档操作\n",
    "# shutil.make_archive('归档之后的目录和文件名','后缀','需要归档的文件夹') \n",
    "# 返回值：归档之后的地址\n",
    "#help(shutil.make_archive)\n",
    "\n",
    "rst = shutil.make_archive('../gd','zip','./1')\n",
    "rst"
   ]
  },
  {
   "cell_type": "code",
   "execution_count": 105,
   "metadata": {},
   "outputs": [
    {
     "name": "stdout",
     "output_type": "stream",
     "text": [
      "None\n"
     ]
    }
   ],
   "source": [
    "# unpack_archive() 解包操作\n",
    "# shutil.unpack_archive('归档文件地址','解包之后的地址')\n",
    "# 返回值：None\n",
    "\n",
    "rst = shutil.unpack_archive('../gd.zip','./1/1')\n",
    "print(rst)"
   ]
  },
  {
   "cell_type": "markdown",
   "metadata": {},
   "source": [
    "# zip-压缩包\n",
    "  - 木块名称：zipfile"
   ]
  },
  {
   "cell_type": "code",
   "execution_count": 110,
   "metadata": {},
   "outputs": [],
   "source": [
    "import zipfile"
   ]
  },
  {
   "cell_type": "code",
   "execution_count": 109,
   "metadata": {},
   "outputs": [],
   "source": [
    "# zipfile.ZipFile(file[, mode[, compression[, allowZip64]]])\n",
    "# 创建一个ZipFile对象，表示一个zip文件。参数file表示文件的路径或类文件对象(file - like object)\n",
    "\n",
    "zf = zipfile.ZipFile('../gd.zip')"
   ]
  },
  {
   "cell_type": "code",
   "execution_count": 111,
   "metadata": {},
   "outputs": [
    {
     "name": "stdout",
     "output_type": "stream",
     "text": [
      "<ZipInfo filename='a.txt' compress_type=deflate filemode='-rw-rw-rw-' file_size=30 compress_size=32>\n"
     ]
    }
   ],
   "source": [
    "# ZipFile.getinfo(name)\n",
    "# 获取zip文档内指定文件的信息。返回一个zipfile.ZipInfo对象，它包括文件的详细信息。\n",
    "\n",
    "rst = zf.getinfo('a.txt')\n",
    "print(rst)"
   ]
  },
  {
   "cell_type": "code",
   "execution_count": 112,
   "metadata": {},
   "outputs": [
    {
     "name": "stdout",
     "output_type": "stream",
     "text": [
      "['123/', 'a.txt', 'b.txt', '123/a.txt']\n"
     ]
    }
   ],
   "source": [
    "# ZipFile.namelist()\n",
    "# 获取zip文档内所有文件的名称列表\n",
    "\n",
    "rst = zf.namelist()\n",
    "print(rst)"
   ]
  },
  {
   "cell_type": "code",
   "execution_count": 114,
   "metadata": {},
   "outputs": [
    {
     "name": "stdout",
     "output_type": "stream",
     "text": [
      "None\n"
     ]
    }
   ],
   "source": [
    "# ZipFile.extractall([path[, members[,pwd]]])\n",
    "# 解压zip文档中的所有文件到当前目录。参数members的默认值为zip文档内的所有文件名称列表\n",
    "\n",
    "rst = zf.extractall('C:/Users/houjie/ameclePython/ttt')\n",
    "print(rst)"
   ]
  },
  {
   "cell_type": "markdown",
   "metadata": {},
   "source": [
    "# random\n",
    "  - 随机数\n",
    "  - 所有的随机模块都是伪随机"
   ]
  },
  {
   "cell_type": "code",
   "execution_count": 116,
   "metadata": {},
   "outputs": [],
   "source": [
    "import random"
   ]
  },
  {
   "cell_type": "code",
   "execution_count": 189,
   "metadata": {},
   "outputs": [
    {
     "name": "stdout",
     "output_type": "stream",
     "text": [
      "0.6483071983966806\n",
      "***********\n",
      "Help on built-in function random:\n",
      "\n",
      "random(...) method of random.Random instance\n",
      "    random() -> x in the interval [0, 1).\n",
      "\n"
     ]
    }
   ],
   "source": [
    "# random() 获取0-1之间的随机小数\n",
    "# random.random() \n",
    "# 返回值：随机0-1之间的小数 [0, 1)\n",
    "print(random.random())\n",
    "print('***********')\n",
    "help(random.random)\n",
    "# 作业：利用random()函数，注意是函数，生成0-100之间的整数"
   ]
  },
  {
   "cell_type": "code",
   "execution_count": 183,
   "metadata": {},
   "outputs": [
    {
     "name": "stdout",
     "output_type": "stream",
     "text": [
      "['我是0哈', '我是1哈', '我是2哈', '我是3哈', '我是4哈', '我是5哈', '我是6哈', '我是7哈', '我是8哈', '我是9哈']\n",
      "***********\n",
      "我是0哈\n"
     ]
    }
   ],
   "source": [
    "# choice() 随机返回序列中的某个值\n",
    "# random.choice(序列)\n",
    "# 返回值：序列中的某个值\n",
    "\n",
    "l = ['我是{0}哈'.format(i) for i in range(10)]\n",
    "#l = ['我是'+ str(i)+'哈' for i in range(10)]\n",
    "print(l)\n",
    "print('***********')\n",
    "rst = random.choice(l)\n",
    "print(rst)"
   ]
  },
  {
   "cell_type": "code",
   "execution_count": 185,
   "metadata": {},
   "outputs": [
    {
     "name": "stdout",
     "output_type": "stream",
     "text": [
      "[0, 1, 2, 3, 4, 5, 6, 7, 8, 9]\n",
      "[5, 9, 4, 8, 3, 7, 2, 1, 0, 6]\n",
      "None\n"
     ]
    }
   ],
   "source": [
    "# shuffle() 随机打乱列表，原地打乱\n",
    "# random.shuffle(列表)\n",
    "# 返回值：None\n",
    "# help(random.shuffle)\n",
    "\n",
    "l1 = [i for i in range(10)]\n",
    "print(l1)\n",
    "l2 = random.shuffle(l1)\n",
    "print(l1)\n",
    "print(l2)"
   ]
  },
  {
   "cell_type": "code",
   "execution_count": 188,
   "metadata": {},
   "outputs": [
    {
     "name": "stdout",
     "output_type": "stream",
     "text": [
      "72\n",
      "*********\n",
      "Help on method randint in module random:\n",
      "\n",
      "randint(a, b) method of random.Random instance\n",
      "    Return random integer in range [a, b], including both end points.\n",
      "\n"
     ]
    }
   ],
   "source": [
    "# randint(a,b) 获取a到b之间的随机整数\n",
    "# random.random(a,b) \n",
    "# 返回值：随机a-b之间的整数 [a, b]\n",
    "\n",
    "print(random.randint(1,100))\n",
    "print('*********')\n",
    "help(random.randint)"
   ]
  },
  {
   "cell_type": "code",
   "execution_count": null,
   "metadata": {},
   "outputs": [],
   "source": []
  },
  {
   "cell_type": "code",
   "execution_count": null,
   "metadata": {},
   "outputs": [],
   "source": []
  },
  {
   "cell_type": "code",
   "execution_count": null,
   "metadata": {},
   "outputs": [],
   "source": []
  },
  {
   "cell_type": "code",
   "execution_count": null,
   "metadata": {},
   "outputs": [],
   "source": []
  },
  {
   "cell_type": "code",
   "execution_count": null,
   "metadata": {},
   "outputs": [],
   "source": []
  },
  {
   "cell_type": "code",
   "execution_count": null,
   "metadata": {},
   "outputs": [],
   "source": []
  },
  {
   "cell_type": "code",
   "execution_count": null,
   "metadata": {},
   "outputs": [],
   "source": []
  },
  {
   "cell_type": "code",
   "execution_count": null,
   "metadata": {},
   "outputs": [],
   "source": []
  },
  {
   "cell_type": "code",
   "execution_count": null,
   "metadata": {},
   "outputs": [],
   "source": []
  },
  {
   "cell_type": "code",
   "execution_count": null,
   "metadata": {},
   "outputs": [],
   "source": []
  },
  {
   "cell_type": "code",
   "execution_count": null,
   "metadata": {},
   "outputs": [],
   "source": []
  },
  {
   "cell_type": "code",
   "execution_count": null,
   "metadata": {},
   "outputs": [],
   "source": []
  },
  {
   "cell_type": "code",
   "execution_count": null,
   "metadata": {},
   "outputs": [],
   "source": []
  },
  {
   "cell_type": "code",
   "execution_count": null,
   "metadata": {},
   "outputs": [],
   "source": []
  },
  {
   "cell_type": "code",
   "execution_count": null,
   "metadata": {},
   "outputs": [],
   "source": []
  },
  {
   "cell_type": "code",
   "execution_count": null,
   "metadata": {},
   "outputs": [],
   "source": []
  },
  {
   "cell_type": "code",
   "execution_count": null,
   "metadata": {},
   "outputs": [],
   "source": []
  },
  {
   "cell_type": "code",
   "execution_count": null,
   "metadata": {},
   "outputs": [],
   "source": []
  },
  {
   "cell_type": "code",
   "execution_count": null,
   "metadata": {},
   "outputs": [],
   "source": []
  },
  {
   "cell_type": "code",
   "execution_count": null,
   "metadata": {},
   "outputs": [],
   "source": []
  },
  {
   "cell_type": "code",
   "execution_count": null,
   "metadata": {},
   "outputs": [],
   "source": []
  },
  {
   "cell_type": "code",
   "execution_count": null,
   "metadata": {},
   "outputs": [],
   "source": []
  },
  {
   "cell_type": "code",
   "execution_count": null,
   "metadata": {},
   "outputs": [],
   "source": []
  },
  {
   "cell_type": "code",
   "execution_count": null,
   "metadata": {},
   "outputs": [],
   "source": []
  },
  {
   "cell_type": "code",
   "execution_count": null,
   "metadata": {},
   "outputs": [],
   "source": []
  },
  {
   "cell_type": "code",
   "execution_count": null,
   "metadata": {},
   "outputs": [],
   "source": []
  },
  {
   "cell_type": "code",
   "execution_count": null,
   "metadata": {},
   "outputs": [],
   "source": []
  },
  {
   "cell_type": "code",
   "execution_count": null,
   "metadata": {},
   "outputs": [],
   "source": []
  },
  {
   "cell_type": "code",
   "execution_count": null,
   "metadata": {},
   "outputs": [],
   "source": []
  },
  {
   "cell_type": "code",
   "execution_count": null,
   "metadata": {},
   "outputs": [],
   "source": []
  },
  {
   "cell_type": "code",
   "execution_count": null,
   "metadata": {},
   "outputs": [],
   "source": []
  },
  {
   "cell_type": "code",
   "execution_count": null,
   "metadata": {},
   "outputs": [],
   "source": []
  },
  {
   "cell_type": "code",
   "execution_count": null,
   "metadata": {},
   "outputs": [],
   "source": []
  },
  {
   "cell_type": "code",
   "execution_count": null,
   "metadata": {},
   "outputs": [],
   "source": []
  },
  {
   "cell_type": "code",
   "execution_count": null,
   "metadata": {},
   "outputs": [],
   "source": []
  },
  {
   "cell_type": "code",
   "execution_count": null,
   "metadata": {},
   "outputs": [],
   "source": []
  },
  {
   "cell_type": "code",
   "execution_count": null,
   "metadata": {},
   "outputs": [],
   "source": []
  },
  {
   "cell_type": "code",
   "execution_count": null,
   "metadata": {},
   "outputs": [],
   "source": []
  },
  {
   "cell_type": "code",
   "execution_count": null,
   "metadata": {},
   "outputs": [],
   "source": []
  },
  {
   "cell_type": "code",
   "execution_count": null,
   "metadata": {},
   "outputs": [],
   "source": []
  },
  {
   "cell_type": "code",
   "execution_count": null,
   "metadata": {},
   "outputs": [],
   "source": []
  },
  {
   "cell_type": "code",
   "execution_count": null,
   "metadata": {},
   "outputs": [],
   "source": []
  },
  {
   "cell_type": "code",
   "execution_count": null,
   "metadata": {},
   "outputs": [],
   "source": []
  },
  {
   "cell_type": "code",
   "execution_count": null,
   "metadata": {},
   "outputs": [],
   "source": []
  },
  {
   "cell_type": "code",
   "execution_count": null,
   "metadata": {},
   "outputs": [],
   "source": []
  },
  {
   "cell_type": "code",
   "execution_count": null,
   "metadata": {},
   "outputs": [],
   "source": []
  },
  {
   "cell_type": "code",
   "execution_count": null,
   "metadata": {},
   "outputs": [],
   "source": []
  },
  {
   "cell_type": "code",
   "execution_count": null,
   "metadata": {},
   "outputs": [],
   "source": []
  },
  {
   "cell_type": "code",
   "execution_count": null,
   "metadata": {},
   "outputs": [],
   "source": []
  },
  {
   "cell_type": "code",
   "execution_count": null,
   "metadata": {},
   "outputs": [],
   "source": []
  },
  {
   "cell_type": "code",
   "execution_count": null,
   "metadata": {},
   "outputs": [],
   "source": []
  },
  {
   "cell_type": "code",
   "execution_count": null,
   "metadata": {},
   "outputs": [],
   "source": []
  },
  {
   "cell_type": "code",
   "execution_count": null,
   "metadata": {},
   "outputs": [],
   "source": []
  },
  {
   "cell_type": "code",
   "execution_count": null,
   "metadata": {},
   "outputs": [],
   "source": []
  },
  {
   "cell_type": "code",
   "execution_count": null,
   "metadata": {},
   "outputs": [],
   "source": []
  },
  {
   "cell_type": "code",
   "execution_count": null,
   "metadata": {},
   "outputs": [],
   "source": []
  },
  {
   "cell_type": "code",
   "execution_count": null,
   "metadata": {},
   "outputs": [],
   "source": []
  }
 ],
 "metadata": {
  "kernelspec": {
   "display_name": "Python 3",
   "language": "python",
   "name": "python3"
  },
  "language_info": {
   "codemirror_mode": {
    "name": "ipython",
    "version": 3
   },
   "file_extension": ".py",
   "mimetype": "text/x-python",
   "name": "python",
   "nbconvert_exporter": "python",
   "pygments_lexer": "ipython3",
   "version": "3.6.5"
  }
 },
 "nbformat": 4,
 "nbformat_minor": 2
}
