{
 "cells": [
  {
   "cell_type": "markdown",
   "metadata": {},
   "source": [
    "# 程序三大结构\n",
    "  （goto语句：不使用，因为可读性差，可维护性差）\n",
    "  - 顺序\n",
    "  - 分支\n",
    "  - 循环"
   ]
  },
  {
   "cell_type": "markdown",
   "metadata": {},
   "source": [
    "## 分支（if条件语句）\n",
    "  - 基本语法\n",
    "      if 条件表达式1:\n",
    "          语句1\n",
    "          语句2\n",
    "          ...\n",
    "      elif 条件表达式2:\n",
    "          语句1\n",
    "          语句2\n",
    "          ...\n",
    "      elif 条件表达式3:\n",
    "          语句1\n",
    "          语句2\n",
    "          ...\n",
    "      else:\n",
    "          语句1\n",
    "          语句2\n",
    "          ...\n",
    "\n",
    "  - :冒号引领一个语句块，同一个语句块必须同一个缩进等级\n",
    "  - 语句块一般缩进4个空格（通常用Tab键入）"
   ]
  },
  {
   "cell_type": "code",
   "execution_count": 6,
   "metadata": {},
   "outputs": [
    {
     "name": "stdout",
     "output_type": "stream",
     "text": [
      "请输入性别：nv\n",
      "请输入年龄：18\n",
      "您的性别是:nv\n",
      "女\n",
      "汉子\n",
      "您明年19岁\n"
     ]
    }
   ],
   "source": [
    "# input 的作用是接收用户输入并返回到程序，input返回内容一定是字符串\n",
    "gender = input('请输入性别：')\n",
    "age = input('请输入年龄：')\n",
    "print('您的性别是:{0}'.format(gender))\n",
    "\n",
    "if gender == 'nan':\n",
    "  print('男')       # 2个空格缩进\n",
    "  print('子汉')\n",
    "elif gender == 'nv':\n",
    "      print('女')   # 6个空格缩进\n",
    "      print('汉子')\n",
    "else:\n",
    "    print('输入错误')\n",
    "    print('一边玩去')\n",
    "\n",
    "print('您明年{}岁'.format(int(age)+1))   # input 接收的是str，要转为int型才能做整数运算"
   ]
  },
  {
   "cell_type": "markdown",
   "metadata": {},
   "source": [
    "### if语句其他\n",
    "  - if语句可以嵌套使用，但不推荐\n",
    "  - python 没有 switch - case 语句"
   ]
  },
  {
   "cell_type": "markdown",
   "metadata": {},
   "source": [
    "# 循环语句\n",
    "    - for 循环\n",
    "    - while 循环\n",
    "## for 循环\n",
    "    for 变量 in 序列:\n",
    "        语句1\n",
    "        语句2\n",
    "        ..."
   ]
  },
  {
   "cell_type": "code",
   "execution_count": 9,
   "metadata": {},
   "outputs": [
    {
     "name": "stdout",
     "output_type": "stream",
     "text": [
      "C\n",
      "python\n",
      "我的最爱python出现了\n",
      "C++\n",
      "Java\n"
     ]
    }
   ],
   "source": [
    "for name in ['C','python','C++','Java']:\n",
    "    print(name)\n",
    "    if name == 'python':\n",
    "        print('我的最爱{}出现了'.format(name))"
   ]
  },
  {
   "cell_type": "markdown",
   "metadata": {},
   "source": [
    "## range 介绍\n",
    "  - 生成一个数字序列，可以设定范围： range(a,b,s)   >=a, <b, 步长s\n",
    "  - randint(a,b) 是特例，左右都包括>=a, <=b"
   ]
  },
  {
   "cell_type": "code",
   "execution_count": 10,
   "metadata": {},
   "outputs": [
    {
     "name": "stdout",
     "output_type": "stream",
     "text": [
      "1\n",
      "2\n",
      "3\n",
      "4\n",
      "5\n",
      "6\n",
      "7\n",
      "8\n",
      "9\n"
     ]
    }
   ],
   "source": [
    "for i in range(1,10):\n",
    "    print(i)"
   ]
  },
  {
   "cell_type": "markdown",
   "metadata": {},
   "source": [
    "### else  （可选，表示 for 循环全部结束后，执行 else 语句块，几乎不用）\n",
    "    for a in []:\n",
    "        语句1\n",
    "        语句2\n",
    "        ...\n",
    "    else:\n",
    "        语句1\n",
    "        语句2\n",
    "        ..."
   ]
  },
  {
   "cell_type": "markdown",
   "metadata": {},
   "source": [
    "## 循环之 break, continue, pass\n",
    "    - break   循环猝死，无条件结束整个循环\n",
    "    - continue   无条件结束本次循环，重新进入下一轮循环\n",
    "    - pass   表示略过，什么也不执行，一般用于（函数）占位"
   ]
  },
  {
   "cell_type": "code",
   "execution_count": 11,
   "metadata": {},
   "outputs": [
    {
     "name": "stdout",
     "output_type": "stream",
     "text": [
      "1\n",
      "2\n",
      "3\n",
      "4\n",
      "5\n",
      "6\n",
      "我找到7了\n"
     ]
    }
   ],
   "source": [
    "# 在自然数中寻找7\n",
    "# for 循环中的变量表示：一般用i, k, m, n, 或者（表示index）用indx, idx, item 之类\n",
    "# 在python 中，如果循环变量名称不重要，可以用下划线 _ 代替\n",
    "for i in range(1,11):\n",
    "    if i == 7:\n",
    "        print('我找到{}了'.format(i))\n",
    "        break\n",
    "    print(i)"
   ]
  },
  {
   "cell_type": "code",
   "execution_count": 14,
   "metadata": {},
   "outputs": [
    {
     "name": "stdout",
     "output_type": "stream",
     "text": [
      "1\n",
      "2\n",
      "3\n",
      "4\n"
     ]
    }
   ],
   "source": [
    "# pass例子\n",
    "# 没有跳过功能\n",
    "\n",
    "for i in range(1,5):\n",
    "    pass\n",
    "    print(i)"
   ]
  }
 ],
 "metadata": {
  "kernelspec": {
   "display_name": "Python 3",
   "language": "python",
   "name": "python3"
  },
  "language_info": {
   "codemirror_mode": {
    "name": "ipython",
    "version": 3
   },
   "file_extension": ".py",
   "mimetype": "text/x-python",
   "name": "python",
   "nbconvert_exporter": "python",
   "pygments_lexer": "ipython3",
   "version": "3.6.5"
  }
 },
 "nbformat": 4,
 "nbformat_minor": 2
}
