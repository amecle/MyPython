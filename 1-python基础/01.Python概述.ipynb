{
 "cells": [
  {
   "cell_type": "markdown",
   "metadata": {},
   "source": [
    "# 环境安装\n",
    "    -推荐 Virtualbox + Ubuntu\n",
    "    -套件推荐 Anaconda3 + pycharm"
   ]
  },
  {
   "cell_type": "markdown",
   "metadata": {},
   "source": [
    "# 注释\n",
    "    -行注释: #\n",
    "    -块注释: 3个连续单引号或双引号开始和结束'''   '''"
   ]
  },
  {
   "cell_type": "markdown",
   "metadata": {},
   "source": [
    "# 变量\n",
    "    程序=数据结构+算法\n",
    "    变量:可以重复使用的一个量,或者叫一个代号\n",
    "    变量命名规则:\n",
    "        1.一般在python中,以下划线开头的内容具有特殊含义,强烈不建议使用.\n",
    "        2.大小写敏感\n",
    "        3.推荐:使用具有固定含义的英文单词或缩写,srv=server  skt=socket,一般以posix命名规则为主.\n",
    "            -大驼峰:名称以单词自动连接,每个单词首字母大写\n",
    "                python中给类命名使用此法\n",
    "                MyFirstDemo,IntOne\n",
    "            -小驼峰:类似大驼峰,但第一个字母小写\n",
    "                python中一般给普通变量或者函数命名\n",
    "                myFirstDemo,intOne\n",
    "            -posix写法(Linux多用,现为python主流使用)\n",
    "                多个单词用下划线连接,单词全部小写\n",
    "                my_first_demo, int_one\n",
    "        4.关键字(和保留字)\n",
    "            -变量命名必须避开,不能和关键字重复\n",
    "            -class, def, break, for\n",
    "            "
   ]
  },
  {
   "cell_type": "code",
   "execution_count": 2,
   "metadata": {},
   "outputs": [
    {
     "name": "stdout",
     "output_type": "stream",
     "text": [
      "['False', 'None', 'True', 'and', 'as', 'assert', 'break', 'class', 'continue', 'def', 'del', 'elif', 'else', 'except', 'finally', 'for', 'from', 'global', 'if', 'import', 'in', 'is', 'lambda', 'nonlocal', 'not', 'or', 'pass', 'raise', 'return', 'try', 'while', 'with', 'yield']\n"
     ]
    }
   ],
   "source": [
    "#查看关键字的方法\n",
    "import keyword #引入关键字模块\n",
    "print(keyword.kwlist)  #打印出系统全部关键字\n"
   ]
  },
  {
   "cell_type": "markdown",
   "metadata": {},
   "source": [
    "## 变量声明\n",
    "    - 可一行内给多个变量赋值"
   ]
  },
  {
   "cell_type": "code",
   "execution_count": 3,
   "metadata": {},
   "outputs": [
    {
     "name": "stdout",
     "output_type": "stream",
     "text": [
      "1\n",
      "abc\n",
      "(1, 2, 3)\n"
     ]
    }
   ],
   "source": [
    "a, b, c = 1, 'abc', (1,2,3)\n",
    "print(a)\n",
    "print(b)\n",
    "print(c)"
   ]
  },
  {
   "cell_type": "markdown",
   "metadata": {},
   "source": [
    "## 变量类型\n",
    "    -严格意义上讲,python只有一个类型\n",
    "    -标准数据一共6种\n",
    "        1.数字类型 Number\n",
    "        2.字符串类型 str\n",
    "        3.列表 list\n",
    "        4.元组 tuple\n",
    "        5.字典 Dictionary\n",
    "        6.集合 set"
   ]
  },
  {
   "cell_type": "markdown",
   "metadata": {},
   "source": [
    "## Number 数字类型\n",
    "    - 数字类型没有大小限制\n",
    "### 整数\n",
    "    -没有小数部分\n",
    "    -整数分进制\n",
    "        - 二进制\n",
    "            计算机常用,是计算机唯一能直接理解的数字\n",
    "            表示为以 0b 开头的 0, 1 代码, 例如: 0b01101, 0b10001\n",
    "        - 八进制\n",
    "            不常用\n",
    "            表示为以 0o 开头的 0-7 的数字\n",
    "        - 十六进制\n",
    "            常用\n",
    "            每四位二进制表示为一位十六进制数(16=2^4)\n",
    "            表示为以 0x 开头的 0-9,a-f 的数字\n",
    "        - 十进制\n",
    "        "
   ]
  },
  {
   "cell_type": "code",
   "execution_count": 5,
   "metadata": {},
   "outputs": [
    {
     "name": "stdout",
     "output_type": "stream",
     "text": [
      "255\n"
     ]
    }
   ],
   "source": [
    "age = 0xff #十六进制ff表示二进制的1111 1111\n",
    "print(age)"
   ]
  },
  {
   "cell_type": "markdown",
   "metadata": {},
   "source": [
    "### 浮点数\n",
    "    小数\n",
    "    计算机中表示浮点数可以有条件的省略\n",
    "    3.1415\n",
    "    3.\n",
    "    0.5\n",
    "    .5\n",
    "    科学记数法(e/E表示)\n",
    "        176.23 == 1.7623e2\n",
    "        0.876 == 8.76E-1"
   ]
  },
  {
   "cell_type": "code",
   "execution_count": 7,
   "metadata": {},
   "outputs": [
    {
     "name": "stdout",
     "output_type": "stream",
     "text": [
      "170.0\n"
     ]
    }
   ],
   "source": [
    "height = 170.\n",
    "print(height)"
   ]
  },
  {
   "cell_type": "markdown",
   "metadata": {},
   "source": [
    "### 复数 complex   --几乎用不到\n",
    "    定义同数学定义一致\n",
    "    一个由实部和虚部构成的数字\n",
    "    虚部用j/J表示\n",
    "    5+3j\n",
    "    3j\n",
    "    (3j)"
   ]
  },
  {
   "cell_type": "markdown",
   "metadata": {},
   "source": [
    "### 布尔值\n",
    "     -表示真假的值\n",
    "     -只有两个值: True/False\n",
    "     -布尔值就是1和0这两个数,完全可以当数字用."
   ]
  },
  {
   "cell_type": "code",
   "execution_count": 8,
   "metadata": {},
   "outputs": [
    {
     "name": "stdout",
     "output_type": "stream",
     "text": [
      "19\n"
     ]
    }
   ],
   "source": [
    "#布尔值操作\n",
    "age = 18 + True\n",
    "print(age)"
   ]
  },
  {
   "cell_type": "markdown",
   "metadata": {},
   "source": [
    "## 字符串\n",
    "    -单引号/双引号\n",
    "    -三引号(3个单引号或者双引号)\n",
    "    -单双引号交错使用"
   ]
  },
  {
   "cell_type": "code",
   "execution_count": 9,
   "metadata": {},
   "outputs": [
    {
     "name": "stdout",
     "output_type": "stream",
     "text": [
      "<a style=\"color:red\">哈哈哈</a>\n",
      "\n",
      "who am i\n",
      "我是谁\n",
      "哈哈哈\n",
      "\n"
     ]
    }
   ],
   "source": [
    "# 单双引号交错使用的例子\n",
    "# <a style=\"color:red\">哈哈哈</a>\n",
    "html = '<a style=\"color:red\">哈哈哈</a>'\n",
    "\n",
    "print(html)\n",
    "\n",
    "# 三引号\n",
    "htmls = '''\n",
    "who am i\n",
    "我是谁\n",
    "哈哈哈\n",
    "'''\n",
    "\n",
    "print(htmls)"
   ]
  }
 ],
 "metadata": {
  "kernelspec": {
   "display_name": "Python 3",
   "language": "python",
   "name": "python3"
  },
  "language_info": {
   "codemirror_mode": {
    "name": "ipython",
    "version": 3
   },
   "file_extension": ".py",
   "mimetype": "text/x-python",
   "name": "python",
   "nbconvert_exporter": "python",
   "pygments_lexer": "ipython3",
   "version": "3.6.5"
  }
 },
 "nbformat": 4,
 "nbformat_minor": 2
}
