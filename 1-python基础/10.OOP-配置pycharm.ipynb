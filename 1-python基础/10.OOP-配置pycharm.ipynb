{
 "cells": [
  {
   "cell_type": "markdown",
   "metadata": {},
   "source": [
    "# pycharm\n",
    "  - 教学版、社区版，是免费的\n",
    "  - pro版（专业版），可试用30天，30天过期后，每30分钟重启一次，但是会自动保存\n",
    "  \n",
    "## 配置\n",
    "  - file - setting ：\n",
    "    - font ：16-18就可以\n",
    "    - color shine ：Twillight或者Moroical\n",
    "    - plugins（插件）：\n",
    "      - vim(编辑器里的霸主)（搜不到点search in... IdeaVim）\n",
    "         - imax（霸主里的编辑器）\n",
    "      - markdown（可以搜到Markdown support，一定安装这个）\n",
    "    - language & frameworks\n",
    "    - project（配置环境）\n",
    "      - 系统环境： /.../.../anaconda/bin/python3.6\n",
    "      - "
   ]
  },
  {
   "cell_type": "markdown",
   "metadata": {},
   "source": []
  }
 ],
 "metadata": {
  "kernelspec": {
   "display_name": "Python 3",
   "language": "python",
   "name": "python3"
  },
  "language_info": {
   "codemirror_mode": {
    "name": "ipython",
    "version": 3
   },
   "file_extension": ".py",
   "mimetype": "text/x-python",
   "name": "python",
   "nbconvert_exporter": "python",
   "pygments_lexer": "ipython3",
   "version": "3.6.5"
  }
 },
 "nbformat": 4,
 "nbformat_minor": 2
}
