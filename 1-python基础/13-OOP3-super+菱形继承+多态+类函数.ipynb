{
 "cells": [
  {
   "cell_type": "code",
   "execution_count": 4,
   "metadata": {},
   "outputs": [
    {
     "name": "stdout",
     "output_type": "stream",
     "text": [
      "(<class 'super'>, <class 'object'>)\n"
     ]
    }
   ],
   "source": [
    "# super \n",
    "print(super.__mro__)"
   ]
  },
  {
   "cell_type": "code",
   "execution_count": 23,
   "metadata": {},
   "outputs": [
    {
     "name": "stdout",
     "output_type": "stream",
     "text": [
      "(<class '__main__.A'>, <class 'object'>)\n",
      "(<class '__main__.B'>, <class '__main__.A'>, <class 'object'>)\n",
      "(<class '__main__.C'>, <class '__main__.B'>, <class '__main__.A'>, <class 'object'>)\n"
     ]
    }
   ],
   "source": [
    "# MRO列表、super\n",
    "class A():\n",
    "    pass\n",
    "\n",
    "class B(A):\n",
    "    pass\n",
    "\n",
    "# 继承多个类，如果有父子关系，按先子后父的原则\n",
    "# 不推荐使用\n",
    "class C(B,A):\n",
    "    pass\n",
    "\n",
    "# mro : 自己和所有父类的列表（查家谱）\n",
    "# super() : 获取mro列表中第一个父类\n",
    "print(A.__mro__)\n",
    "print(B.__mro__)\n",
    "print(C.__mro__)"
   ]
  },
  {
   "cell_type": "code",
   "execution_count": 29,
   "metadata": {},
   "outputs": [
    {
     "name": "stdout",
     "output_type": "stream",
     "text": [
      "Bird\n",
      "i am flying ...\n",
      "i am swimming ...\n",
      "(<class '__main__.SuperMan'>, <class '__main__.Bird'>, <class '__main__.Person'>, <class '__main__.Fish'>, <class 'object'>)\n"
     ]
    }
   ],
   "source": [
    "# 多继承的例子\n",
    "# 多继承定义时，参数先后顺序决定父类远近顺序\n",
    "class Fish():\n",
    "    def __init__(self,name):\n",
    "        self.name = name\n",
    "        print('Fish')\n",
    "    def swim(self):\n",
    "        print('i am swimming ...')\n",
    "        \n",
    "class Bird():\n",
    "    def __init__(self,name):\n",
    "        self.name = name\n",
    "        print('Bird')\n",
    "    def fly(self):\n",
    "        print('i am flying ...')\n",
    "        \n",
    "class Person():\n",
    "    def __init__(self,name):\n",
    "        self.name = name\n",
    "        print('Person')\n",
    "    def work(self):\n",
    "        print('i am working ...')\n",
    "        \n",
    "# 离SuperMan越近的父类，越先被调用\n",
    "class SuperMan(Bird,Person,Fish):\n",
    "    pass        \n",
    "\n",
    "s = SuperMan('wangw')\n",
    "s.fly()\n",
    "s.swim()\n",
    "print(SuperMan.__mro__)"
   ]
  },
  {
   "cell_type": "code",
   "execution_count": 1,
   "metadata": {},
   "outputs": [],
   "source": [
    "# 菱形继承问题\n",
    "class A():\n",
    "    pass\n",
    "class B(A):\n",
    "    pass\n",
    "class C(A):\n",
    "    pass\n",
    "class D(B,C):\n",
    "    pass"
   ]
  },
  {
   "cell_type": "code",
   "execution_count": 4,
   "metadata": {},
   "outputs": [
    {
     "name": "stdout",
     "output_type": "stream",
     "text": [
      "In init func\n",
      "kakaa\n"
     ]
    }
   ],
   "source": [
    "# 构造函数例子\n",
    "class Ps():\n",
    "    # 对 Ps 类进行实例化的时候\n",
    "    # 姓名、年龄、地址要确定\n",
    "    def __init__(self):\n",
    "        self.name = 'kakaa'\n",
    "        self.age = 18\n",
    "        self.address = 'pythonRoad'\n",
    "        print('In init func')\n",
    "\n",
    "# 实例化一个人\n",
    "p = Ps()\n",
    "print(p.name)"
   ]
  },
  {
   "cell_type": "code",
   "execution_count": 10,
   "metadata": {},
   "outputs": [
    {
     "name": "stdout",
     "output_type": "stream",
     "text": [
      "aaaa\n",
      "Akaa\n",
      "aaaa\n",
      "Akaa\n",
      "********\n",
      "Bkaa\n"
     ]
    }
   ],
   "source": [
    "# 构造函数在继承中的功能扩展\n",
    "# 在自身构造函数中：\n",
    "#  1.先调用父类的构造函数\n",
    "#  2.再附加自身的功能\n",
    "class A():\n",
    "    def __init__(self):\n",
    "        print('aaaa')\n",
    "        self.name = 'Akaa'\n",
    "        print(self.name)\n",
    "        \n",
    "class B(A):\n",
    "    def __init__(self):\n",
    "        # 通过父类名调用\n",
    "        A.__init__(self)\n",
    "        # 通过super()调用\n",
    "        super().__init__()\n",
    "        print('********')\n",
    "        self.name = 'Bkaa'\n",
    "        print(self.name)\n",
    "\n",
    "b = B()"
   ]
  },
  {
   "cell_type": "code",
   "execution_count": 15,
   "metadata": {},
   "outputs": [
    {
     "name": "stdout",
     "output_type": "stream",
     "text": [
      "(<class '__main__.Tutor'>, <class '__main__.Teacher'>, <class '__main__.Student'>, <class '__main__.Person'>, <class 'object'>)\n",
      "{}\n",
      "{'__module__': '__main__', '__doc__': None}\n",
      "****************************************\n",
      "(<class '__main__.TutorMX'>, <class '__main__.Person'>, <class '__main__.TeacherMixin'>, <class '__main__.StudentMixin'>, <class 'object'>)\n",
      "{}\n",
      "{'__module__': '__main__', '__doc__': None}\n"
     ]
    }
   ],
   "source": [
    "# Mixin 案例\n",
    "class Person():\n",
    "    name = 'perkaa'\n",
    "    age = 18\n",
    "    def eat(self):\n",
    "        print('EAT....')\n",
    "    def drink(self):\n",
    "        print('DRINK....')\n",
    "    def sleep(self):\n",
    "        print('SLEEP....')\n",
    "\n",
    "class Teacher(Person):\n",
    "    def work(self):\n",
    "        print('Work')\n",
    "        \n",
    "class Student(Person):\n",
    "    def study(self):\n",
    "        print('Study')\n",
    "        \n",
    "# 助教（未毕业的学生中选拔）\n",
    "class Tutor (Teacher,Student):\n",
    "    pass\n",
    "\n",
    "t = Tutor()\n",
    "\n",
    "print(Tutor.__mro__)\n",
    "print(t.__dict__)\n",
    "print(Tutor.__dict__)\n",
    "print('*' * 40)\n",
    "\n",
    "# Mixin 实现\n",
    "class TeacherMixin():\n",
    "    def work(self):\n",
    "        print('Work')\n",
    "        \n",
    "class StudentMixin():\n",
    "    def study(self):\n",
    "        print('Study')\n",
    "        \n",
    "# 助教（未毕业的学生中选拔）\n",
    "class TutorMX (Person,TeacherMixin,StudentMixin):\n",
    "    pass\n",
    "\n",
    "t = TutorMX()\n",
    "\n",
    "print(TutorMX.__mro__)\n",
    "print(t.__dict__)\n",
    "print(TutorMX.__dict__)\n",
    "        "
   ]
  },
  {
   "cell_type": "code",
   "execution_count": 17,
   "metadata": {},
   "outputs": [
    {
     "name": "stdout",
     "output_type": "stream",
     "text": [
      "True\n",
      "False\n",
      "True\n"
     ]
    }
   ],
   "source": [
    "# issubclass\n",
    "class A():\n",
    "    pass\n",
    "class B(A):\n",
    "    pass\n",
    "class C():\n",
    "    pass\n",
    "\n",
    "# 检查 B 是否 A 的子类\n",
    "print(issubclass(B,A))\n",
    "print(issubclass(C,A))\n",
    "print(issubclass(C,object))"
   ]
  },
  {
   "cell_type": "code",
   "execution_count": 19,
   "metadata": {},
   "outputs": [
    {
     "name": "stdout",
     "output_type": "stream",
     "text": [
      "True\n",
      "False\n",
      "False\n"
     ]
    }
   ],
   "source": [
    "# isinstance\n",
    "class A():\n",
    "    pass\n",
    "\n",
    "a = A()\n",
    "b = 5\n",
    "# 检查对象 a 是否 A 的实例\n",
    "print(isinstance(a,A))\n",
    "print(isinstance(A,A))\n",
    "print(isinstance(b,A))"
   ]
  },
  {
   "cell_type": "code",
   "execution_count": 22,
   "metadata": {},
   "outputs": [
    {
     "name": "stdout",
     "output_type": "stream",
     "text": [
      "True\n",
      "True\n",
      "False\n"
     ]
    }
   ],
   "source": [
    "# hasattr\n",
    "class A():\n",
    "    name = 'wakaa'\n",
    "    \n",
    "a= A()\n",
    "# 检查对象 a 中有没有成员 'name'\n",
    "print(hasattr(a,'name'))\n",
    "# 同样可以检查类\n",
    "print(hasattr(A,'name'))\n",
    "print(hasattr(a,'age'))"
   ]
  },
  {
   "cell_type": "code",
   "execution_count": 23,
   "metadata": {},
   "outputs": [
    {
     "name": "stdout",
     "output_type": "stream",
     "text": [
      "Help on built-in function setattr in module builtins:\n",
      "\n",
      "setattr(obj, name, value, /)\n",
      "    Sets the named attribute on the given object to the specified value.\n",
      "    \n",
      "    setattr(x, 'y', v) is equivalent to ``x.y = v''\n",
      "\n"
     ]
    }
   ],
   "source": [
    "# help 案例\n",
    "\n",
    "help(setattr)"
   ]
  },
  {
   "cell_type": "code",
   "execution_count": 26,
   "metadata": {},
   "outputs": [
    {
     "data": {
      "text/plain": [
       "['__class__',\n",
       " '__delattr__',\n",
       " '__dict__',\n",
       " '__dir__',\n",
       " '__doc__',\n",
       " '__eq__',\n",
       " '__format__',\n",
       " '__ge__',\n",
       " '__getattribute__',\n",
       " '__gt__',\n",
       " '__hash__',\n",
       " '__init__',\n",
       " '__init_subclass__',\n",
       " '__le__',\n",
       " '__lt__',\n",
       " '__module__',\n",
       " '__ne__',\n",
       " '__new__',\n",
       " '__reduce__',\n",
       " '__reduce_ex__',\n",
       " '__repr__',\n",
       " '__setattr__',\n",
       " '__sizeof__',\n",
       " '__str__',\n",
       " '__subclasshook__',\n",
       " '__weakref__']"
      ]
     },
     "execution_count": 26,
     "metadata": {},
     "output_type": "execute_result"
    }
   ],
   "source": [
    "# dir 案例\n",
    "class A ():\n",
    "    pass\n",
    "\n",
    "# 类实例和对象的成员列表一样\n",
    "dir(A)\n",
    "a = A()\n",
    "dir(a)"
   ]
  }
 ],
 "metadata": {
  "kernelspec": {
   "display_name": "Python 3",
   "language": "python",
   "name": "python3"
  },
  "language_info": {
   "codemirror_mode": {
    "name": "ipython",
    "version": 3
   },
   "file_extension": ".py",
   "mimetype": "text/x-python",
   "name": "python",
   "nbconvert_exporter": "python",
   "pygments_lexer": "ipython3",
   "version": "3.6.5"
  }
 },
 "nbformat": 4,
 "nbformat_minor": 2
}
