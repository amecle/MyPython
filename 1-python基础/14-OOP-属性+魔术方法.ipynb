{
 "cells": [
  {
   "cell_type": "code",
   "execution_count": 4,
   "metadata": {},
   "outputs": [
    {
     "name": "stdout",
     "output_type": "stream",
     "text": [
      "Hi, my name is WANG WU\n",
      "Hi, my name is MICHI STANGLE\n"
     ]
    }
   ],
   "source": [
    "# 属性案例\n",
    "# 创建Student类，描述学生\n",
    "# 具有Student.name属性\n",
    "# 但name格式并不统一\n",
    "# 可以增加一个函数，然后自动调用方法，但很蠢\n",
    "class Student():\n",
    "    def __init__(self,name,age):\n",
    "        self.name = name\n",
    "        self.age = age\n",
    "        # 如果不想修改代码的话\n",
    "        self.setName(name)\n",
    "                \n",
    "    #介绍一下自己\n",
    "    def intro(self):\n",
    "        print('Hi, my name is {0}'.format(self.name))\n",
    "    \n",
    "    # 想把名字全部转为大写，可以创建方法并在__init__里调用\n",
    "    def setName(self,name):\n",
    "        self.name = name.upper()\n",
    "    \n",
    "s1 = Student('Wang Wu',19)\n",
    "s2 = Student('michi stangle',24)\n",
    "s1.intro()\n",
    "s2.intro()"
   ]
  },
  {
   "cell_type": "code",
   "execution_count": 21,
   "metadata": {},
   "outputs": [],
   "source": [
    "# property案例\n",
    "# 定义一个Person类，具有name，age属性\n",
    "# 对于任意输入的姓名，全部用大写保存\n",
    "# 对于年龄，全部用整数保存\n",
    "# x = property(fget,fset,fdel,doc)\n",
    "class Person():\n",
    "    '''\n",
    "    这是一个人\n",
    "    它有方法fget/fset/fdel\n",
    "    它有属性name\n",
    "    '''\n",
    "    # 函数名称可以任意\n",
    "    def fget(self):\n",
    "        return self._name * 2\n",
    "    def fset(self,name):\n",
    "        # 所有输入姓名以大写形式保存\n",
    "        self._name = name.upper()\n",
    "    def fdel(self):\n",
    "        self._name = 'NoName'\n",
    "    \n",
    "    name = property(fget,fset,fdel,'对name进行下下操作')"
   ]
  },
  {
   "cell_type": "code",
   "execution_count": 19,
   "metadata": {},
   "outputs": [
    {
     "name": "stdout",
     "output_type": "stream",
     "text": [
      "WAKAKAAWAKAKAA\n"
     ]
    }
   ],
   "source": [
    "p1 = Person()\n",
    "p1.name = 'wakakaa'\n",
    "print(p1.name)"
   ]
  },
  {
   "cell_type": "code",
   "execution_count": 23,
   "metadata": {},
   "outputs": [
    {
     "name": "stdout",
     "output_type": "stream",
     "text": [
      "{'__module__': '__main__', '__doc__': '\\n    这是一个人\\n    它有方法fget/fset/fdel\\n    它有属性name\\n    ', 'fget': <function Person.fget at 0x000001112C1BF2F0>, 'fset': <function Person.fset at 0x000001112C1BF378>, 'fdel': <function Person.fdel at 0x000001112C1BF158>, 'name': <property object at 0x000001112C1C3598>, '__dict__': <attribute '__dict__' of 'Person' objects>, '__weakref__': <attribute '__weakref__' of 'Person' objects>}\n",
      "\n",
      "    这是一个人\n",
      "    它有方法fget/fset/fdel\n",
      "    它有属性name\n",
      "    \n",
      "Person\n",
      "(<class 'object'>,)\n"
     ]
    }
   ],
   "source": [
    "# 类的内置属性\n",
    "print(Person.__dict__)\n",
    "print(Person.__doc__)\n",
    "print(Person.__name__)\n",
    "print(Person.__bases__)\n"
   ]
  },
  {
   "cell_type": "code",
   "execution_count": 35,
   "metadata": {},
   "outputs": [
    {
     "name": "stdout",
     "output_type": "stream",
     "text": [
      "哈哈哈，init被调用了\n"
     ]
    }
   ],
   "source": [
    "# 魔术方法：init\n",
    "class A():\n",
    "    def __init__(self,name=0):\n",
    "        print('哈哈哈，init被调用了')\n",
    "        \n",
    "a = A()"
   ]
  },
  {
   "cell_type": "code",
   "execution_count": 36,
   "metadata": {},
   "outputs": [
    {
     "name": "stdout",
     "output_type": "stream",
     "text": [
      "哈哈哈，init被调用了\n",
      "call被调用了\n"
     ]
    }
   ],
   "source": [
    "# 魔术方法：call\n",
    "# 实例当函数使用时，自动调用，但前提是有call的定义，不然报错\n",
    "class A():\n",
    "    def __init__(self,name=0):\n",
    "        print('哈哈哈，init被调用了')\n",
    "        \n",
    "    def __call__(self):\n",
    "        print('call被调用了')\n",
    "        \n",
    "a = A()\n",
    "a()"
   ]
  },
  {
   "cell_type": "code",
   "execution_count": 40,
   "metadata": {},
   "outputs": [
    {
     "name": "stdout",
     "output_type": "stream",
     "text": [
      "哈哈哈，init被调用了\n",
      "str：把对象当字符串打印\n"
     ]
    }
   ],
   "source": [
    "# 魔术方法：str\n",
    "# __str__()  必须要返回一个字符串\n",
    "class A():\n",
    "    def __init__(self,name=0):\n",
    "        print('哈哈哈，init被调用了')\n",
    "        \n",
    "    def __call__(self):\n",
    "        print('call被调用了')\n",
    "        \n",
    "    def __str__(self):\n",
    "        return 'str：把对象当字符串打印'\n",
    "        \n",
    "a = A()\n",
    "print(a)\n",
    "# 如果没有__str__()，将打印如下信息：\n",
    "# <__main__.A object at 0x000001112C1C5518>"
   ]
  },
  {
   "cell_type": "code",
   "execution_count": 49,
   "metadata": {},
   "outputs": [
    {
     "name": "stdout",
     "output_type": "stream",
     "text": [
      "NoName\n",
      "getattr调用了\n",
      "addr\n",
      "None\n"
     ]
    }
   ],
   "source": [
    "# 魔术方法：getattr \n",
    "class A():\n",
    "    name = 'NoName'\n",
    "    age = 18\n",
    "    def __getattr__(self,attrname):\n",
    "        print('getattr调用了')\n",
    "        print(attrname)\n",
    "        return\n",
    "        \n",
    "a = A()\n",
    "print(a.name)\n",
    "print(a.addr)"
   ]
  },
  {
   "cell_type": "code",
   "execution_count": 13,
   "metadata": {},
   "outputs": [
    {
     "name": "stdout",
     "output_type": "stream",
     "text": [
      "设置属性：age\n",
      "{'age': 18}\n"
     ]
    }
   ],
   "source": [
    "# 魔法方法：setattr\n",
    "# 本方法尽量避免直接对属性赋值\n",
    "class Person():\n",
    "    def __init__(self):\n",
    "        pass\n",
    "    def __setattr__(self,name,value):\n",
    "        print('设置属性：{0}'.format(name))\n",
    "        # 赋值就会调用本方法，产生递归死循环\n",
    "        # self.name = value\n",
    "        # 所以，规定统一调用父类魔法函数：\n",
    "        # 把属性名/属性值传给父类，让父类去做这个事情\n",
    "        super().__setattr__(name,value)\n",
    "\n",
    "        \n",
    "p = Person()\n",
    "p.age = 18 \n",
    "print(p.__dict__)\n"
   ]
  },
  {
   "cell_type": "code",
   "execution_count": 18,
   "metadata": {},
   "outputs": [
    {
     "name": "stdout",
     "output_type": "stream",
     "text": [
      "哈哈，one会比two大吗？\n",
      "False\n"
     ]
    }
   ],
   "source": [
    "# 魔法函数：gt\n",
    "class Student():\n",
    "    def __init__(self,name):\n",
    "        self._name = name\n",
    "    \n",
    "    def __gt__(self,obj):\n",
    "        print('哈哈，{}会比{}大吗？'.format(self._name,obj._name))\n",
    "        return self._name > obj._name\n",
    "        \n",
    "stu1 = Student('one')\n",
    "stu2 = Student('two')\n",
    "print(stu1 > stu2)"
   ]
  },
  {
   "cell_type": "code",
   "execution_count": 21,
   "metadata": {},
   "outputs": [
    {
     "name": "stdout",
     "output_type": "stream",
     "text": [
      "<__main__.Person object at 0x00000232512C2A20>\n",
      "Eating...\n",
      "<class '__main__.Person'>\n",
      "Playing...\n",
      "<class '__main__.Person'>\n",
      "Playing...\n",
      "Saying...\n",
      "Saying...\n"
     ]
    }
   ],
   "source": [
    "# 三种方法案例\n",
    "class Person():\n",
    "    # 实例方法，一般写形参self\n",
    "    def eat(self):\n",
    "        print(self)\n",
    "        print('Eating...')\n",
    "        \n",
    "    # 类方法\n",
    "    # 类方法的抵押给参数，一般命名为cls，区别于self\n",
    "    @classmethod\n",
    "    def play(cls):\n",
    "        print(cls)\n",
    "        print('Playing...')\n",
    "    \n",
    "    # 静态方法\n",
    "    # 不需要用第一个参数表示自身或者类\n",
    "    @staticmethod\n",
    "    def say():\n",
    "        print('Saying...')\n",
    "        \n",
    "wakaa = Person()\n",
    "# 实例方法\n",
    "wakaa.eat()\n",
    "# 类方法 : 类名可以调用，实例也可以调用\n",
    "Person.play()\n",
    "wakaa.play()\n",
    "# 静态方法 : 类名可以调用，实例也可以调用\n",
    "Person.say()\n",
    "wakaa.say()"
   ]
  }
 ],
 "metadata": {
  "kernelspec": {
   "display_name": "Python 3",
   "language": "python",
   "name": "python3"
  },
  "language_info": {
   "codemirror_mode": {
    "name": "ipython",
    "version": 3
   },
   "file_extension": ".py",
   "mimetype": "text/x-python",
   "name": "python",
   "nbconvert_exporter": "python",
   "pygments_lexer": "ipython3",
   "version": "3.6.5"
  }
 },
 "nbformat": 4,
 "nbformat_minor": 2
}
