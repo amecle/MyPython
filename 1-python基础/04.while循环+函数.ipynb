{
 "cells": [
  {
   "cell_type": "markdown",
   "metadata": {},
   "source": [
    "# while 循环\n",
    "  - 不知道循环次数，但能确定循环成立条件的时候使用 while\n",
    "  \n",
    "    while 条件表达式:\n",
    "        语句块1\n",
    "    else: \n",
    "        语句块2\n",
    "        \n",
    "    （当 while 循环执行结束后，执行 else 语句块，并且只执行一次）"
   ]
  },
  {
   "cell_type": "markdown",
   "metadata": {},
   "source": [
    "# 函数\n",
    "  - 代码的一种组织形式\n",
    "  - 一个函数一般完成一项特定的功能\n",
    "  - 函数使用\n",
    "      - 函数需要先定义（函数定义后并不会执行，调用时执行）\n",
    "      - 使用函数，俗称调用"
   ]
  },
  {
   "cell_type": "code",
   "execution_count": 1,
   "metadata": {},
   "outputs": [],
   "source": [
    "# 定义一个函数\n",
    "# 只是定义的话不会执行\n",
    "# 1.函数名不能使用大驼峰命名，大驼峰只给类命名\n",
    "# 2.可以有参数，也可以没有\n",
    "def func():\n",
    "    print('我是一个函数')\n",
    "    print('我要完成一项功能')\n",
    "    print('我结束了')"
   ]
  },
  {
   "cell_type": "markdown",
   "metadata": {},
   "source": [
    "（没有被执行，只是在系统里挂了个号）"
   ]
  },
  {
   "cell_type": "code",
   "execution_count": 4,
   "metadata": {},
   "outputs": [
    {
     "name": "stdout",
     "output_type": "stream",
     "text": [
      "我是一个函数\n",
      "我要完成一项功能\n",
      "我结束了\n"
     ]
    }
   ],
   "source": [
    "# 函数调用\n",
    "# 直接函数后面跟括号\n",
    "func()"
   ]
  },
  {
   "cell_type": "markdown",
   "metadata": {},
   "source": [
    "## 函数的参数和返回值\n",
    "  - 参数： 负责给函数传递一些必要的数据或者信息\n",
    "      - 形参（形式参数）：在函数定义的时候用到的参数，没有具体值，只是一个占位的符号\n",
    "      - 实参（实际参数）：在调用函数的时候输入的值\n",
    "  - 返回值： 函数的执行结果\n",
    "      - 使用 return 关键字\n",
    "      - 如果没有 return， 默认返回一个None\n",
    "      - 函数一旦执行 return 语句，则函数无条件返回，即结束函数的执行"
   ]
  },
  {
   "cell_type": "code",
   "execution_count": 6,
   "metadata": {},
   "outputs": [
    {
     "name": "stdout",
     "output_type": "stream",
     "text": [
      "小强,你怎么了？\n",
      "我已经和小强打招呼了，小强不理我\n"
     ]
    }
   ],
   "source": [
    "# 参数 person 只是一个符号，代表的是调用的时候的某一个数据\n",
    "# 调用的时候，会用 p 的值代替函数中所有的 person\n",
    "def hello(person):\n",
    "    print('{0},你怎么了？'.format(person))\n",
    "    return '我已经和{0}打招呼了，{0}不理我'.format(person)\n",
    "p = '小强'\n",
    "rst = hello(p)\n",
    "print(rst)"
   ]
  },
  {
   "cell_type": "code",
   "execution_count": 9,
   "metadata": {},
   "outputs": [
    {
     "name": "stdout",
     "output_type": "stream",
     "text": [
      "哈哈，我提前结束了！\n"
     ]
    }
   ],
   "source": [
    "# return 结束函数案例\n",
    "def hello(person):\n",
    "    return '哈哈，我提前结束了！'\n",
    "    print('{0},你怎么了？'.format(person))\n",
    "    return '我已经和{0}打招呼了，{0}不理我'.format(person)\n",
    "p = '小强'\n",
    "rst = hello(p)\n",
    "print(rst)"
   ]
  },
  {
   "cell_type": "code",
   "execution_count": 11,
   "metadata": {},
   "outputs": [
    {
     "name": "stdout",
     "output_type": "stream",
     "text": [
      "Help on built-in function print in module builtins:\n",
      "\n",
      "print(...)\n",
      "    print(value, ..., sep=' ', end='\\n', file=sys.stdout, flush=False)\n",
      "    \n",
      "    Prints the values to a stream, or to sys.stdout by default.\n",
      "    Optional keyword arguments:\n",
      "    file:  a file-like object (stream); defaults to the current sys.stdout.\n",
      "    sep:   string inserted between values, default a space.\n",
      "    end:   string appended after the last value, default a newline.\n",
      "    flush: whether to forcibly flush the stream.\n",
      "\n"
     ]
    }
   ],
   "source": [
    "# 查找函数帮助文档\n",
    "# 1. 用 help 函数\n",
    "help(print)"
   ]
  },
  {
   "cell_type": "code",
   "execution_count": 15,
   "metadata": {},
   "outputs": [
    {
     "name": "stdout",
     "output_type": "stream",
     "text": [
      "abcdef 哈哈哈\n"
     ]
    }
   ],
   "source": [
    "print('abc' 'def',end=' ')\n",
    "print('哈哈哈')"
   ]
  },
  {
   "cell_type": "code",
   "execution_count": 18,
   "metadata": {},
   "outputs": [
    {
     "name": "stdout",
     "output_type": "stream",
     "text": [
      "1×1=1 \n",
      "1×2=2 2×2=4 \n",
      "1×3=3 2×3=6 3×3=9 \n",
      "1×4=4 2×4=8 3×4=12 4×4=16 \n",
      "1×5=5 2×5=10 3×5=15 4×5=20 5×5=25 \n",
      "1×6=6 2×6=12 3×6=18 4×6=24 5×6=30 6×6=36 \n",
      "1×7=7 2×7=14 3×7=21 4×7=28 5×7=35 6×7=42 7×7=49 \n",
      "1×8=8 2×8=16 3×8=24 4×8=32 5×8=40 6×8=48 7×8=56 8×8=64 \n",
      "1×9=9 2×9=18 3×9=27 4×9=36 5×9=45 6×9=54 7×9=63 8×9=72 9×9=81 \n"
     ]
    }
   ],
   "source": [
    "# 练习\n",
    "\n",
    "# 九九乘法表\n",
    "\n",
    "for row in range(1,10):\n",
    "    for col in range(1,row+1):\n",
    "        print('{}×{}={}'.format(col,row,col*row),end=' ')\n",
    "    print('')"
   ]
  },
  {
   "cell_type": "code",
   "execution_count": 19,
   "metadata": {},
   "outputs": [
    {
     "name": "stdout",
     "output_type": "stream",
     "text": [
      "1×1=1 \n",
      "1×2=2 2×2=4 \n",
      "1×3=3 2×3=6 3×3=9 \n",
      "1×4=4 2×4=8 3×4=12 4×4=16 \n",
      "1×5=5 2×5=10 3×5=15 4×5=20 5×5=25 \n",
      "1×6=6 2×6=12 3×6=18 4×6=24 5×6=30 6×6=36 \n",
      "1×7=7 2×7=14 3×7=21 4×7=28 5×7=35 6×7=42 7×7=49 \n",
      "1×8=8 2×8=16 3×8=24 4×8=32 5×8=40 6×8=48 7×8=56 8×8=64 \n",
      "1×9=9 2×9=18 3×9=27 4×9=36 5×9=45 6×9=54 7×9=63 8×9=72 9×9=81 \n"
     ]
    }
   ],
   "source": [
    "# 练习\n",
    "\n",
    "# 九九乘法表2\n",
    "\n",
    "def printLine(row):\n",
    "    for col in range(1,row+1):\n",
    "        print('{}×{}={}'.format(col,row,col*row),end=' ')\n",
    "    print('')\n",
    "\n",
    "for row in range(1,10):\n",
    "    printLine(row)"
   ]
  },
  {
   "cell_type": "markdown",
   "metadata": {},
   "source": [
    "## 参数详解\n",
    "  - [参考资料]\n",
    "    ( https://www.cnblogs.com/bingabcd/p/6671368.html )\n",
    "  - python参考资料：\n",
    "        headfirst python --> \n",
    "        零基础入门学习python(小甲鱼)，本讲义参考的是《流畅的python》 --> \n",
    "        图灵扎实的习题辅导 --> \n",
    "        后期可以考虑腾讯公开免费课(炫技/爬虫)\n",
    "  - 参数分类\n",
    "    - 普通参数\n",
    "    - 默认参数\n",
    "    - 关键字参数\n",
    "    - 收集参数"
   ]
  },
  {
   "cell_type": "markdown",
   "metadata": {},
   "source": [
    "    - 普通参数\n",
    "        - 参见上例\n",
    "        - 定义的时候直接定义变量名\n",
    "        - 调用时直接把变量(或值)放入指定位置\n",
    "        \n",
    "        def 函数名 (参数1, 参数2, ... )\n",
    "            函数体\n",
    "            \n",
    "        # 调用\n",
    "        函数名 (value1, value2, ... )\n",
    "        \n",
    "        # 调用的时候，按位置赋值"
   ]
  },
  {
   "cell_type": "markdown",
   "metadata": {},
   "source": [
    "    - 默认参数\n",
    "        - 形参带有默认值\n",
    "        - 调用时，如果没有对相应形参赋值，则使用默认值\n",
    "        \n",
    "        def func_name (p1=v1, p2=v2, ... )\n",
    "            func_block\n",
    "            \n",
    "        # 调用1\n",
    "        func_name ()\n",
    "        \n",
    "        # 调用2\n",
    "        value1 = 100\n",
    "        value2 = 200\n",
    "        func_name( value1, value2)"
   ]
  },
  {
   "cell_type": "code",
   "execution_count": 32,
   "metadata": {},
   "outputs": [],
   "source": [
    "# 默认参数示例\n",
    "# 注册学生信息\n",
    "def reg(name, age, gender = 'male'):\n",
    "    if gender == 'male':\n",
    "        print('{0} is {1},and he is {2}.'.format(name,age,gender))\n",
    "    elif gender == 'female':\n",
    "        print('{0} is {1},and she is {2}.'.format(name,age,gender))\n",
    "    else:\n",
    "        print('传入非标准信息！')"
   ]
  },
  {
   "cell_type": "code",
   "execution_count": 33,
   "metadata": {},
   "outputs": [
    {
     "name": "stdout",
     "output_type": "stream",
     "text": [
      "李强 is 18,and he is male.\n",
      "王静 is 21,and she is female.\n",
      "传入非标准信息！\n"
     ]
    }
   ],
   "source": [
    "# 调用\n",
    "\n",
    "reg('李强', 18)\n",
    "reg('王静', 21, 'female')\n",
    "reg('张萌', age=19, gender = '男')"
   ]
  }
 ],
 "metadata": {
  "kernelspec": {
   "display_name": "Python 3",
   "language": "python",
   "name": "python3"
  },
  "language_info": {
   "codemirror_mode": {
    "name": "ipython",
    "version": 3
   },
   "file_extension": ".py",
   "mimetype": "text/x-python",
   "name": "python",
   "nbconvert_exporter": "python",
   "pygments_lexer": "ipython3",
   "version": "3.6.5"
  }
 },
 "nbformat": 4,
 "nbformat_minor": 2
}
