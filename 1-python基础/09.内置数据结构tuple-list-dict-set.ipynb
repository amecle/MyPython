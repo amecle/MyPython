{
 "cells": [
  {
   "cell_type": "markdown",
   "metadata": {},
   "source": [
    "# 关于元组的函数"
   ]
  },
  {
   "cell_type": "code",
   "execution_count": 4,
   "metadata": {},
   "outputs": [
    {
     "data": {
      "text/plain": [
       "5"
      ]
     },
     "execution_count": 4,
     "metadata": {},
     "output_type": "execute_result"
    }
   ],
   "source": [
    "# len()  获得元组长度\n",
    "t = 1,2,3,4,5\n",
    "len(t)"
   ]
  },
  {
   "cell_type": "code",
   "execution_count": 8,
   "metadata": {},
   "outputs": [
    {
     "name": "stdout",
     "output_type": "stream",
     "text": [
      "5\n",
      "1\n"
     ]
    }
   ],
   "source": [
    "# max, min :最大值，最小值\n",
    "print(max(t))\n",
    "print(min(t))"
   ]
  },
  {
   "cell_type": "code",
   "execution_count": 9,
   "metadata": {},
   "outputs": [
    {
     "name": "stdout",
     "output_type": "stream",
     "text": [
      "(1, 2, 3, 4, 5)\n",
      "()\n"
     ]
    }
   ],
   "source": [
    "# tuple :转化或创建元组\n",
    "l = [1,2,3,4,5]\n",
    "t = tuple(l)\n",
    "print(t)\n",
    "\n",
    "t = tuple()\n",
    "print(t)"
   ]
  },
  {
   "cell_type": "markdown",
   "metadata": {},
   "source": [
    "## 元组的函数\n",
    "  - 和 list 基本通用"
   ]
  },
  {
   "cell_type": "code",
   "execution_count": 12,
   "metadata": {},
   "outputs": [
    {
     "name": "stdout",
     "output_type": "stream",
     "text": [
      "3\n",
      "1\n"
     ]
    }
   ],
   "source": [
    "# count : 计算指定数据出现的次数\n",
    "t = 'a','b',2,5,0,2,'b','a',True,'a',2,\n",
    "print(t.count('a'))\n",
    "\n",
    "# index : 返回指定数据在元组中的位置\n",
    "print(t.index('b'))"
   ]
  },
  {
   "cell_type": "markdown",
   "metadata": {},
   "source": [
    "## 元组变量交换法\n",
    "  - 两个变量交换值"
   ]
  },
  {
   "cell_type": "code",
   "execution_count": 15,
   "metadata": {},
   "outputs": [
    {
     "name": "stdout",
     "output_type": "stream",
     "text": [
      "This is python!\n",
      "1\n"
     ]
    }
   ],
   "source": [
    "# java通常会引入一个新变量\n",
    "a = 1\n",
    "b = 'This is python!'\n",
    "\n",
    "a,b = b,a\n",
    "print(a)\n",
    "print(b)"
   ]
  },
  {
   "cell_type": "markdown",
   "metadata": {},
   "source": [
    "# 集合-set\n",
    "  - 就是数学概念\n",
    "  - 唯一不重复，无序\n",
    "  - 无序：不按程序员指定顺序，系统中存放有特定顺序(可能按hash排序)\n",
    "  - 所以无法使用索引、切片"
   ]
  },
  {
   "cell_type": "code",
   "execution_count": 18,
   "metadata": {},
   "outputs": [
    {
     "name": "stdout",
     "output_type": "stream",
     "text": [
      "<class 'set'>\n",
      "set()\n",
      "{0, 1, 2}\n",
      "---------\n",
      "<class 'dict'>\n",
      "{}\n",
      "<class 'set'>\n",
      "set()\n"
     ]
    }
   ],
   "source": [
    "# 集合定义\n",
    "s = set()\n",
    "print(type(s))\n",
    "print(s)\n",
    "\n",
    "# 大括号定义，{}内一定要有值，不然就是一个dict\n",
    "# 数据唯一\n",
    "s = {0,1,2}\n",
    "print(s)\n",
    "print('---------')\n",
    "\n",
    "# 空大括号{}定义一个dict\n",
    "s = {}\n",
    "ss = set(s)\n",
    "print(type(s))\n",
    "print(s)\n",
    "print(type(ss))\n",
    "print(ss)"
   ]
  },
  {
   "cell_type": "markdown",
   "metadata": {},
   "source": [
    "# 集合的特性\n",
    "  - 集合内数据无序，无法使用索引、切片\n",
    "  - 集合内数据具有唯一性，可以用来排除重复数据\n",
    "  - 集合内的数据，str，int，float，tuple，冰冻集合等，即内部只能放置可哈希数据"
   ]
  },
  {
   "cell_type": "markdown",
   "metadata": {},
   "source": [
    "## 集合序列操作"
   ]
  },
  {
   "cell_type": "code",
   "execution_count": 20,
   "metadata": {},
   "outputs": [
    {
     "name": "stdout",
     "output_type": "stream",
     "text": [
      "False\n",
      "True\n"
     ]
    }
   ],
   "source": [
    "# 成员检测\n",
    "# in ，not in\n",
    "s ={'wang',4,5,'i','love','python'}\n",
    "\n",
    "print( 3 in s)\n",
    "print( 'love' in s)"
   ]
  },
  {
   "cell_type": "markdown",
   "metadata": {},
   "source": [
    "## 集合遍历操作"
   ]
  },
  {
   "cell_type": "code",
   "execution_count": 23,
   "metadata": {},
   "outputs": [
    {
     "name": "stdout",
     "output_type": "stream",
     "text": [
      "4 5 python love i wang "
     ]
    }
   ],
   "source": [
    "# for 循环\n",
    "s ={'wang',4,5,'i','love','python'}\n",
    "\n",
    "for i in s:\n",
    "    print(i,end=' ')"
   ]
  },
  {
   "cell_type": "markdown",
   "metadata": {},
   "source": [
    "### 不可哈希数据\n",
    "    list\n",
    "    set\n",
    "    dict\n",
    "### set 中放入不可哈希数据会报错\n",
    "    TypeError: unhashable type: 'list'\n",
    "    见下例："
   ]
  },
  {
   "cell_type": "code",
   "execution_count": 38,
   "metadata": {},
   "outputs": [
    {
     "ename": "TypeError",
     "evalue": "unhashable type: 'list'",
     "output_type": "error",
     "traceback": [
      "\u001b[1;31m---------------------------------------------------------------------------\u001b[0m",
      "\u001b[1;31mTypeError\u001b[0m                                 Traceback (most recent call last)",
      "\u001b[1;32m<ipython-input-38-1aeb81ea9e42>\u001b[0m in \u001b[0;36m<module>\u001b[1;34m()\u001b[0m\n\u001b[1;32m----> 1\u001b[1;33m \u001b[0ms\u001b[0m \u001b[1;33m=\u001b[0m \u001b[1;33m{\u001b[0m\u001b[1;33m[\u001b[0m\u001b[1;33m]\u001b[0m\u001b[1;33m,\u001b[0m\u001b[1;33m{\u001b[0m\u001b[1;36m1\u001b[0m\u001b[1;33m,\u001b[0m\u001b[1;36m2\u001b[0m\u001b[1;33m,\u001b[0m\u001b[1;36m3\u001b[0m\u001b[1;33m}\u001b[0m\u001b[1;33m,\u001b[0m\u001b[1;33m{\u001b[0m\u001b[1;33m}\u001b[0m\u001b[1;33m}\u001b[0m\u001b[1;33m\u001b[0m\u001b[0m\n\u001b[0m",
      "\u001b[1;31mTypeError\u001b[0m: unhashable type: 'list'"
     ]
    }
   ],
   "source": [
    "s = {[],{1,2,3},{}}"
   ]
  },
  {
   "cell_type": "code",
   "execution_count": 35,
   "metadata": {},
   "outputs": [
    {
     "name": "stdout",
     "output_type": "stream",
     "text": [
      "range(0, 3)\n",
      "(44, 55, 66)\n",
      "abc\n",
      "('i', 'love', 'python')\n",
      "****************************************\n",
      "0 -- 1 -- 2\n",
      "44 -- 55 -- 66\n",
      "a -- b -- c\n",
      "i -- love -- python\n"
     ]
    }
   ],
   "source": [
    "# 带有元组的集合 set 遍历\n",
    "# 双层集合遍历\n",
    "s = {'abc',(44,55,66),('i','love','python'),range(3)}\n",
    "\n",
    "for k in s:\n",
    "    print(k)\n",
    "    \n",
    "print('*' * 40)\n",
    "\n",
    "for k,m,n in s:\n",
    "    print(k,'--',m,'--',n)"
   ]
  },
  {
   "cell_type": "markdown",
   "metadata": {},
   "source": [
    "## 集合的内涵"
   ]
  },
  {
   "cell_type": "code",
   "execution_count": null,
   "metadata": {},
   "outputs": [],
   "source": [
    "# 集合在初始化后自动过滤掉重复元素\n",
    "s = {23,333,542,523,2,4,3,2,4,1,3,2,4,3,0,5}\n",
    "print(s)\n",
    "\n",
    "# 列表生成式创建集合set\n",
    "ss = {i for i in s}\n",
    "print(ss)"
   ]
  },
  {
   "cell_type": "markdown",
   "metadata": {},
   "source": [
    "### 列表生成式创建的数据是什么类型"
   ]
  },
  {
   "cell_type": "code",
   "execution_count": 49,
   "metadata": {},
   "outputs": [
    {
     "name": "stdout",
     "output_type": "stream",
     "text": [
      "<class 'generator'>\n",
      "<class 'list'>\n",
      "<class 'set'>\n"
     ]
    }
   ],
   "source": [
    "s = 1,2,3,4,\n",
    "print(type((i for i in s)))\n",
    "print(type([i for i in s]))\n",
    "print(type({i for i in s}))"
   ]
  },
  {
   "cell_type": "markdown",
   "metadata": {},
   "source": [
    "### 附条件的列表生成式"
   ]
  },
  {
   "cell_type": "code",
   "execution_count": 53,
   "metadata": {},
   "outputs": [
    {
     "name": "stdout",
     "output_type": "stream",
     "text": [
      "{-28, -21, -20, -15, -12, -9, -4, -3}\n"
     ]
    }
   ],
   "source": [
    "s1 = range(1,8)\n",
    "s2 = {-1, -2, -3, -4}\n",
    "\n",
    "s = { m*n for m in s1 if m%2!=0 for n in s2 if n<=-3 }\n",
    "print(s)"
   ]
  },
  {
   "cell_type": "markdown",
   "metadata": {},
   "source": [
    "# 集合函数\n",
    "  - len  \n",
    "  - max, min  （set中元素必须可比）\n",
    "  - set  创建一个set\n",
    "  \n",
    "# 关于集合的函数\n",
    "  - add  添加一个元素\n",
    "  - clear  原地清空set\n",
    "  - copy  拷贝\n",
    "  - discard  移除集合中指定的值，如果没有该值不会报错\n",
    "  - remove  移除指定的值,如果没有该值会报错\n",
    "   - 为什么会报 KeyError 错误，正说明 set 是按 hash 存储的\n",
    "  - pop  随机移除一个元素"
   ]
  },
  {
   "cell_type": "code",
   "execution_count": 67,
   "metadata": {},
   "outputs": [
    {
     "name": "stdout",
     "output_type": "stream",
     "text": [
      "{0, 1, 2, 3, 4, 5, 12}\n",
      "{0, 1, 2, 3, 5, 12}\n",
      "{0, 2, 3, 5, 12}\n",
      "******************************\n",
      "{0, 2, 3, 5, 12}\n"
     ]
    },
    {
     "ename": "KeyError",
     "evalue": "1000",
     "output_type": "error",
     "traceback": [
      "\u001b[1;31m---------------------------------------------------------------------------\u001b[0m",
      "\u001b[1;31mKeyError\u001b[0m                                  Traceback (most recent call last)",
      "\u001b[1;32m<ipython-input-67-b943847b6aa6>\u001b[0m in \u001b[0;36m<module>\u001b[1;34m()\u001b[0m\n\u001b[0;32m      9\u001b[0m \u001b[0ms\u001b[0m\u001b[1;33m.\u001b[0m\u001b[0mdiscard\u001b[0m\u001b[1;33m(\u001b[0m\u001b[1;36m1000\u001b[0m\u001b[1;33m)\u001b[0m\u001b[1;33m\u001b[0m\u001b[0m\n\u001b[0;32m     10\u001b[0m \u001b[0mprint\u001b[0m\u001b[1;33m(\u001b[0m\u001b[0ms\u001b[0m\u001b[1;33m)\u001b[0m\u001b[1;33m\u001b[0m\u001b[0m\n\u001b[1;32m---> 11\u001b[1;33m \u001b[0ms\u001b[0m\u001b[1;33m.\u001b[0m\u001b[0mremove\u001b[0m\u001b[1;33m(\u001b[0m\u001b[1;36m1000\u001b[0m\u001b[1;33m)\u001b[0m\u001b[1;33m\u001b[0m\u001b[0m\n\u001b[0m\u001b[0;32m     12\u001b[0m \u001b[0mprint\u001b[0m\u001b[1;33m(\u001b[0m\u001b[0ms\u001b[0m\u001b[1;33m)\u001b[0m\u001b[1;33m\u001b[0m\u001b[0m\n",
      "\u001b[1;31mKeyError\u001b[0m: 1000"
     ]
    }
   ],
   "source": [
    "s = {0,12,3,4,5,2,4,1,3,}\n",
    "print(s)\n",
    "s.remove(4)\n",
    "print(s)\n",
    "s.discard(1)\n",
    "print(s)\n",
    "print('*'*30)\n",
    "\n",
    "s.discard(1000)\n",
    "print(s)\n",
    "s.remove(1000)\n",
    "print(s)"
   ]
  },
  {
   "cell_type": "code",
   "execution_count": 77,
   "metadata": {
    "scrolled": true
   },
   "outputs": [
    {
     "name": "stdout",
     "output_type": "stream",
     "text": [
      "{0, 33, 1, 2, 4, 3, -0.5, 100, 10, 45, 22, 23, -1}\n",
      "{33, 1, 2, 4, 3, -0.5, 100, 10, 45, 22, 23, -1}\n"
     ]
    }
   ],
   "source": [
    "s = {22,33,23,45,1,2,4,3,0,0,10,-1,-0.5,100}\n",
    "print(s)\n",
    "s.pop()\n",
    "print(s)"
   ]
  },
  {
   "cell_type": "code",
   "execution_count": 78,
   "metadata": {},
   "outputs": [
    {
     "name": "stdout",
     "output_type": "stream",
     "text": [
      "{1, 2, 4, 3, -0.5, 100, 10, 45, 22, 23, -1}\n"
     ]
    }
   ],
   "source": [
    "s.pop()\n",
    "print(s)"
   ]
  },
  {
   "cell_type": "markdown",
   "metadata": {},
   "source": [
    "#### pop()\n",
    "  - 不是严格的随机删除\n",
    "  - 是按 print() 的顺序从最前面开始删除\n",
    "  - ？？ 可能是按系统中元素地址的先后顺序 ？？"
   ]
  },
  {
   "cell_type": "markdown",
   "metadata": {},
   "source": [
    "## 集合函数\n",
    "  - intersection  交集，计算结果返回一个新的set\n",
    "  - difference  差集，计算结果返回一个新的set\n",
    "  - 减号 set1 - set2 相当于求差集\n",
    "  - union  并集，计算结果返回一个新的set\n",
    "  - 并号 set1 | set2 相当于求并集\n",
    "  - issubset  检查一个set是否为另一个set的子集，返回布尔值\n",
    "  - issuperset  检查一个set是否为另一个set的超集，返回布尔值"
   ]
  },
  {
   "cell_type": "code",
   "execution_count": 84,
   "metadata": {},
   "outputs": [
    {
     "name": "stdout",
     "output_type": "stream",
     "text": [
      "{5, 6}\n",
      "{1, 2, 3, 4}\n",
      "{1, 2, 3, 4, 5, 6, 7, 8, 9}\n",
      "False\n"
     ]
    }
   ],
   "source": [
    "s1 = {1,2,3,4,5,6}\n",
    "s2 = {5,6,7,8,9}\n",
    "\n",
    "s_1 = s1.intersection(s2)\n",
    "print(s_1)\n",
    "\n",
    "s_2 = s1.difference(s2)  \n",
    "print(s_2)\n",
    "\n",
    "s_3 = s1.union(s2)  \n",
    "print(s_3)\n",
    "\n",
    "s_4 = s1.issubset(s2)\n",
    "print(s_4)"
   ]
  },
  {
   "cell_type": "code",
   "execution_count": 104,
   "metadata": {},
   "outputs": [
    {
     "name": "stdout",
     "output_type": "stream",
     "text": [
      "{1, 2, 3, 4}\n",
      "{1, 2, 3, 4, 5, 6, 7, 8, 9}\n"
     ]
    }
   ],
   "source": [
    "ss1 = s1 - s2  # 相当于求差集运算\n",
    "print(ss1)\n",
    "\n",
    "ss2 = s2 | s1  # 相当于求并集运算\n",
    "print(ss2)"
   ]
  },
  {
   "cell_type": "markdown",
   "metadata": {},
   "source": [
    "# frozen set ：冰冻集合\n",
    "  - 不可以进行任何更改的一种特殊集合\n",
    "  - 其他 set 特性都具有"
   ]
  },
  {
   "cell_type": "code",
   "execution_count": 108,
   "metadata": {},
   "outputs": [
    {
     "name": "stdout",
     "output_type": "stream",
     "text": [
      "<class 'frozenset'>\n",
      "frozenset()\n",
      "{1, 2, 3}\n",
      "{2, 3}\n"
     ]
    }
   ],
   "source": [
    "s = frozenset()\n",
    "print(type(s))\n",
    "print(s)\n",
    "\n",
    "# 重新赋值，并且新值是非冰冻的set\n",
    "s = {1,2,3} \n",
    "print(s)\n",
    "s.pop()\n",
    "print(s)"
   ]
  },
  {
   "cell_type": "markdown",
   "metadata": {},
   "source": [
    "# dict 字典\n",
    "  - 以键值对( key-value )为元素，组成的集合\n",
    "  - 没有顺序，数据以键值对形式出现\n",
    "  - 语法：\n",
    "   - d1 = { key1:value1, key2:value2, key3:value3, ... }\n",
    "   - d2 = dict( d )  传入一个dict型参数\n",
    "   - d3 = dict( k1=v1, k2=v2, k3=v3, ... )  传入关键字参数"
   ]
  },
  {
   "cell_type": "code",
   "execution_count": 124,
   "metadata": {},
   "outputs": [
    {
     "name": "stdout",
     "output_type": "stream",
     "text": [
      "{}\n",
      "{}\n",
      "{'one': 1, 'two': 2, 'three': 3}\n",
      "{'one': 1, 'two': 2, 'three': 3}\n",
      "{'one': 1, 'two': 2, 'three': 3}\n",
      "{'one': 1, 'two': 2, 'three': 3}\n"
     ]
    }
   ],
   "source": [
    "d = {}\n",
    "print(d)\n",
    "\n",
    "d = dict()\n",
    "print(d)\n",
    "\n",
    "d = {'one':1,'two':2,'three':3}  # 直接赋值\n",
    "print(d)\n",
    "\n",
    "d = dict({'one':1,'two':2,'three':3})  # 函数dict(dict)\n",
    "print(d)\n",
    "\n",
    "d = dict(one=1,two=2,three=3)  # 关键字参数\n",
    "print(d)\n",
    "\n",
    "# 函数 dict(双层list/双层tuple/双层l-t混合)\n",
    "d = dict([('one',1),('two',2),('three',3)])  \n",
    "print(d)"
   ]
  },
  {
   "cell_type": "markdown",
   "metadata": {},
   "source": [
    "# 字典的特征\n",
    "  - 字典是序列类型，不能索引、分片\n",
    "  - 每个元素都是键值对，k - v\n",
    "    - key是唯一的\n",
    "    - key：必须是可哈希的值，比如：int, str, flosat, tuple\n",
    "      - 不可哈希：list, set, dict"
   ]
  },
  {
   "cell_type": "markdown",
   "metadata": {},
   "source": [
    "## 字典的常见操作\n",
    "  - 访问数据\n",
    "  - 修改某元素的value\n",
    "  - 删除某元素，即键值对"
   ]
  },
  {
   "cell_type": "code",
   "execution_count": 126,
   "metadata": {},
   "outputs": [
    {
     "name": "stdout",
     "output_type": "stream",
     "text": [
      "1\n",
      "{'one': 'python', 'two': 2, 'three': 3}\n",
      "{'two': 2, 'three': 3}\n"
     ]
    }
   ],
   "source": [
    "d = {'one':1,'two':2,'three':3}\n",
    "print(d['one'])\n",
    "\n",
    "d['one'] = 'python'\n",
    "print(d)\n",
    "\n",
    "del d['one']\n",
    "print(d)"
   ]
  },
  {
   "cell_type": "markdown",
   "metadata": {},
   "source": [
    "### 成员检测（检测的是key的内容是否在dict中）"
   ]
  },
  {
   "cell_type": "code",
   "execution_count": 129,
   "metadata": {},
   "outputs": [
    {
     "name": "stdout",
     "output_type": "stream",
     "text": [
      "key in dict\n"
     ]
    }
   ],
   "source": [
    "# 成员检测\n",
    "d = {'one':1,'two':2,'three':3}\n",
    "\n",
    "if 1 in d:\n",
    "    print('value in dict')\n",
    "\n",
    "if 'one' in d:\n",
    "    print('key in dict')\n",
    "\n",
    "if ('one',1) in d:\n",
    "    print('key-value in dict')"
   ]
  },
  {
   "cell_type": "markdown",
   "metadata": {},
   "source": [
    "### 遍历\n",
    "  - 用 for in 循环\n",
    "  - k in d\n",
    "  - k in d.keys()\n",
    "  - v in d.values()\n",
    "  - k,v in d.items() \n",
    "  - 注意和python2的区别，python2可以直接 k,v in d"
   ]
  },
  {
   "cell_type": "code",
   "execution_count": 130,
   "metadata": {},
   "outputs": [
    {
     "name": "stdout",
     "output_type": "stream",
     "text": [
      "one 1\n",
      "two 2\n",
      "three 3\n",
      "one 1\n",
      "two 2\n",
      "three 3\n",
      "1\n",
      "2\n",
      "3\n",
      "one 1\n",
      "two 2\n",
      "three 3\n"
     ]
    }
   ],
   "source": [
    "d = {'one':1,'two':2,'three':3}\n",
    "\n",
    "for k in d:\n",
    "    print(k,d[k])\n",
    "    \n",
    "for k in d.keys():\n",
    "    print(k,d[k])\n",
    "    \n",
    "for v in d.values():\n",
    "    print(v)\n",
    "\n",
    "# python2 的用法是 for k,v in d:\n",
    "for k,v in d.items():\n",
    "    print(k,v)"
   ]
  },
  {
   "cell_type": "markdown",
   "metadata": {},
   "source": [
    "# 字典生成式\n",
    "  - 关键是可以加条件语句进行筛选\n",
    "  - 生成式也可以变化"
   ]
  },
  {
   "cell_type": "code",
   "execution_count": 135,
   "metadata": {},
   "outputs": [
    {
     "name": "stdout",
     "output_type": "stream",
     "text": [
      "{'one': 1}\n",
      "{'twoHHH': 6}\n"
     ]
    }
   ],
   "source": [
    "d = {'one':1,'two':2,'three':3}\n",
    "\n",
    "dd = { k:v for k,v in d.items() if v<2 }\n",
    "print(dd)\n",
    "\n",
    "dd = { k+'HHH':v*3 for k,v in d.items() if v%2 == 0}\n",
    "print(dd)"
   ]
  },
  {
   "cell_type": "markdown",
   "metadata": {},
   "source": [
    "# 字典相关函数\n",
    "  - 通用函数：len, max, min, dict\n",
    "  - str(d)  返回字典的字符串格式"
   ]
  },
  {
   "cell_type": "code",
   "execution_count": 138,
   "metadata": {},
   "outputs": [
    {
     "name": "stdout",
     "output_type": "stream",
     "text": [
      "abc{'one': 1, 'two': 2, 'three': 3}000\n"
     ]
    }
   ],
   "source": [
    "d = {'one':1,'two':2,'three':3}\n",
    "s = str(d)\n",
    "print('abc'+s+'000')"
   ]
  },
  {
   "cell_type": "markdown",
   "metadata": {},
   "source": [
    "### 可迭代结构\n",
    "  - d.items()\n",
    "  - d.keys()\n",
    "  - d.values()\n",
    "  - 返回的都是可迭代结构"
   ]
  },
  {
   "cell_type": "code",
   "execution_count": 141,
   "metadata": {},
   "outputs": [
    {
     "name": "stdout",
     "output_type": "stream",
     "text": [
      "<class 'dict_keys'>\n",
      "dict_keys(['one', 'two', 'three'])\n",
      "<class 'dict_values'>\n",
      "dict_values([1, 2, 3])\n",
      "<class 'dict_items'>\n",
      "dict_items([('one', 1), ('two', 2), ('three', 3)])\n"
     ]
    }
   ],
   "source": [
    "d = {'one':1,'two':2,'three':3}\n",
    "\n",
    "k = d.keys()\n",
    "v = d.values()\n",
    "i = d.items()\n",
    "\n",
    "print(type(k))\n",
    "print(k)\n",
    "print(type(v))\n",
    "print(v)\n",
    "print(type(i))\n",
    "print(i)"
   ]
  },
  {
   "cell_type": "markdown",
   "metadata": {},
   "source": [
    "### d.clear()\n",
    "  - 清空dict"
   ]
  },
  {
   "cell_type": "code",
   "execution_count": 143,
   "metadata": {},
   "outputs": [
    {
     "name": "stdout",
     "output_type": "stream",
     "text": [
      "{}\n"
     ]
    }
   ],
   "source": [
    "d = {'one':1,'two':2,'three':3}\n",
    "d.clear()\n",
    "print(d)"
   ]
  },
  {
   "cell_type": "markdown",
   "metadata": {},
   "source": [
    "### d.get()\n",
    "  - 根据指定key返回相应的value\n",
    "  - 找不到返回 None，不像d[key]访问会报错\n",
    "  - 可以通过设置默认值，当找不到时返回默认值"
   ]
  },
  {
   "cell_type": "code",
   "execution_count": 146,
   "metadata": {},
   "outputs": [
    {
     "name": "stdout",
     "output_type": "stream",
     "text": [
      "1\n",
      "None\n",
      "1\n",
      "没有\n"
     ]
    },
    {
     "ename": "KeyError",
     "evalue": "'four'",
     "output_type": "error",
     "traceback": [
      "\u001b[1;31m---------------------------------------------------------------------------\u001b[0m",
      "\u001b[1;31mKeyError\u001b[0m                                  Traceback (most recent call last)",
      "\u001b[1;32m<ipython-input-146-6a180e2914e0>\u001b[0m in \u001b[0;36m<module>\u001b[1;34m()\u001b[0m\n\u001b[0;32m      7\u001b[0m \u001b[0mprint\u001b[0m\u001b[1;33m(\u001b[0m\u001b[0md\u001b[0m\u001b[1;33m.\u001b[0m\u001b[0mget\u001b[0m\u001b[1;33m(\u001b[0m\u001b[1;34m'four'\u001b[0m\u001b[1;33m,\u001b[0m\u001b[1;34m'没有'\u001b[0m\u001b[1;33m)\u001b[0m\u001b[1;33m)\u001b[0m\u001b[1;33m\u001b[0m\u001b[0m\n\u001b[0;32m      8\u001b[0m \u001b[1;33m\u001b[0m\u001b[0m\n\u001b[1;32m----> 9\u001b[1;33m \u001b[0mprint\u001b[0m\u001b[1;33m(\u001b[0m\u001b[0md\u001b[0m\u001b[1;33m[\u001b[0m\u001b[1;34m'four'\u001b[0m\u001b[1;33m]\u001b[0m\u001b[1;33m)\u001b[0m\u001b[1;33m\u001b[0m\u001b[0m\n\u001b[0m",
      "\u001b[1;31mKeyError\u001b[0m: 'four'"
     ]
    }
   ],
   "source": [
    "d = {'one':1,'two':2,'three':3}\n",
    "print(d.get('one'))\n",
    "print(d.get('four'))\n",
    "\n",
    "print(d.get('one','没有'))\n",
    "print(d.get('four','没有'))\n",
    "\n",
    "print(d['four'])"
   ]
  },
  {
   "cell_type": "markdown",
   "metadata": {},
   "source": [
    "### fromkeys()\n",
    "  - 使用指定的序列作为key，使用一个值作为字典的所有健的value\n",
    "  - 调用 dict.fromkeys(l,'python') \n",
    "   - 类dict.方法fromkeys( )"
   ]
  },
  {
   "cell_type": "code",
   "execution_count": 1,
   "metadata": {},
   "outputs": [
    {
     "name": "stdout",
     "output_type": "stream",
     "text": [
      "{'one': 'python', 'two': 'python', 'three': 'python'}\n"
     ]
    }
   ],
   "source": [
    "l = ['one', 'two', 'three']\n",
    "d = dict.fromkeys(l,'python')\n",
    "print(d)"
   ]
  }
 ],
 "metadata": {
  "kernelspec": {
   "display_name": "Python 3",
   "language": "python",
   "name": "python3"
  },
  "language_info": {
   "codemirror_mode": {
    "name": "ipython",
    "version": 3
   },
   "file_extension": ".py",
   "mimetype": "text/x-python",
   "name": "python",
   "nbconvert_exporter": "python",
   "pygments_lexer": "ipython3",
   "version": "3.6.5"
  }
 },
 "nbformat": 4,
 "nbformat_minor": 2
}
