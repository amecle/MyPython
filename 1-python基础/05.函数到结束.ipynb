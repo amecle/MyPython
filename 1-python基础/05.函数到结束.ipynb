{
 "cells": [
  {
   "cell_type": "markdown",
   "metadata": {},
   "source": [
    "# 四类参数\n",
    "  - 普通参数\n",
    "  - 默认参数\n",
    "  - 关键字参数\n",
    "  - 收集参数\n",
    "  \n",
    "## 关键字参数\n",
    "  - 语法\n",
    "        def func( p1 = v1, p2 = v2, ... ):\n",
    "            func_body\n",
    "        \n",
    "        # 调用：\n",
    "        func( p1 = value1, p2 = value2, ... )\n",
    "  - 比较麻烦，也有好处：\n",
    "      - 不容易混淆，普通参数只按位置传递，容易出错\n",
    "      - 使用关键字参数，可以不考虑参数位置"
   ]
  },
  {
   "cell_type": "code",
   "execution_count": 4,
   "metadata": {},
   "outputs": [
    {
     "name": "stdout",
     "output_type": "stream",
     "text": [
      "I am a student\n",
      "我叫王静，我今年18岁了，我住在朝阳.\n"
     ]
    }
   ],
   "source": [
    "# 注册学生信息\n",
    "def stu_key(name='No name', age=0, addr='No addr'):\n",
    "    print('I am a student')\n",
    "    print('我叫{0}，我今年{1}岁了，我住在{2}.'.format(name, age, addr))\n",
    "\n",
    "n = '王静'\n",
    "a = 18\n",
    "addr = '朝阳'\n",
    "\n",
    "stu_key(age=a, name=n, addr=addr)"
   ]
  },
  {
   "cell_type": "markdown",
   "metadata": {},
   "source": [
    "## 收集参数\n",
    "  - 把没有位置，不能和定义时的参数位置相对应的参数，放入一个特定的数据结构中\n",
    "  - 语法\n",
    "        \n",
    "        def func(*args):\n",
    "            func_body\n",
    "        \n",
    "        # 调用：\n",
    "        func(p1, p2, p3, ... )\n",
    "  - 参数名 args 不是必须这样命名，但是，强烈推荐直接用 args，约定俗成\n",
    "  - 参数名 args 前需要有星号 * \n",
    "  - 按照 list 的使用方式，访问 args 得到的传入参数\n",
    "  - 手机参数可以和其他参数共存\n",
    "  "
   ]
  },
  {
   "cell_type": "code",
   "execution_count": 31,
   "metadata": {},
   "outputs": [
    {
     "name": "stdout",
     "output_type": "stream",
     "text": [
      "<class 'tuple'>\n",
      "王静\n",
      "20\n",
      "female\n",
      "python\n",
      "6\n",
      "('王静', 20, 'female', 'python', 6)\n",
      "****************************************\n",
      "<class 'tuple'>\n",
      "李强\n",
      "18\n",
      "('李强', 18)\n",
      "****************************************\n",
      "<class 'tuple'>\n",
      "()\n"
     ]
    }
   ],
   "source": [
    "# 收集参数\n",
    "\n",
    "def stu(*args):\n",
    "    print(type(args))\n",
    "    for i in args:\n",
    "        print(i)\n",
    "    print(args)\n",
    "\n",
    "stu('王静', 20, 'female', 'python', 6)\n",
    "print('*' * 40)   # 字符串乘法：打印40个星号\n",
    "stu('李强', 18)\n",
    "print('*' * 40)   # 字符串乘法：打印40个星号\n",
    "stu()\n"
   ]
  },
  {
   "cell_type": "markdown",
   "metadata": {},
   "source": [
    "## 收集参数  之  关键字收集参数\n",
    "  - 把关键字参数按字典格式(dict)存入收集参数\n",
    "  - 语法\n",
    "  \n",
    "        def func(**kwargs):\n",
    "            func_body\n",
    "            \n",
    "        # 调用\n",
    "        func(p1=v1, p2=v2, p3=v3, ... )\n",
    "     - 参数名 kwargs 一般约定俗成\n",
    "     - 调用时，把多余的关键字参数放入 kwargs \n",
    "     - 访问 kwargs 需要按字典格式(dict)访问"
   ]
  },
  {
   "cell_type": "code",
   "execution_count": 38,
   "metadata": {},
   "outputs": [
    {
     "name": "stdout",
     "output_type": "stream",
     "text": [
      "<class 'dict'>\n",
      "name --- 王静\n",
      "age --- 20\n",
      "gender --- female\n",
      "language --- python\n",
      "grade --- 6\n",
      "{'name': '王静', 'age': 20, 'gender': 'female', 'language': 'python', 'grade': 6}\n",
      "****************************************\n",
      "<class 'dict'>\n",
      "name --- 李强\n",
      "age --- 18\n",
      "{'name': '李强', 'age': 18}\n",
      "****************************************\n",
      "<class 'dict'>\n",
      "{}\n"
     ]
    }
   ],
   "source": [
    "# 收集参数\n",
    "\n",
    "def stu(**kwargs):\n",
    "    print(type(kwargs))\n",
    "    for k,v in kwargs.items():\n",
    "        print(k, '---', v)\n",
    "    print(kwargs)\n",
    "\n",
    "stu(name='王静', age=20, gender='female', language='python', grade=6)\n",
    "print('*' * 40)   # 字符串乘法：打印40个星号\n",
    "stu(name='李强', age=18)\n",
    "print('*' * 40)   # 字符串乘法：打印40个星号\n",
    "stu()"
   ]
  },
  {
   "cell_type": "markdown",
   "metadata": {},
   "source": [
    "### 收集参数混合调用的顺序问题\n",
    "  - 普通参数、关键字参数、收集参数，可以混合使用\n",
    "  - 使用规则：普通参数和关键字参数优先\n",
    "  - 定义时的一般顺序：普通参数，收集参数tuple，关键字参数，收集参数dict"
   ]
  },
  {
   "cell_type": "code",
   "execution_count": 80,
   "metadata": {},
   "outputs": [],
   "source": [
    "# 收集参数混合调用案例\n",
    "def stu(name, age, *args, hobby='没有', **kwargs):\n",
    "    print('Hello 大家好')\n",
    "    print('我叫{0}，我今年{1}岁了。'.format(name,age))\n",
    "    if hobby == '没有':\n",
    "        print('我没有爱好。')\n",
    "    else:\n",
    "        print('我的爱好是{0}'.format(hobby))\n",
    "    \n",
    "    for i in args:\n",
    "        print(i)\n",
    "    \n",
    "    for k,v in kwargs.items():\n",
    "        print(k, '---', v)\n",
    "        \n",
    "    print('*' * 30)        "
   ]
  },
  {
   "cell_type": "code",
   "execution_count": 82,
   "metadata": {},
   "outputs": [
    {
     "name": "stdout",
     "output_type": "stream",
     "text": [
      "Hello 大家好\n",
      "我叫李强，我今年20岁了。\n",
      "我没有爱好。\n",
      "******************************\n",
      "Hello 大家好\n",
      "我叫李强，我今年20岁了。\n",
      "我的爱好是游泳\n",
      "******************************\n",
      "Hello 大家好\n",
      "我叫李强，我今年20岁了。\n",
      "我的爱好是游泳\n",
      "hobby1 --- 骑马\n",
      "hobby2 --- 击剑\n",
      "hobby3 --- 哲学\n",
      "******************************\n"
     ]
    }
   ],
   "source": [
    "name = '李强'\n",
    "age = 20\n",
    "\n",
    "# 调用的不同格式\n",
    "stu(name, age)\n",
    "stu(name, age, hobby='游泳')\n",
    "stu(name, age, hobby='游泳', hobby1='骑马', hobby2='击剑', hobby3='哲学')"
   ]
  },
  {
   "cell_type": "markdown",
   "metadata": {},
   "source": [
    "### 收集参数的解包问题\n",
    "  - 把参数放入 list 或者 dict 中，直接把 list / dict 中的值放入收集参数中\n",
    "  - 语法：见案例"
   ]
  },
  {
   "cell_type": "code",
   "execution_count": 91,
   "metadata": {},
   "outputs": [
    {
     "name": "stdout",
     "output_type": "stream",
     "text": [
      "<class 'str'> 王静\n",
      "<class 'int'> 20\n",
      "<class 'str'> python\n",
      "****************************************\n",
      "<class 'list'> ['王静', 20, 'python']\n"
     ]
    }
   ],
   "source": [
    "# 收集参数案例\n",
    "\n",
    "def stu(*args):\n",
    "    for i in args:\n",
    "        print(type(i), i)\n",
    "        \n",
    "lst = list()\n",
    "lst.append('王静')\n",
    "lst.append(20)\n",
    "lst.append('python')\n",
    "stu(*lst)\n",
    "print(\"*\" * 40)\n",
    "stu(lst)"
   ]
  },
  {
   "cell_type": "markdown",
   "metadata": {},
   "source": [
    "  - 同理，dict 类型收集参数一样可以解包\n",
    "    - 对 dict 类型进行解包需要用两个星号 ** "
   ]
  },
  {
   "cell_type": "markdown",
   "metadata": {},
   "source": [
    "# 返回值\n",
    "  - 函数和过程的区别\n",
    "    - 有无返回值\n",
    "  - 需要用 return 显示返回内容\n",
    "  - 如果没有返回，则系统默认返回 None ( return None )\n",
    "  - 推荐写法：无论有无返回值，最后都要以 return 结束"
   ]
  },
  {
   "cell_type": "code",
   "execution_count": 95,
   "metadata": {},
   "outputs": [
    {
     "name": "stdout",
     "output_type": "stream",
     "text": [
      "有返回值\n",
      "1\n",
      "没有返回值\n",
      "None\n"
     ]
    }
   ],
   "source": [
    "def func1():\n",
    "    print('有返回值')\n",
    "    return 1\n",
    "\n",
    "def func2():\n",
    "    print('没有返回值')\n",
    "    \n",
    "f1 = func1()\n",
    "print(f1)\n",
    "\n",
    "f2 = func2()\n",
    "print(f2)    "
   ]
  },
  {
   "cell_type": "markdown",
   "metadata": {},
   "source": [
    "# 函数文档\n",
    "    （python自带电池：因为 python 文档齐全，使用方便。）\n",
    "  - 函数的文档的作用是对当前函数提供使用相关的参考信息\n",
    "  - 文档的写法：\n",
    "    - 在函数内部开始第一行使用三引号定义符\n",
    "    - 一般具有特定格式\n",
    "  - 文档查看方法\n",
    "    - 使用 help 函数 ，形如 help(func) ， func 是函数名\n",
    "    - 使用 __doc__ 属性"
   ]
  },
  {
   "cell_type": "code",
   "execution_count": 106,
   "metadata": {},
   "outputs": [
    {
     "name": "stdout",
     "output_type": "stream",
     "text": [
      "Help on function stu in module __main__:\n",
      "\n",
      "stu(name, age)\n",
      "    这是文档的文字内容\n",
      "    :param name: 表示学生的姓名\n",
      "    :param age: 表示学生的年龄\n",
      "    :return: 此函数没有返回值\n",
      "\n",
      "None\n",
      "********************\n",
      "\n",
      "    这是文档的文字内容\n",
      "    :param name: 表示学生的姓名\n",
      "    :param age: 表示学生的年龄\n",
      "    :return: 此函数没有返回值\n",
      "    \n"
     ]
    }
   ],
   "source": [
    "# 文档案例\n",
    "def stu(name, age):\n",
    "    '''\n",
    "    这是文档的文字内容\n",
    "    :param name: 表示学生的姓名\n",
    "    :param age: 表示学生的年龄\n",
    "    :return: 此函数没有返回值\n",
    "    '''\n",
    "    pass\n",
    "    \n",
    "# 查看函数文档\n",
    "print(help(stu))\n",
    "print('*' * 20)\n",
    "print(stu.__doc__)"
   ]
  }
 ],
 "metadata": {
  "kernelspec": {
   "display_name": "Python 3",
   "language": "python",
   "name": "python3"
  },
  "language_info": {
   "codemirror_mode": {
    "name": "ipython",
    "version": 3
   },
   "file_extension": ".py",
   "mimetype": "text/x-python",
   "name": "python",
   "nbconvert_exporter": "python",
   "pygments_lexer": "ipython3",
   "version": "3.6.5"
  }
 },
 "nbformat": 4,
 "nbformat_minor": 2
}
