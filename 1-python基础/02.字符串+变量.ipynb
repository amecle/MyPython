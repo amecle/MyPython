{
 "cells": [
  {
   "cell_type": "markdown",
   "metadata": {},
   "source": [
    "# 字符串\n",
    "    -转义字符\n",
    "    -格式化\n",
    "    -内建函数（后延）\n",
    "## 转义字符\n",
    "    -用一个特殊方法表示出一系列不便写出的内容，如回车、换行键、退格键\n",
    "    -借助反斜杠字符 \\ ，一旦字符串出现 \\ ，则 \\ 后面的一个或几个字符进行了转义\n",
    "    -不同系统对换行操作有不同的表示\n",
    "        - Windows: \\n\n",
    "        - Linux:  \\r\\n"
   ]
  },
  {
   "cell_type": "code",
   "execution_count": 10,
   "metadata": {},
   "outputs": [
    {
     "name": "stdout",
     "output_type": "stream",
     "text": [
      "C:\\user\n"
     ]
    }
   ],
   "source": [
    "s = 'C:\\\\user'\n",
    "print(s)"
   ]
  },
  {
   "cell_type": "code",
   "execution_count": 16,
   "metadata": {},
   "outputs": [
    {
     "name": "stdout",
     "output_type": "stream",
     "text": [
      "123456\r",
      "789\n",
      "123456\n",
      "789\n",
      "123456\r\n",
      "789\n"
     ]
    }
   ],
   "source": [
    "s1 = '123456\\r789'\n",
    "print(s1)\n",
    "s2 = '123456\\n789'\n",
    "print(s2)\n",
    "s3 = '123456\\r\\n789'\n",
    "print(s3)"
   ]
  },
  {
   "cell_type": "markdown",
   "metadata": {},
   "source": [
    "## 字符串格式化\n",
    "    -把字符串按一定格式打印或者填充\n",
    "    -格式化有两种方法\n",
    "        利用百分号（%）\n",
    "        利用 format 函数"
   ]
  },
  {
   "cell_type": "markdown",
   "metadata": {},
   "source": [
    "    利用百分号格式化\n",
    "        %d 放入一个整数\n",
    "        %s 放入一个字符串\n",
    "        有几个占位符，则必须用几个实际内容代替，或者一个也不要（%当做字符）。"
   ]
  },
  {
   "cell_type": "code",
   "execution_count": 36,
   "metadata": {},
   "outputs": [
    {
     "name": "stdout",
     "output_type": "stream",
     "text": [
      "I love python.\n",
      "I am 40 years old.\n",
      "I am 40 years old.\n",
      "I love %s, i am %d years old.\n",
      "I love python, i am 40 years old.\n"
     ]
    }
   ],
   "source": [
    "print('I love %s'%'python.')\n",
    "print('I am %d years old.'%40)\n",
    "s = 'I am %d years old.'\n",
    "print(s%40)\n",
    "ss = 'I love %s, i am %d years old.'\n",
    "print(ss)\n",
    "\n",
    "#如果出现多个占位符，则相应内容要用括号括起来\n",
    "print( ss %('python',40))"
   ]
  },
  {
   "cell_type": "markdown",
   "metadata": {},
   "source": [
    "    利用 format 函数格式化字符串（现在比较流行）\n",
    "        推荐使用\n",
    "        在使用上，以{}和:代替%，后面用format带参数完成。\n",
    "        （一般:较少用，直接一个{}搞定）"
   ]
  },
  {
   "cell_type": "code",
   "execution_count": 42,
   "metadata": {},
   "outputs": [
    {
     "name": "stdout",
     "output_type": "stream",
     "text": [
      "I love python\n",
      "python is my love.\n",
      "我40岁了！I love python, i am 40 years old.\n",
      "我40岁了！I love python, i am 40 years old.\n"
     ]
    }
   ],
   "source": [
    "s1 = 'I love {}'.format('python')\n",
    "s2 = '{} is my love.'\n",
    "print(s1)\n",
    "print(s2.format('python'))\n",
    "\n",
    "s = '我{}岁了！I love {}, i am {} years old.'.format(40,'python',40)\n",
    "print(s)\n",
    "s = '我{1}岁了！I love {0}, i am {1} years old.'.format('python',40)\n",
    "print(s)"
   ]
  },
  {
   "cell_type": "markdown",
   "metadata": {},
   "source": [
    "## None\n",
    "    -表示什么都没有\n",
    "    -如果函数没有返回值，可以 return None，用来占位\n",
    "    -用来解除变量的绑定    "
   ]
  },
  {
   "cell_type": "markdown",
   "metadata": {},
   "source": [
    "# 表达式\n",
    "    -有一个或几个数字或者变量和运算符组合成的一行代码\n",
    "    -通常会返回一个结果\n",
    "# 运算符\n",
    "    - 算数运算符\n",
    "    - 比较运算符（关系运算符）\n",
    "    - 赋值运算符\n",
    "    - 逻辑运算符\n",
    "    - 位运算（用的较少，更像C语音的残留）\n",
    "    - 成员运算\n",
    "    - 身份运算符"
   ]
  },
  {
   "cell_type": "markdown",
   "metadata": {},
   "source": [
    "## 算数运算符\n",
    "    python没有自增自减运算符"
   ]
  },
  {
   "cell_type": "code",
   "execution_count": 43,
   "metadata": {},
   "outputs": [
    {
     "name": "stdout",
     "output_type": "stream",
     "text": [
      "1\n",
      "2\n",
      "6561\n"
     ]
    }
   ],
   "source": [
    "# % 取余运算\n",
    "a = 9%4\n",
    "print(a)\n",
    "\n",
    "# // 取商运算，也叫地板除\n",
    "a = 9//4\n",
    "print(a)\n",
    "\n",
    "# ** 幂运算\n",
    "a = 9 ** 4\n",
    "print(a)"
   ]
  },
  {
   "cell_type": "markdown",
   "metadata": {},
   "source": [
    "## 比较运算符\n",
    "    -比较的结果是布尔值，True/False\n",
    "    ==   >   <   >=   <=   !="
   ]
  },
  {
   "cell_type": "code",
   "execution_count": 48,
   "metadata": {},
   "outputs": [
    {
     "name": "stdout",
     "output_type": "stream",
     "text": [
      "False\n"
     ]
    }
   ],
   "source": [
    "# 运算顺序：\n",
    "# 1.先计算赋值号 = 右边的结果\n",
    "# 2.再把结果赋值给变量a\n",
    "a = True == 2\n",
    "print(a)"
   ]
  },
  {
   "cell_type": "markdown",
   "metadata": {},
   "source": [
    "# 赋值运算符"
   ]
  },
  {
   "cell_type": "code",
   "execution_count": 49,
   "metadata": {},
   "outputs": [
    {
     "name": "stdout",
     "output_type": "stream",
     "text": [
      "7\n"
     ]
    }
   ],
   "source": [
    "# =  赋值\n",
    "a = 0\n",
    "c = a = 4\n",
    "\n",
    "# += 是缩写\n",
    "a = 0\n",
    "a += 7   #  a = a + 7 的缩写\n",
    "print(a)\n",
    "\n",
    "# 所有数学运算符都有缩写形式：\n",
    "# -=   *=   /=   %=   //=   **="
   ]
  },
  {
   "cell_type": "markdown",
   "metadata": {},
   "source": [
    "# 逻辑运算符\n",
    "    and 逻辑与\n",
    "    or 逻辑或\n",
    "    not 逻辑非\n",
    "    python中没有异或运算\n",
    "    -运算规则\n",
    "        - and看做乘法，or看做加法（先算乘and，再算加or）\n",
    "        - True看作1，False看做0\n",
    "        - 则逻辑运算转换为数学运算\n",
    "        - 最后结果是0则为False，否则为True\n",
    "    -逻辑运算的短路问题\n",
    "        - 逻辑运算式"
   ]
  },
  {
   "cell_type": "code",
   "execution_count": 52,
   "metadata": {},
   "outputs": [
    {
     "name": "stdout",
     "output_type": "stream",
     "text": [
      "True\n",
      "True\n",
      "False\n"
     ]
    }
   ],
   "source": [
    "a = False\n",
    "b = False\n",
    "c = True\n",
    "\n",
    "# 等价于  d = 0 * 0 + 1\n",
    "d = a and b or c\n",
    "print(d)\n",
    "\n",
    "# 等价于  d = 1 + 0 * 0\n",
    "d = c or a and b     # 注意运算顺序\n",
    "print(d)\n",
    "d = (c or a) and b   # 要想先算or，用()\n",
    "print(d)"
   ]
  },
  {
   "cell_type": "code",
   "execution_count": 55,
   "metadata": {},
   "outputs": [],
   "source": [
    "# 短路案例\n",
    "\n",
    "# 下面的逻辑表达式，a的值一定是True，则运行到or的时候，整个表达式不再向下计算\n",
    "# （因为 or 是逻辑运算的最后运算符）\n",
    "a = True or xxxxxxxxxxxxxxxx"
   ]
  },
  {
   "cell_type": "markdown",
   "metadata": {},
   "source": [
    "# 成员运算符\n",
    "    - 用来检测某一个变量是否是另一个变量的成员\n",
    "      in\n",
    "      not in"
   ]
  },
  {
   "cell_type": "code",
   "execution_count": 56,
   "metadata": {},
   "outputs": [
    {
     "name": "stdout",
     "output_type": "stream",
     "text": [
      "False\n",
      "True\n",
      "False\n"
     ]
    }
   ],
   "source": [
    "l = [1,2,3,4,5]\n",
    "\n",
    "a = 7\n",
    "b = a in l\n",
    "print(b)\n",
    "\n",
    "a = 4\n",
    "print(a in l)\n",
    "print(a not in l)"
   ]
  },
  {
   "cell_type": "markdown",
   "metadata": {},
   "source": [
    "# 身份运算符\n",
    "    is ：用来检测两个变量是否同一个变量\n",
    "    is not ：两个变量不是同一个变量\n",
    "    ？？为什么带空格的字符串会在内存中创造两个str，没有空格的字符串在内存中创造一个str"
   ]
  },
  {
   "cell_type": "code",
   "execution_count": 69,
   "metadata": {},
   "outputs": [
    {
     "name": "stdout",
     "output_type": "stream",
     "text": [
      "True \n",
      "\n",
      "True\n",
      "True \n",
      "\n",
      "False\n",
      "True\n"
     ]
    }
   ],
   "source": [
    "a = 9\n",
    "b = 9\n",
    "print(a is b,'\\n')\n",
    "\n",
    "a = 'ilovepython'\n",
    "b = 'ilovepython'\n",
    "print(a is b)\n",
    "print(a==b,'\\n')\n",
    "\n",
    "a = 'i love python'\n",
    "b = 'i love python'\n",
    "print(a is b)\n",
    "print(a==b)"
   ]
  },
  {
   "cell_type": "markdown",
   "metadata": {},
   "source": [
    "# 运算符的优先级问题\n",
    "    1.永远记住，括号()具有最高优先级\n",
    "    2. python 崇尚简洁明了，不推荐使用复杂的表达式，可拆分表达式\n",
    "    3.运算符优先级：\n",
    "        **   指数（最高优先级）\n",
    "        ~  +  -   按位翻转，一元加号和减号（后两个的方法名为 +@ 和 -@ ）\n",
    "        *  /  %  //    乘，除，取余，取整\n",
    "        +  -    加法减法\n",
    "        >>  <<    右移，左移运算符\n",
    "        &    位'and'\n",
    "        ^  |    位运算符\n",
    "        <=  <  >  >==    比较运算符\n",
    "        <>  ==  !=    等于运算符\n",
    "        =  %=  /=  //=  -=  +=  *=  **=    赋值运算符\n",
    "        is   is not    身份运算符\n",
    "        in   not in    成员运算符\n",
    "        not   or   and    逻辑运算符"
   ]
  }
 ],
 "metadata": {
  "kernelspec": {
   "display_name": "Python 3",
   "language": "python",
   "name": "python3"
  },
  "language_info": {
   "codemirror_mode": {
    "name": "ipython",
    "version": 3
   },
   "file_extension": ".py",
   "mimetype": "text/x-python",
   "name": "python",
   "nbconvert_exporter": "python",
   "pygments_lexer": "ipython3",
   "version": "3.6.5"
  }
 },
 "nbformat": 4,
 "nbformat_minor": 2
}
