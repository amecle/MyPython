{
 "cells": [
  {
   "cell_type": "code",
   "execution_count": 5,
   "metadata": {},
   "outputs": [
    {
     "name": "stdout",
     "output_type": "stream",
     "text": [
      "NoName\n",
      "daodao\n",
      "sleeping ... ...\n",
      "9527\n",
      "attention\n"
     ]
    }
   ],
   "source": [
    "# 在python中，任何类都有一个共同的父类：object\n",
    "class Person():\n",
    "    name = 'NoName'\n",
    "    age = 0\n",
    "    _petname = 'daodao'  # 小名，受保护的，子类可用，不能公用\n",
    "    __score = 0   # 考试成绩是秘密，只能自己知道\n",
    "    def sleep(self):\n",
    "        print(\"sleeping ... ...\")\n",
    "        \n",
    "# 父类写在括号内\n",
    "class Teacher(Person):\n",
    "    teacher_id = '9527'\n",
    "    def make_test(self):\n",
    "        print('attention')\n",
    "\n",
    "        \n",
    "t = Teacher()\n",
    "print(t.name)\n",
    "\n",
    "# 受保护的外部不能访问，这里为啥可以\n",
    "print(t._petname)\n",
    "\n",
    "# 私有的，公开访问报错\n",
    "#print(t.__score)\n",
    "\n",
    "t.sleep()\n",
    "print(t.teacher_id)\n",
    "t.make_test()"
   ]
  },
  {
   "cell_type": "code",
   "execution_count": 6,
   "metadata": {},
   "outputs": [
    {
     "name": "stdout",
     "output_type": "stream",
     "text": [
      "wangw\n"
     ]
    }
   ],
   "source": [
    "# 子类和父类定义同一个名称变量，则优先使用子类本身\n",
    "class Person():\n",
    "    name = 'NoName'\n",
    "    age = 0\n",
    "    _petname = 'daodao'  # 小名，受保护的，子类可用，不能公用\n",
    "    __score = 0   # 考试成绩是秘密，只能自己知道\n",
    "    def sleep(self):\n",
    "        print(\"sleeping ... ...\")\n",
    "        \n",
    "class Teacher(Person):\n",
    "    teacher_id = '9527'\n",
    "    name = 'wangw'\n",
    "    def make_test(self):\n",
    "        print('attention')\n",
    "        \n",
    "t = Teacher()\n",
    "print(t.name)"
   ]
  },
  {
   "cell_type": "markdown",
   "metadata": {},
   "source": [
    "代码存储是用栈来存储的"
   ]
  },
  {
   "cell_type": "code",
   "execution_count": 7,
   "metadata": {},
   "outputs": [
    {
     "name": "stdout",
     "output_type": "stream",
     "text": [
      "make some money\n",
      "make some money\n",
      "attention\n"
     ]
    }
   ],
   "source": [
    "# 子类扩充父类功能：\n",
    "# 人有工作，老师也有，是讲课\n",
    "class Person():\n",
    "    name = 'NoName'\n",
    "    age = 0\n",
    "    _petname = 'daodao'  # 小名，受保护的，子类可用，不能公用\n",
    "    __score = 0   # 考试成绩是秘密，只能自己知道\n",
    "    def sleep(self):\n",
    "        print(\"sleeping ... ...\")\n",
    "        \n",
    "    def work(self):\n",
    "        print('make some money')\n",
    "        \n",
    "        \n",
    "class Teacher(Person):\n",
    "    teacher_id = '9527'\n",
    "    name = 'wangw'\n",
    "    def make_test(self):\n",
    "        print('attention')\n",
    "        \n",
    "    def work(self):\n",
    "        # 扩充父类的功能只需要调用相应的父类中的函数\n",
    "        Person.work(self)\n",
    "        # 扩充父类的另一种方法\n",
    "        # super()代表得到父类，但是super不是父类，效果好像是\n",
    "        super().work()\n",
    "        self.make_test()\n",
    "        \n",
    "t = Teacher()\n",
    "t.work()\n"
   ]
  },
  {
   "cell_type": "code",
   "execution_count": 26,
   "metadata": {},
   "outputs": [
    {
     "name": "stdout",
     "output_type": "stream",
     "text": [
      "init a dog kakaa--3\n"
     ]
    }
   ],
   "source": [
    "# 继承中的构造函数 - 1\n",
    "class Dog():\n",
    "    # __init__ 就是构造函数\n",
    "    #每次实例化对象时，第一个被自动调用\n",
    "    #因为主要工作是进行初始化，所以得名\n",
    "    def __init__(self,name,age):\n",
    "        print('init a dog {0}--{1}'.format(name,age))\n",
    "\n",
    "# 实例化的时候，括号内的参数要和构造函数的参数相匹配\n",
    "d = Dog('kakaa',3)\n"
   ]
  },
  {
   "cell_type": "code",
   "execution_count": 23,
   "metadata": {},
   "outputs": [
    {
     "name": "stdout",
     "output_type": "stream",
     "text": [
      "init a BuRuAni\n",
      "init a dog\n"
     ]
    }
   ],
   "source": [
    "# 继承中的构造函数 - 2\n",
    "class Animal():\n",
    "    def __init__(self):\n",
    "        print('init a Animal')\n",
    "\n",
    "class BuRuAni(Animal):\n",
    "    def __init__(self):\n",
    "        print('init a BuRuAni')\n",
    "        \n",
    "class Cat(BuRuAni): \n",
    "    pass\n",
    "\n",
    "class Dog(BuRuAni):    \n",
    "    def __init__(self):\n",
    "        print('init a dog')\n",
    "        \n",
    "# 猫没有构造函数，所以逐级向上查找父类，找到为止\n",
    "# 找到父类 哺乳动物，有构造函数，停止查找\n",
    "c = Cat()\n",
    "\n",
    "# 狗有自己的构造函数，所以不再查找父类的构造函数\n",
    "d = Dog()"
   ]
  },
  {
   "cell_type": "code",
   "execution_count": 28,
   "metadata": {},
   "outputs": [
    {
     "name": "stdout",
     "output_type": "stream",
     "text": [
      "init a dog\n",
      "init a BuRuAni 4\n"
     ]
    }
   ],
   "source": [
    "# 继承中的构造函数 - 2\n",
    "class Animal():\n",
    "    def __init__(self):\n",
    "        print('init a Animal')\n",
    "\n",
    "class BuRuAni(Animal):\n",
    "    def __init__(self,age):\n",
    "        print('init a BuRuAni',age)\n",
    "        \n",
    "class Cat(BuRuAni): \n",
    "    pass\n",
    "\n",
    "class Dog(BuRuAni):    \n",
    "    def __init__(self):\n",
    "        print('init a dog')\n",
    "        \n",
    "# 狗有自己的构造函数，所以不再查找父类的构造函数\n",
    "d = Dog()\n",
    "\n",
    "# 猫没有构造函数，父类哺乳动物有构造函数，但是参数不匹配，报错\n",
    "c = Cat(4)"
   ]
  },
  {
   "cell_type": "code",
   "execution_count": 31,
   "metadata": {},
   "outputs": [
    {
     "name": "stdout",
     "output_type": "stream",
     "text": [
      "<class 'type'>\n",
      "Help on class super in module builtins:\n",
      "\n",
      "class super(object)\n",
      " |  super() -> same as super(__class__, <first argument>)\n",
      " |  super(type) -> unbound super object\n",
      " |  super(type, obj) -> bound super object; requires isinstance(obj, type)\n",
      " |  super(type, type2) -> bound super object; requires issubclass(type2, type)\n",
      " |  Typical use to call a cooperative superclass method:\n",
      " |  class C(B):\n",
      " |      def meth(self, arg):\n",
      " |          super().meth(arg)\n",
      " |  This works for class methods too:\n",
      " |  class C(B):\n",
      " |      @classmethod\n",
      " |      def cmeth(cls, arg):\n",
      " |          super().cmeth(arg)\n",
      " |  \n",
      " |  Methods defined here:\n",
      " |  \n",
      " |  __get__(self, instance, owner, /)\n",
      " |      Return an attribute of instance, which is of type owner.\n",
      " |  \n",
      " |  __getattribute__(self, name, /)\n",
      " |      Return getattr(self, name).\n",
      " |  \n",
      " |  __init__(self, /, *args, **kwargs)\n",
      " |      Initialize self.  See help(type(self)) for accurate signature.\n",
      " |  \n",
      " |  __new__(*args, **kwargs) from builtins.type\n",
      " |      Create and return a new object.  See help(type) for accurate signature.\n",
      " |  \n",
      " |  __repr__(self, /)\n",
      " |      Return repr(self).\n",
      " |  \n",
      " |  ----------------------------------------------------------------------\n",
      " |  Data descriptors defined here:\n",
      " |  \n",
      " |  __self__\n",
      " |      the instance invoking super(); may be None\n",
      " |  \n",
      " |  __self_class__\n",
      " |      the type of the instance invoking super(); may be None\n",
      " |  \n",
      " |  __thisclass__\n",
      " |      the class invoking super()\n",
      "\n"
     ]
    }
   ],
   "source": [
    "# super 是一个类\n",
    "print(type(super))\n",
    "help(super)"
   ]
  }
 ],
 "metadata": {
  "kernelspec": {
   "display_name": "Python 3",
   "language": "python",
   "name": "python3"
  },
  "language_info": {
   "codemirror_mode": {
    "name": "ipython",
    "version": 3
   },
   "file_extension": ".py",
   "mimetype": "text/x-python",
   "name": "python",
   "nbconvert_exporter": "python",
   "pygments_lexer": "ipython3",
   "version": "3.6.5"
  }
 },
 "nbformat": 4,
 "nbformat_minor": 2
}
