{
 "cells": [
  {
   "cell_type": "markdown",
   "metadata": {},
   "source": [
    "# 参考资料\n",
    "    [参考资料] ( https://www.cnblogs.com/bingabcd/p/6671368.html )\n",
    "        python参考资料：\n",
    "        headfirst python --> \n",
    "        零基础入门学习python(小甲鱼)，本讲义参考的是《流畅的python》 --> \n",
    "        图灵扎实的习题辅导 --> \n",
    "        后期可以考虑腾讯公开免费课(炫技/爬虫)\n",
    "        \n",
    "     [参考书]\n",
    "         python编程从入门到实践\n",
    "         Java轻松学"
   ]
  },
  {
   "cell_type": "markdown",
   "metadata": {},
   "source": [
    "# 环境安装\n",
    "    - 推荐 Virtualbox + Ubuntu\n",
    "    - 套件推荐 Anaconda3 + pycharm"
   ]
  }
 ],
 "metadata": {
  "kernelspec": {
   "display_name": "Python 3",
   "language": "python",
   "name": "python3"
  },
  "language_info": {
   "codemirror_mode": {
    "name": "ipython",
    "version": 3
   },
   "file_extension": ".py",
   "mimetype": "text/x-python",
   "name": "python",
   "nbconvert_exporter": "python",
   "pygments_lexer": "ipython3",
   "version": "3.6.5"
  }
 },
 "nbformat": 4,
 "nbformat_minor": 2
}
