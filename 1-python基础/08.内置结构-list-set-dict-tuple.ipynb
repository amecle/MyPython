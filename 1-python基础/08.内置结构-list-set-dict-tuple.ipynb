{
 "cells": [
  {
   "cell_type": "markdown",
   "metadata": {},
   "source": [
    "# 传值和传址的区别：\n",
    "  - 对于简单的数值，采用传值操作，将数值复制给函数形参\n",
    "  - 对于复杂变量，采用传址操作，将复杂变量所指向的数据的地址，复制给函数形参，相当于函数形参和外部变量指向相同的数据地址，这时，任何地方对数据的更改，都会影响另外的变量或参数。"
   ]
  },
  {
   "cell_type": "code",
   "execution_count": 3,
   "metadata": {},
   "outputs": [
    {
     "name": "stdout",
     "output_type": "stream",
     "text": [
      "[1, 2, 3, 4, 5, 6]\n",
      "[1, 2, 300, 4, 5, 6]\n",
      "[1, 2, 300, 4, 5, 6]\n",
      "9\n",
      "109\n",
      "9\n"
     ]
    }
   ],
   "source": [
    "def fun1(n):\n",
    "    n[2] = 300\n",
    "    print(n)\n",
    "    return None\n",
    "def fun2(n):\n",
    "    n += 100\n",
    "    print(n)\n",
    "    return None\n",
    "an = [1,2,3,4,5,6]\n",
    "bn = 9\n",
    "\n",
    "print(an)\n",
    "fun1(an)  # 传的是地址\n",
    "print(an)\n",
    "\n",
    "print(bn)\n",
    "fun2(bn)  # 传的是数值\n",
    "print(bn)\n"
   ]
  },
  {
   "cell_type": "markdown",
   "metadata": {},
   "source": [
    "# 关于列表的函数\n",
    "  - append(data)  追加：在末尾追加数据\n",
    "  - insert(index, data)  插入：在指定位置插入数据（需求少，不常用）\n",
    "  - pop(index)  弹出：从指定位置(默认末尾)取出一个元素，一般赋给一个变量。（常用）\n",
    "  - remove(data)  删除：删除list中数据为data的一个元素，不返回值。\n",
    "  - clear  清空：清空list\n",
    "  - reverse  翻转：list原地反转，元素逆序\n",
    "  - extend(b)  拼接：把列表 b 拼接到 list 末尾\n",
    "  - count(data)  计数：计算list中值为data的元素个数\n",
    "  - copy()  拷贝：浅拷贝。避免变量传址赋值时，更改变量发生其他变量联动"
   ]
  },
  {
   "cell_type": "code",
   "execution_count": 24,
   "metadata": {},
   "outputs": [
    {
     "name": "stdout",
     "output_type": "stream",
     "text": [
      "[1, 2, 3, 4]\n",
      "2128944939208\n",
      "------------------------\n",
      "[1, 2, 3, 4, 2, 2, 2]\n",
      "2128944939208\n",
      "------------------------\n",
      "[1, 2, 3, 666, 4, 2, 2, 2]\n",
      "2128944939208\n",
      "------------------------\n",
      "[1, 2, 3, 4, 2, 2, 2]\n",
      "2128944939208\n",
      "666\n",
      "[1, 2, 3, 4, 2, 2]\n",
      "2128944939208\n",
      "2\n",
      "------------------------\n",
      "[1, 3, 4, 2, 2]\n",
      "2128944939208\n",
      "None\n",
      "------------------------\n",
      "[]\n",
      "2128944939208\n"
     ]
    }
   ],
   "source": [
    "a = list(range(1,5))\n",
    "print(a)\n",
    "print(id(a))\n",
    "print('------------------------')\n",
    "a.append(2)\n",
    "a.append(2)\n",
    "a.append(2)\n",
    "print(a)\n",
    "print(id(a))\n",
    "print('------------------------')\n",
    "a.insert(3,666)\n",
    "print(a)\n",
    "print(id(a))\n",
    "print('------------------------')\n",
    "b = a.pop(3)\n",
    "print(a)\n",
    "print(id(a))\n",
    "print(b)\n",
    "b = a.pop()\n",
    "print(a)\n",
    "print(id(a))\n",
    "print(b)\n",
    "print('------------------------')\n",
    "b = a.remove(2)\n",
    "print(a)\n",
    "print(id(a))\n",
    "print(b)\n",
    "print('------------------------')\n",
    "b = a.clear()\n",
    "print(a)\n",
    "print(id(a))"
   ]
  },
  {
   "cell_type": "code",
   "execution_count": 25,
   "metadata": {},
   "outputs": [
    {
     "name": "stdout",
     "output_type": "stream",
     "text": [
      "[0, 1, 2, 3, 4, 5]\n",
      "2128944318664\n",
      "------------------------\n",
      "[5, 4, 3, 2, 1, 0]\n",
      "2128944318664\n",
      "2128944318664\n",
      "------------------------\n",
      "[5, 4, 3, 2, 1, 0, 5, 4, 3, 2, 1, 0]\n",
      "2128944318664\n"
     ]
    }
   ],
   "source": [
    "a = [i for i in range(6)]\n",
    "print(a)\n",
    "print(id(a))\n",
    "print('------------------------')\n",
    "b = a\n",
    "a.reverse()\n",
    "print(a)\n",
    "print(id(a))\n",
    "print(id(b))\n",
    "print('------------------------')\n",
    "a.extend(b)\n",
    "print(a)\n",
    "print(id(a))"
   ]
  },
  {
   "cell_type": "code",
   "execution_count": 26,
   "metadata": {},
   "outputs": [
    {
     "name": "stdout",
     "output_type": "stream",
     "text": [
      "4\n"
     ]
    }
   ],
   "source": [
    "a = [2, 5, 6, 2, 7, 9, 2, 10, 3, -1, 2]\n",
    "print(a.count(2))"
   ]
  },
  {
   "cell_type": "code",
   "execution_count": 30,
   "metadata": {},
   "outputs": [
    {
     "name": "stdout",
     "output_type": "stream",
     "text": [
      "[1, 2, 33, 4, 5]\n",
      "2128944933640\n",
      "[1, 2, 33, 4, 5]\n",
      "2128944933640\n",
      "******************************\n",
      "[1, 2, 33, 4, 5]\n",
      "2128944933640\n",
      "[1, 2, 333, 4, 5]\n",
      "2128944274824\n"
     ]
    }
   ],
   "source": [
    "a = [1,2,3,4,5]\n",
    "b = a \n",
    "b[2] = 33\n",
    "print(a)\n",
    "print(id(a))\n",
    "print(b)\n",
    "print(id(b))\n",
    "print('*'*30)\n",
    "\n",
    "# 使用 copy() 避免变量传址赋值时，更改变量发生其他变量联动\n",
    "c = a.copy()\n",
    "c[2] =333\n",
    "print(a)\n",
    "print(id(a))\n",
    "print(c)\n",
    "print(id(c))"
   ]
  },
  {
   "cell_type": "markdown",
   "metadata": {},
   "source": [
    "# 深拷贝和浅拷贝的区别\n",
    "  - 浅拷贝：只拷贝一层，所以当在list首层遇到元素list(内嵌)时，只拷贝元素list的地址\n",
    "  - 深拷贝：需要使用特定工具"
   ]
  },
  {
   "cell_type": "code",
   "execution_count": 33,
   "metadata": {},
   "outputs": [
    {
     "name": "stdout",
     "output_type": "stream",
     "text": [
      "2128944317192\n",
      "2128942761864\n",
      "2128944280200\n",
      "2128944280200\n",
      "[1, 2, 3, [10, 20, 666]]\n",
      "[1, 2, 3, [10, 20, 666]]\n"
     ]
    }
   ],
   "source": [
    "a = [1,2,3,[10,20,30]]\n",
    "b = a.copy()\n",
    "print(id(a))\n",
    "print(id(b))\n",
    "print(id(a[3]))\n",
    "print(id(b[3]))\n",
    "b[3][2] = 666\n",
    "print(a)\n",
    "print(b)"
   ]
  },
  {
   "cell_type": "markdown",
   "metadata": {},
   "source": [
    "# 元组-tuple\n",
    "  - 元组可以看成一个不可更改的 list\n",
    "## 元组创建"
   ]
  },
  {
   "cell_type": "code",
   "execution_count": 39,
   "metadata": {},
   "outputs": [
    {
     "name": "stdout",
     "output_type": "stream",
     "text": [
      "<class 'tuple'>\n",
      "<class 'tuple'>\n",
      "(1, 2, 3, 4, 5)\n",
      "(1,)\n",
      "(1, 2, 3, 4, 5)\n"
     ]
    }
   ],
   "source": [
    "# 创建空元组\n",
    "t = ()\n",
    "print(type(t))\n",
    "\n",
    "# 创建单值元组，要加逗号，不然()会被当成算数运算的小括号\n",
    "t = (1,)\n",
    "print(type(t))\n",
    "\n",
    "# 创建多值元组\n",
    "t = (1,2,3,4,5,)\n",
    "print(t)\n",
    "\n",
    "# 可以省去括号\n",
    "t = 1,\n",
    "print(t)\n",
    "t = 1,2,3,4,5,\n",
    "print(t)"
   ]
  },
  {
   "cell_type": "markdown",
   "metadata": {},
   "source": [
    "## 元组特性\n",
    "  - 序列表，有序，可重复\n",
    "  - 元素可以访问，不能修改\n",
    "  - 但是tuple可以重新赋值\n",
    "  - 元素可以是任意类型\n",
    "  - 总之，list 所有特性，除了可修改外，元组都具有\n",
    "  - 也就意味着：list具有的一些操作，比如索引，分片，序列相加，相乘，成员资格操作等，一模一样"
   ]
  },
  {
   "cell_type": "code",
   "execution_count": 40,
   "metadata": {},
   "outputs": [
    {
     "ename": "IndexError",
     "evalue": "tuple index out of range",
     "output_type": "error",
     "traceback": [
      "\u001b[1;31m---------------------------------------------------------------------------\u001b[0m",
      "\u001b[1;31mIndexError\u001b[0m                                Traceback (most recent call last)",
      "\u001b[1;32m<ipython-input-40-de5a6dca1677>\u001b[0m in \u001b[0;36m<module>\u001b[1;34m()\u001b[0m\n\u001b[0;32m      1\u001b[0m \u001b[0mt\u001b[0m \u001b[1;33m=\u001b[0m \u001b[1;36m1\u001b[0m\u001b[1;33m,\u001b[0m\u001b[1;36m2\u001b[0m\u001b[1;33m,\u001b[0m\u001b[1;36m3\u001b[0m\u001b[1;33m,\u001b[0m\u001b[1;36m4\u001b[0m\u001b[1;33m,\u001b[0m\u001b[1;36m5\u001b[0m\u001b[1;33m,\u001b[0m\u001b[1;36m6\u001b[0m\u001b[1;33m\u001b[0m\u001b[0m\n\u001b[1;32m----> 2\u001b[1;33m \u001b[0mt\u001b[0m\u001b[1;33m[\u001b[0m\u001b[1;36m12\u001b[0m\u001b[1;33m]\u001b[0m\u001b[1;33m\u001b[0m\u001b[0m\n\u001b[0m",
      "\u001b[1;31mIndexError\u001b[0m: tuple index out of range"
     ]
    }
   ],
   "source": [
    "t = 1,2,3,4,5,6\n",
    "\n",
    "# 索引访问超标报错\n",
    "t[12]"
   ]
  },
  {
   "cell_type": "code",
   "execution_count": 41,
   "metadata": {},
   "outputs": [
    {
     "name": "stdout",
     "output_type": "stream",
     "text": [
      "(4, 5, 6)\n"
     ]
    }
   ],
   "source": [
    "# 切片可以超标\n",
    "print(t[3:12])"
   ]
  },
  {
   "cell_type": "code",
   "execution_count": 42,
   "metadata": {},
   "outputs": [
    {
     "ename": "TypeError",
     "evalue": "'tuple' object does not support item assignment",
     "output_type": "error",
     "traceback": [
      "\u001b[1;31m---------------------------------------------------------------------------\u001b[0m",
      "\u001b[1;31mTypeError\u001b[0m                                 Traceback (most recent call last)",
      "\u001b[1;32m<ipython-input-42-e33ee3507408>\u001b[0m in \u001b[0;36m<module>\u001b[1;34m()\u001b[0m\n\u001b[1;32m----> 1\u001b[1;33m \u001b[0mt\u001b[0m\u001b[1;33m[\u001b[0m\u001b[1;36m1\u001b[0m\u001b[1;33m]\u001b[0m \u001b[1;33m=\u001b[0m \u001b[1;36m2\u001b[0m  \u001b[1;31m# 更改报错\u001b[0m\u001b[1;33m\u001b[0m\u001b[0m\n\u001b[0m",
      "\u001b[1;31mTypeError\u001b[0m: 'tuple' object does not support item assignment"
     ]
    }
   ],
   "source": [
    "t[1] = 2  # 更改报错"
   ]
  },
  {
   "cell_type": "code",
   "execution_count": 47,
   "metadata": {},
   "outputs": [
    {
     "name": "stdout",
     "output_type": "stream",
     "text": [
      "(1, 2, 3, 1, 2, 3, 1, 2, 3)\n"
     ]
    }
   ],
   "source": [
    "# 元组相乘\n",
    "t = 1,2,3,\n",
    "t *= 3\n",
    "print(t)"
   ]
  },
  {
   "cell_type": "markdown",
   "metadata": {},
   "source": [
    "- 上面例子，不是元组修改，而是先得到 t*3 ，然后赋值给 t"
   ]
  },
  {
   "cell_type": "code",
   "execution_count": 48,
   "metadata": {},
   "outputs": [
    {
     "name": "stdout",
     "output_type": "stream",
     "text": [
      "True\n"
     ]
    }
   ],
   "source": [
    "# 成员判断\n",
    "t = 1,2,3\n",
    "print(2 in t)"
   ]
  },
  {
   "cell_type": "code",
   "execution_count": 52,
   "metadata": {},
   "outputs": [
    {
     "name": "stdout",
     "output_type": "stream",
     "text": [
      "(1, 2, 3)\n",
      "('a', 'b', 'c')\n",
      "(True, False, None)\n",
      "1 -- 2 -- 3\n",
      "a -- b -- c\n",
      "True -- False -- None\n"
     ]
    }
   ],
   "source": [
    "# 双层元组遍历\n",
    "t = (1,2,3),('a','b','c'),(True,False,None)\n",
    "for i in t:\n",
    "    print(i)\n",
    "    \n",
    "for k,v,w in t:\n",
    "    print(k,'--',v,'--',w)"
   ]
  }
 ],
 "metadata": {
  "kernelspec": {
   "display_name": "Python 3",
   "language": "python",
   "name": "python3"
  },
  "language_info": {
   "codemirror_mode": {
    "name": "ipython",
    "version": 3
   },
   "file_extension": ".py",
   "mimetype": "text/x-python",
   "name": "python",
   "nbconvert_exporter": "python",
   "pygments_lexer": "ipython3",
   "version": "3.6.5"
  }
 },
 "nbformat": 4,
 "nbformat_minor": 2
}
