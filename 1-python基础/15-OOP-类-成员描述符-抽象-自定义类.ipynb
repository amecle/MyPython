{
 "cells": [
  {
   "cell_type": "code",
   "execution_count": 3,
   "metadata": {},
   "outputs": [
    {
     "name": "stdout",
     "output_type": "stream",
     "text": [
      "wang da dao\n"
     ]
    }
   ],
   "source": [
    "# 变量的三种用法\n",
    "class A():\n",
    "    def __init__(self):\n",
    "        self.name = 'wakaa'\n",
    "        self.age = 18\n",
    "        \n",
    "a = A()\n",
    "# 属性的三种用法\n",
    "# 1.赋值，  2.读取，  3.删除\n",
    "a.name = 'wang da dao'\n",
    "print(a.name)\n",
    "del a.name\n",
    "# print(a.name)  # 删除后再读取会报错\n"
   ]
  },
  {
   "cell_type": "code",
   "execution_count": 15,
   "metadata": {},
   "outputs": [
    {
     "name": "stdout",
     "output_type": "stream",
     "text": [
      "wakaa\n",
      "我被读取了\n",
      "wakaa\n"
     ]
    }
   ],
   "source": [
    "# 类属性 property\n",
    "# 应用场景：\n",
    "# 对变量除了普通的三种操作外，还要增加一些附加的操作，那么可以通过property完成\n",
    "class A():\n",
    "    def __init__(self):\n",
    "        self.name = 'wakaa'\n",
    "        self.age = 18\n",
    "        \n",
    "    # 此功能，是对类变量进行读取操作时应该执行的函数功能\n",
    "    def fget(self):\n",
    "        print('我被读取了')\n",
    "        return self.name\n",
    "    \n",
    "    # 模拟的是对变量进行写操作时执行的功能\n",
    "    def fset(self,name):\n",
    "        print('我被写入了，但是还可以做其他事情')\n",
    "        self.name = 'python' + name\n",
    "        \n",
    "    # fdel 模拟的是删除变量时进行的操作\n",
    "    def fdel(self):\n",
    "        pass\n",
    "    \n",
    "    name2 = property(fget,fset,fdel,'这是一个property的例子')\n",
    "\n",
    "a = A()\n",
    "print(a.name)  # name属性在实例化 a 时就在init中给赋值了\n",
    "print(a.name2) # name2 属性读取是调用fget方法\n",
    "        "
   ]
  },
  {
   "cell_type": "code",
   "execution_count": 18,
   "metadata": {},
   "outputs": [
    {
     "name": "stdout",
     "output_type": "stream",
     "text": [
      "闻一闻\n",
      "KISS ME\n"
     ]
    }
   ],
   "source": [
    "# 抽象\n",
    "class Animal():\n",
    "    def sayHello(self):\n",
    "        pass\n",
    "    \n",
    "class Dog(Animal):\n",
    "    def sayHello(self):\n",
    "        print(\"闻一闻\")\n",
    "    \n",
    "class Person(Animal):\n",
    "    def sayHello(self):\n",
    "        print('KISS ME')\n",
    "        \n",
    "d = Dog()\n",
    "d.sayHello()\n",
    "\n",
    "p = Person()\n",
    "p.sayHello()"
   ]
  },
  {
   "cell_type": "markdown",
   "metadata": {},
   "source": [
    "### 总结：\n",
    " - 动物都有打招呼的方法，但是不同动物打招呼的方式不同。\n",
    " - 所以不能为动物类实现打招呼方法，但是我又想让动物类的所有子类都具有打招呼的方法，所以在动物类中定义了该方法（只有定义没有具体实现，所以是接口）\n",
    " - 我希望动物类的所有子类必须实现打招呼方法，不然不予通过，这就是抽象类的意义。\n",
    " - 抽象类就是用来被继承的\n"
   ]
  },
  {
   "cell_type": "code",
   "execution_count": 20,
   "metadata": {},
   "outputs": [],
   "source": [
    "# 抽象类的实现\n",
    "\n",
    "import abc\n",
    "\n",
    "# 声明一个类并且指定当前类的元类\n",
    "class Human(metaclass = abc.ABCMeta):\n",
    "    \n",
    "    # 定义一个抽象的方法\n",
    "    @abc.abstractmethod\n",
    "    def smoking(self):\n",
    "        pass\n",
    "    \n",
    "    # 定义类抽象方法\n",
    "    @abc.abstractclassmethod\n",
    "    def drink():\n",
    "        pass\n",
    "    \n",
    "    # 定义静态的抽象方法\n",
    "    @abc.abstractstaticmethod\n",
    "    def play():\n",
    "        pass\n",
    "    \n",
    "    def sleep(self):\n",
    "        print('Sleeping......')\n",
    "    "
   ]
  },
  {
   "cell_type": "code",
   "execution_count": 21,
   "metadata": {},
   "outputs": [
    {
     "name": "stdout",
     "output_type": "stream",
     "text": [
      "wakaa你好，python一下\n",
      "xixii你好，python一下\n"
     ]
    }
   ],
   "source": [
    "# 函数名可以当变量使用\n",
    "\n",
    "def sayHello(name):\n",
    "    print('{0}你好，python一下'.format(name))\n",
    "    \n",
    "sayHello('wakaa')\n",
    "\n",
    "# 把函数名赋值给变量\n",
    "std = sayHello\n",
    "\n",
    "std('xixii')"
   ]
  },
  {
   "cell_type": "code",
   "execution_count": 23,
   "metadata": {},
   "outputs": [
    {
     "name": "stdout",
     "output_type": "stream",
     "text": [
      "AAA Saying......\n",
      "AAA Saying......\n",
      "BBB Saying......\n"
     ]
    }
   ],
   "source": [
    "# 自己组装一个类\n",
    "\n",
    "class A():\n",
    "    pass\n",
    "\n",
    "def say(self):\n",
    "    print('AAA Saying......')\n",
    "    \n",
    "class B():\n",
    "    def say(self):\n",
    "        print('BBB Saying......')\n",
    "    \n",
    "say(9)\n",
    "\n",
    "A.say = say\n",
    "\n",
    "a = A()\n",
    "a.say()\n",
    "\n",
    "b = B()\n",
    "b.say()"
   ]
  },
  {
   "cell_type": "code",
   "execution_count": 32,
   "metadata": {},
   "outputs": [
    {
     "name": "stdout",
     "output_type": "stream",
     "text": [
      "AAA Saying......\n"
     ]
    }
   ],
   "source": [
    "# 组装类 2\n",
    "from types import MethodType\n",
    "\n",
    "class A():\n",
    "    pass\n",
    "\n",
    "def say(self):\n",
    "    print('AAA Saying......')\n",
    "    \n",
    "a = A()\n",
    "\n",
    "# 如下句，把函数名赋值给对象，会报错\n",
    "# a.say = say\n",
    "# 换成利用 MethodType 把函数say当成方法和A绑定（需引入types - MethodType）\n",
    "a.say = MethodType(say, A)  # 把函数say当成方法和A绑定\n",
    "a.say()"
   ]
  },
  {
   "cell_type": "markdown",
   "metadata": {},
   "source": [
    "help(MethodType)"
   ]
  },
  {
   "cell_type": "code",
   "execution_count": 42,
   "metadata": {
    "scrolled": true
   },
   "outputs": [
    {
     "name": "stdout",
     "output_type": "stream",
     "text": [
      "Saying......\n",
      "Talking......\n",
      "****************************************\n",
      "Help on class type in module builtins:\n",
      "\n",
      "class type(object)\n",
      " |  type(object_or_name, bases, dict)\n",
      " |  type(object) -> the object's type\n",
      " |  type(name, bases, dict) -> a new type\n",
      " |  \n",
      " |  Methods defined here:\n",
      " |  \n",
      " |  __call__(self, /, *args, **kwargs)\n",
      " |      Call self as a function.\n",
      " |  \n",
      " |  __delattr__(self, name, /)\n",
      " |      Implement delattr(self, name).\n",
      " |  \n",
      " |  __dir__(...)\n",
      " |      __dir__() -> list\n",
      " |      specialized __dir__ implementation for types\n",
      " |  \n",
      " |  __getattribute__(self, name, /)\n",
      " |      Return getattr(self, name).\n",
      " |  \n",
      " |  __init__(self, /, *args, **kwargs)\n",
      " |      Initialize self.  See help(type(self)) for accurate signature.\n",
      " |  \n",
      " |  __instancecheck__(...)\n",
      " |      __instancecheck__() -> bool\n",
      " |      check if an object is an instance\n",
      " |  \n",
      " |  __new__(*args, **kwargs)\n",
      " |      Create and return a new object.  See help(type) for accurate signature.\n",
      " |  \n",
      " |  __prepare__(...)\n",
      " |      __prepare__() -> dict\n",
      " |      used to create the namespace for the class statement\n",
      " |  \n",
      " |  __repr__(self, /)\n",
      " |      Return repr(self).\n",
      " |  \n",
      " |  __setattr__(self, name, value, /)\n",
      " |      Implement setattr(self, name, value).\n",
      " |  \n",
      " |  __sizeof__(...)\n",
      " |      __sizeof__() -> int\n",
      " |      return memory consumption of the type object\n",
      " |  \n",
      " |  __subclasscheck__(...)\n",
      " |      __subclasscheck__() -> bool\n",
      " |      check if a class is a subclass\n",
      " |  \n",
      " |  __subclasses__(...)\n",
      " |      __subclasses__() -> list of immediate subclasses\n",
      " |  \n",
      " |  mro(...)\n",
      " |      mro() -> list\n",
      " |      return a type's method resolution order\n",
      " |  \n",
      " |  ----------------------------------------------------------------------\n",
      " |  Data descriptors defined here:\n",
      " |  \n",
      " |  __abstractmethods__\n",
      " |  \n",
      " |  __dict__\n",
      " |  \n",
      " |  __text_signature__\n",
      " |  \n",
      " |  ----------------------------------------------------------------------\n",
      " |  Data and other attributes defined here:\n",
      " |  \n",
      " |  __base__ = <class 'object'>\n",
      " |      The most base type\n",
      " |  \n",
      " |  __bases__ = (<class 'object'>,)\n",
      " |  \n",
      " |  __basicsize__ = 864\n",
      " |  \n",
      " |  __dictoffset__ = 264\n",
      " |  \n",
      " |  __flags__ = -2146675712\n",
      " |  \n",
      " |  __itemsize__ = 40\n",
      " |  \n",
      " |  __mro__ = (<class 'type'>, <class 'object'>)\n",
      " |  \n",
      " |  __weakrefoffset__ = 368\n",
      "\n"
     ]
    }
   ],
   "source": [
    "# 利用type造一个类\n",
    "\n",
    "# 先定义类应该具有的成员函数\n",
    "def say(self):\n",
    "    print('Saying......')\n",
    "\n",
    "def talk(self):\n",
    "    print('Talking......')\n",
    "    \n",
    "# 用type来创建要给类\n",
    "A = type('AName',(object,),{'class_say':say,'class_talk':talk})\n",
    "\n",
    "# 然后可以像正常访问一样使用类\n",
    "a = A()\n",
    "# dir(a) 查看a的成员\n",
    "a.class_say()\n",
    "a.class_talk()\n",
    "\n",
    "print('*' * 40)\n",
    "# 查看type信息\n",
    "help(type)"
   ]
  },
  {
   "cell_type": "code",
   "execution_count": 1,
   "metadata": {},
   "outputs": [
    {
     "name": "stdout",
     "output_type": "stream",
     "text": [
      "哈哈，我是元类\n",
      "000000\n",
      "深圳市\n"
     ]
    }
   ],
   "source": [
    "# 元类演示\n",
    "# 元类写法是固定的，她必须继承自type\n",
    "# 元类命名一般以MetaClass结尾，约定俗成\n",
    "class DaoMetaClass(type):\n",
    "    # 注意以下写法\n",
    "    def __new__(cls,name,bases,attrs):\n",
    "        # 自己的业务处理\n",
    "        print('哈哈，我是元类')\n",
    "        attrs['id'] = '000000'\n",
    "        attrs['addr'] = '深圳市'\n",
    "        return type.__new__(cls,name,bases,attrs)\n",
    "        \n",
    "# 元类定义完就可以使用，使用注意写法\n",
    "class Teacher(object,metaclass=DaoMetaClass):\n",
    "    pass\n",
    "\n",
    "t = Teacher()\n",
    "\n",
    "print(t.id)\n",
    "print(t.addr)"
   ]
  },
  {
   "cell_type": "code",
   "execution_count": null,
   "metadata": {},
   "outputs": [],
   "source": []
  },
  {
   "cell_type": "code",
   "execution_count": null,
   "metadata": {},
   "outputs": [],
   "source": []
  },
  {
   "cell_type": "code",
   "execution_count": null,
   "metadata": {},
   "outputs": [],
   "source": []
  },
  {
   "cell_type": "code",
   "execution_count": null,
   "metadata": {},
   "outputs": [],
   "source": []
  },
  {
   "cell_type": "code",
   "execution_count": null,
   "metadata": {},
   "outputs": [],
   "source": []
  }
 ],
 "metadata": {
  "kernelspec": {
   "display_name": "Python 3",
   "language": "python",
   "name": "python3"
  },
  "language_info": {
   "codemirror_mode": {
    "name": "ipython",
    "version": 3
   },
   "file_extension": ".py",
   "mimetype": "text/x-python",
   "name": "python",
   "nbconvert_exporter": "python",
   "pygments_lexer": "ipython3",
   "version": "3.6.5"
  }
 },
 "nbformat": 4,
 "nbformat_minor": 2
}
