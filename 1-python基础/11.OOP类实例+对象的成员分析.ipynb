{
 "cells": [
  {
   "cell_type": "code",
   "execution_count": 35,
   "metadata": {},
   "outputs": [
    {
     "name": "stdout",
     "output_type": "stream",
     "text": [
      "{'__module__': '__main__', 'name': 'wang', 'age': 18, 'doHomework': <function AAA.doHomework at 0x0000016A0C33D378>, 'play': <function AAA.play at 0x0000016A0C33DA60>, '__dict__': <attribute '__dict__' of 'AAA' objects>, '__weakref__': <attribute '__weakref__' of 'AAA' objects>, '__doc__': None}\n",
      "****************************************\n",
      "{}\n",
      "wang\n",
      "****************************************\n",
      "我 play\n",
      "{'name': 'wangPython', 'age': 22}\n",
      "wangPython\n"
     ]
    }
   ],
   "source": [
    "class AAA():\n",
    "    name = 'wang'\n",
    "    age = 18\n",
    "    def doHomework(self):\n",
    "        print('我 dohomework')\n",
    "    def play(self):\n",
    "        print('我 play')\n",
    "        \n",
    "print(AAA.__dict__)\n",
    "print('*' * 40)\n",
    "\n",
    "aaa = AAA()\n",
    "print(aaa.__dict__)\n",
    "print(aaa.name)\n",
    "print('*' * 40)\n",
    "\n",
    "aaa.name = 'wangPython'\n",
    "aaa.age = 22\n",
    "aaa.play()\n",
    "print(aaa.__dict__)\n",
    "print(aaa.name)\n"
   ]
  },
  {
   "cell_type": "markdown",
   "metadata": {},
   "source": [
    "# 问题：\n",
    "  - 类实例化一个对象后，该对象为什么没有属性成员，赋值后又有了？\n",
    "  - 见下例："
   ]
  },
  {
   "cell_type": "code",
   "execution_count": 30,
   "metadata": {},
   "outputs": [
    {
     "name": "stdout",
     "output_type": "stream",
     "text": [
      "1554977007528\n",
      "wang\n",
      "18\n",
      "1554981943032\n",
      "1498967648\n",
      "****************************************\n",
      "1554982835200\n",
      "wang\n",
      "18\n",
      "1554981943032\n",
      "1498967648\n",
      "****************************************\n",
      "1554982835200\n",
      "wPython\n",
      "22\n",
      "1554982859024\n",
      "1498967776\n"
     ]
    }
   ],
   "source": [
    "class A():\n",
    "    name = 'wang'\n",
    "    age = 18\n",
    "    def say(self):\n",
    "        self.name = 'aaa'\n",
    "        self.age = 22\n",
    "\n",
    "# 此时，A称为类的实例\n",
    "print(id(A))\n",
    "print(A.name)\n",
    "print(A.age)\n",
    "\n",
    "# id 可以鉴别两个变量是否同一\n",
    "# id() 函数返回的是对象在生命周期里的身份证\n",
    "print(id(A.name))\n",
    "print(id(A.age))\n",
    "print('*'*40)\n",
    "\n",
    "# 定义了A的一个具体对象a\n",
    "a = A()\n",
    "print(id(a))\n",
    "print(a.name)\n",
    "print(a.age)\n",
    "print(id(a.name))\n",
    "print(id(a.age))\n",
    "print('*'*40)\n",
    "\n",
    "# 给 a 属性成员赋值\n",
    "a.name = 'wPython'\n",
    "a.age = 22\n",
    "print(id(a))\n",
    "print(a.name)\n",
    "print(a.age)\n",
    "print(id(a.name))\n",
    "print(id(a.age))"
   ]
  },
  {
   "cell_type": "markdown",
   "metadata": {},
   "source": [
    "# 总结：\n",
    "  - 类定义时，系统就为类创建了一个实例，称为类实例\n",
    "    - 属性成员就存储在这个类实体中\n",
    "    - 调用：类名.属性成员名\n",
    "  - 为类实例化一个具体对象时，系统创建一个新的对象（新的 id ）\n",
    "    - 空对象\n",
    "    - 该对象的属性没有被创建（没有产生新id，而是和类实例属性成员的id相同）\n",
    "    - 该对象在直接调用访问属性成员时，是直接访问的类实例中的属性成员\n",
    "    - 在给该对象属性成员更改赋值时，才在系统中创建了对象（self.）的属性成员（新的id），而不会修改类实例的属性成员\n",
    "    - 调用：对象名.属性成员名"
   ]
  },
  {
   "cell_type": "markdown",
   "metadata": {},
   "source": [
    "# self （不是关键字）\n",
    "  - 非绑定方法的形参，一般命名为 self，约定俗成，非必须\n",
    "  - 该形参用来接收的值，是实例（类实例/对象实例）\n",
    "  - 对象调用非绑定方法，不写参数，系统自动把对象本身（self）传给形参\n",
    "  - 类实例调用非绑定方法，必须要传一个对象实例（类实例/对象实例）\n",
    "  - 非绑定方法需要多个参数时，self必须是第一个参数"
   ]
  },
  {
   "cell_type": "code",
   "execution_count": 37,
   "metadata": {},
   "outputs": [
    {
     "name": "stdout",
     "output_type": "stream",
     "text": [
      "My name is aaa\n",
      "My age is 22\n"
     ]
    }
   ],
   "source": [
    "class Student():\n",
    "    name = 'wang'\n",
    "    age = 18\n",
    "    def say(self):\n",
    "        self.name = 'aaa'\n",
    "        self.age = 22\n",
    "        print('My name is {0}'.format(self.name))\n",
    "        print('My age is {0}'.format(self.age))\n",
    "        \n",
    "std = Student()\n",
    "std.say()"
   ]
  },
  {
   "cell_type": "markdown",
   "metadata": {},
   "source": [
    "# 类的方法中，可以直接访问类属性\n",
    "  - \\_\\_class\\_\\_类属性名\n",
    "  - 不论非绑定方法、绑定方法，都可以在方法中直接访问类属性成员"
   ]
  },
  {
   "cell_type": "code",
   "execution_count": 46,
   "metadata": {},
   "outputs": [
    {
     "name": "stdout",
     "output_type": "stream",
     "text": [
      "aaa\n",
      "222\n",
      "TT\n",
      "44\n",
      "I am teaching!\n"
     ]
    }
   ],
   "source": [
    "# __class__ 的使用\n",
    "class Teacher():\n",
    "    name = 'TT'\n",
    "    age = 44\n",
    "    def say(self):\n",
    "        self.name = 'aaa'\n",
    "        self.age = 222\n",
    "        print(self.name)        \n",
    "        print(self.age)\n",
    "        print(__class__.name)\n",
    "    def teach():\n",
    "        print(__class__.age)\n",
    "        print('I am teaching!')\n",
    "\n",
    "t = Teacher()\n",
    "t.say()\n",
    "Teacher.teach()"
   ]
  },
  {
   "cell_type": "markdown",
   "metadata": {},
   "source": [
    "# 非绑定方法 - 绑定方法\n",
    " - 非绑定方法（有形参），\n",
    "  - 对象实例调用非绑定方法时，系统会自动把对象本身（self）传入形参\n",
    "  - 类实例调用非绑定方法时，需要传入一个实例实例（类实例/对象实例）\n",
    " - 绑定方法（没有形参），只能用类名调用"
   ]
  },
  {
   "cell_type": "code",
   "execution_count": 4,
   "metadata": {},
   "outputs": [
    {
     "name": "stdout",
     "output_type": "stream",
     "text": [
      "tt\n",
      "22\n",
      "tt\n",
      "22\n",
      "AAAAA\n",
      "44444\n",
      "BB\n",
      "55\n"
     ]
    }
   ],
   "source": [
    "# 关于self的案例\n",
    "class A():\n",
    "    name = 'AAAAA'\n",
    "    age = 44444\n",
    "    \n",
    "    # 初始化：实例化对象时，自动为对象调用此函数\n",
    "    def __init__(self):\n",
    "        self.name = 'tt'\n",
    "        self.age = 22\n",
    "        \n",
    "    def say(self):\n",
    "        print(self.name)\n",
    "        print(self.age)\n",
    "\n",
    "class B():\n",
    "    name = 'BB'\n",
    "    age = 55\n",
    "    \n",
    "a = A()\n",
    "# 下句，系统会默认把 a 作为第一个参数传入函数\n",
    "a.say()\n",
    "\n",
    "# 下句，self 被 a 替换\n",
    "A.say(a)\n",
    "\n",
    "# 同样，可以把 A 作为参数传入，替换self\n",
    "A.say(A)\n",
    "\n",
    "# 下句，传入的是类实例B，因为B具有 name 和 age 属性，所以不会报错\n",
    "# 利用了鸭子模型（只要你具备我要求的鸭子特性，我就拿你当鸭子用）\n",
    "A.say(B)"
   ]
  },
  {
   "cell_type": "markdown",
   "metadata": {},
   "source": [
    "# 上例总结\n",
    "  - （ \\_\\_init\\_\\_() 方法），构造函数，实例化对象时自动为对象调用\n",
    "  - A.say(B)，利用了鸭子模型：只要你具备了鸭子的特性，不管你是不是鸭子，我就当你是个鸭子，我就拿你当鸭子用。\n",
    "  - 在 java 和 C++ 中肯定不会通过，因为类型检查不通过"
   ]
  },
  {
   "cell_type": "code",
   "execution_count": 6,
   "metadata": {},
   "outputs": [
    {
     "name": "stdout",
     "output_type": "stream",
     "text": [
      "wangw\n"
     ]
    },
    {
     "ename": "AttributeError",
     "evalue": "'Person' object has no attribute 'age'",
     "output_type": "error",
     "traceback": [
      "\u001b[1;31m---------------------------------------------------------------------------\u001b[0m",
      "\u001b[1;31mAttributeError\u001b[0m                            Traceback (most recent call last)",
      "\u001b[1;32m<ipython-input-6-631ddbddc66a>\u001b[0m in \u001b[0;36m<module>\u001b[1;34m()\u001b[0m\n\u001b[0;32m      9\u001b[0m \u001b[0mprint\u001b[0m\u001b[1;33m(\u001b[0m\u001b[0mp\u001b[0m\u001b[1;33m.\u001b[0m\u001b[0mname\u001b[0m\u001b[1;33m)\u001b[0m\u001b[1;33m\u001b[0m\u001b[0m\n\u001b[0;32m     10\u001b[0m \u001b[1;31m# __age 是私有成员\u001b[0m\u001b[1;33m\u001b[0m\u001b[1;33m\u001b[0m\u001b[0m\n\u001b[1;32m---> 11\u001b[1;33m \u001b[0mprint\u001b[0m\u001b[1;33m(\u001b[0m\u001b[0mp\u001b[0m\u001b[1;33m.\u001b[0m\u001b[0mage\u001b[0m\u001b[1;33m)\u001b[0m\u001b[1;33m\u001b[0m\u001b[0m\n\u001b[0m",
      "\u001b[1;31mAttributeError\u001b[0m: 'Person' object has no attribute 'age'"
     ]
    }
   ],
   "source": [
    "class Person():\n",
    "    # name 是公有的成员\n",
    "    name = 'wangw'\n",
    "    # age 就是私有成员，前面加两个下划线\n",
    "    __age = 18\n",
    "                \n",
    "p = Person()\n",
    "# name 是公有的成员\n",
    "print(p.name)\n",
    "# __age 是私有成员\n",
    "# 注意报错信息：没有这个属性\n",
    "print(p.age)\n"
   ]
  },
  {
   "cell_type": "markdown",
   "metadata": {},
   "source": [
    "# name mangling 技术\n",
    "  - 系统遇到双下划线\\_\\_的属性时，自动更改属性名，所以访问不到"
   ]
  },
  {
   "cell_type": "code",
   "execution_count": 10,
   "metadata": {},
   "outputs": [
    {
     "name": "stdout",
     "output_type": "stream",
     "text": [
      "{'__module__': '__main__', 'name': 'wangw', '_Person__age': 18, '__dict__': <attribute '__dict__' of 'Person' objects>, '__weakref__': <attribute '__weakref__' of 'Person' objects>, '__doc__': None}\n",
      "****************************************\n",
      "28\n"
     ]
    }
   ],
   "source": [
    "# name mangling 技术\n",
    "print(Person.__dict__)\n",
    "print('*' * 40)\n",
    "\n",
    "p._Person__age = 28\n",
    "print(p._Person__age)"
   ]
  }
 ],
 "metadata": {
  "kernelspec": {
   "display_name": "Python 3",
   "language": "python",
   "name": "python3"
  },
  "language_info": {
   "codemirror_mode": {
    "name": "ipython",
    "version": 3
   },
   "file_extension": ".py",
   "mimetype": "text/x-python",
   "name": "python",
   "nbconvert_exporter": "python",
   "pygments_lexer": "ipython3",
   "version": "3.6.5"
  }
 },
 "nbformat": 4,
 "nbformat_minor": 2
}
