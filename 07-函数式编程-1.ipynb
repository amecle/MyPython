{
 "cells": [
  {
   "cell_type": "markdown",
   "metadata": {},
   "source": [
    "# Log 模块资料\n",
    "  - https://www.cnblogs.com/yyds/p/6901864.html"
   ]
  },
  {
   "cell_type": "markdown",
   "metadata": {},
   "source": [
    "# Python语言的高级特性"
   ]
  },
  {
   "cell_type": "markdown",
   "metadata": {},
   "source": [
    "## 函数式编程（FunctionalProgramming）\n",
    "  - 基于lambda演算的一种编程方式\n",
    "    - 程序中只有函数\n",
    "    - 函数可以作为参数，同样可以作为返回值\n",
    "    - 纯函数式编程语言：LISP,Haskell\n",
    "  - Python函数式编程只是借鉴函数式编程的一些特点，可以理解成一半函数式一半Python\n",
    "  - 需要讲述：\n",
    "    - 高阶函数\n",
    "    - 返回函数\n",
    "    - 匿名函数\n",
    "    - 装饰器\n",
    "    - 偏函数"
   ]
  },
  {
   "cell_type": "markdown",
   "metadata": {},
   "source": [
    "### lambda表达式\n",
    "  - 函数：最大程度复用代码\n",
    "    - 存在问题：如果函数很小，很短，则会造成啰嗦\n",
    "    - 如果函数被调用次数少，则会造成浪费\n",
    "    - 对于阅读者来说，造成阅读流程的被迫中断\n",
    "  - lambda表达式（匿名函数）：\n",
    "    - 一个表达式，函数体相对简单\n",
    "    - 不是以恶搞代码块，仅仅是一个表达式\n",
    "    - 可以有参数，如有多个参数用逗号隔开"
   ]
  },
  {
   "cell_type": "code",
   "execution_count": 4,
   "metadata": {},
   "outputs": [
    {
     "name": "stdout",
     "output_type": "stream",
     "text": [
      "AAAAAAA\n"
     ]
    }
   ],
   "source": [
    "# ‘小’函数举例\n",
    "def printA():\n",
    "    print('AAAAAAA')\n",
    "    \n",
    "printA()"
   ]
  },
  {
   "cell_type": "code",
   "execution_count": 14,
   "metadata": {},
   "outputs": [
    {
     "name": "stdout",
     "output_type": "stream",
     "text": [
      "<class 'function'>\n"
     ]
    },
    {
     "data": {
      "text/plain": [
       "8900"
      ]
     },
     "execution_count": 14,
     "metadata": {},
     "output_type": "execute_result"
    }
   ],
   "source": [
    "# lambda 表达式的用法\n",
    "# 1. 以lambda开头\n",
    "# 2. 紧跟一定的参数（如有）\n",
    "# 3. 参数后用冒号和表达式主体隔开\n",
    "# 4. 只是一个表达式，所以，没有return\n",
    "\n",
    "# 计算一个数字的100倍数\n",
    "stm = lambda x : x * 100 \n",
    "# 使用上跟函数调用一模一样\n",
    "print(type(stm))\n",
    "stm(89)"
   ]
  },
  {
   "cell_type": "code",
   "execution_count": 16,
   "metadata": {},
   "outputs": [
    {
     "data": {
      "text/plain": [
       "279"
      ]
     },
     "execution_count": 16,
     "metadata": {},
     "output_type": "execute_result"
    }
   ],
   "source": [
    "stm2 = lambda x,y,z : x * 100 + y * 10 + z\n",
    "stm2(2,7,9)"
   ]
  },
  {
   "cell_type": "markdown",
   "metadata": {},
   "source": [
    "### 高阶函数\n",
    "  - 把函数作为参数使用的函数，叫高阶函数"
   ]
  },
  {
   "cell_type": "code",
   "execution_count": 18,
   "metadata": {},
   "outputs": [
    {
     "name": "stdout",
     "output_type": "stream",
     "text": [
      "我是funA\n"
     ]
    }
   ],
   "source": [
    "# 函数名称就是一个变量\n",
    "def funA():\n",
    "    print('我是funA')\n",
    "funB = funA\n",
    "funB()"
   ]
  },
  {
   "cell_type": "markdown",
   "metadata": {},
   "source": [
    "### 以上代码得出的结论：\n",
    "  - 函数名称是变量\n",
    "  - funB 和 funA 只是名称不一样而已\n",
    "  - 既然函数名称是变量，则应该可以被当做参数传入另一个函数"
   ]
  },
  {
   "cell_type": "code",
   "execution_count": 22,
   "metadata": {},
   "outputs": [
    {
     "name": "stdout",
     "output_type": "stream",
     "text": [
      "2400\n",
      "2400\n"
     ]
    }
   ],
   "source": [
    "# 高阶函数举例\n",
    "# funA 是普通函数，返回一个传入数字100被的数字\n",
    "\n",
    "def funA(n):\n",
    "    return n * 100\n",
    "\n",
    "# 再写一个函数，把传入参数乘以300倍\n",
    "def funB(n):\n",
    "    return funA(n) * 3\n",
    "\n",
    "print(funB(8))\n",
    "\n",
    "# 写一个高级函数\n",
    "def funC(n,f):\n",
    "    # 假定函数是把 n 扩大100倍\n",
    "    return f(n) * 3\n",
    "\n",
    "print( funC(8,funA) )"
   ]
  },
  {
   "cell_type": "markdown",
   "metadata": {},
   "source": [
    "### 系统高阶函数 - map（映射）\n",
    "  - 原意：映射，即把集合或者列表中的每一个元素，都按照一定规则进行操作，生成一个新的列表或集合（map类型）\n",
    "  - map 函数是系统提供的具有映射功能的函数，返回值是一个迭代对象，map类型\n",
    "  - map类型变量为可迭代对象，但是只允许调取一次，调取后为空"
   ]
  },
  {
   "cell_type": "code",
   "execution_count": 4,
   "metadata": {},
   "outputs": [
    {
     "name": "stdout",
     "output_type": "stream",
     "text": [
      "[0, 10, 20, 30, 40, 50, 60, 70, 80, 90]\n",
      "[110, 120, 130, 140, 150, 160, 170, 180, 190]\n"
     ]
    }
   ],
   "source": [
    "# map 举例\n",
    "# map() 返回一个map类型：可迭代结构\n",
    "\n",
    "# 列表生成式\n",
    "l1 = [i*10 for i in range(10) ]\n",
    "print(l1)\n",
    "\n",
    "# map\n",
    "def mulTen(n):\n",
    "    return n * 10\n",
    "#help(map)\n",
    "l2 = map(mulTen,range(11,20))\n",
    "\n",
    "'''\n",
    "①、②两种方法只能有一种成功调取map中的数据，\n",
    "一旦调取后，map变为空map\n",
    "'''   \n",
    "# ① 把map结构类型转为list\n",
    "l3 = list(l2)\n",
    "print(l3)\n",
    "\n",
    "# ② 用 for in 遍历 map结构类型\n",
    "for i in l2:\n",
    "    print(i)"
   ]
  },
  {
   "cell_type": "markdown",
   "metadata": {},
   "source": [
    "### reduce\n",
    "  - 原意：归并/缩减，把一个可迭代对象按一定规则最后归并成一个结果\n",
    "  - 对于作为参数的函数要求：必须有2个参数，必须返回结果\n",
    "  - reduce([1,2,3,4,5]) == f(f(f(f(1,2),3),4),5)\n",
    "  - reduce 需要导入 functools 包"
   ]
  },
  {
   "cell_type": "code",
   "execution_count": 6,
   "metadata": {},
   "outputs": [],
   "source": [
    "from functools import reduce"
   ]
  },
  {
   "cell_type": "code",
   "execution_count": 15,
   "metadata": {},
   "outputs": [
    {
     "name": "stdout",
     "output_type": "stream",
     "text": [
      "123456\n"
     ]
    }
   ],
   "source": [
    "# 定义一个操作函数\n",
    "def myAdd(x,y):\n",
    "    return x * 10 + y\n",
    "\n",
    "rst = reduce( myAdd, [1,2,3,4,5,6] )\n",
    "print(rst)"
   ]
  },
  {
   "cell_type": "code",
   "execution_count": null,
   "metadata": {},
   "outputs": [],
   "source": []
  }
 ],
 "metadata": {
  "kernelspec": {
   "display_name": "Python 3",
   "language": "python",
   "name": "python3"
  },
  "language_info": {
   "codemirror_mode": {
    "name": "ipython",
    "version": 3
   },
   "file_extension": ".py",
   "mimetype": "text/x-python",
   "name": "python",
   "nbconvert_exporter": "python",
   "pygments_lexer": "ipython3",
   "version": "3.6.5"
  }
 },
 "nbformat": 4,
 "nbformat_minor": 2
}
