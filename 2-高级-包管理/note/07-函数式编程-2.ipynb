{
 "cells": [
  {
   "cell_type": "markdown",
   "metadata": {},
   "source": [
    "### filter 函数\n",
    "  - 过滤函数：对一组数据进行过滤，符合条件的数据会生成一个新的列表并返回\n",
    "  - 跟 map 相比较：\n",
    "    - 相同：都对列表的每一个元素逐一进行操作\n",
    "    - 不同：\n",
    "      - map 会生成一个跟原数据相对应的新队列\n",
    "      - filter 不一定，只有符合条件的才会进入新的队列\n",
    "  - filter函数怎么写：\n",
    "    - 利用给定的函数进行判断\n",
    "    - 给定函数的返回值一定是个布尔值\n",
    "    - 调用：filter(f,data)，f是过滤函数，data是数据"
   ]
  },
  {
   "cell_type": "code",
   "execution_count": 5,
   "metadata": {},
   "outputs": [
    {
     "name": "stdout",
     "output_type": "stream",
     "text": [
      "<class 'filter'>\n",
      "<filter object at 0x0000027D084D2A20>\n",
      "[2, 4, 6, 8, 10, 12, 14, 16, 18]\n"
     ]
    }
   ],
   "source": [
    "# filter 案例\n",
    "# 对于一个列表，过滤取偶\n",
    "\n",
    "# 定义过滤函数\n",
    "def isEven(a):\n",
    "    return a % 2 == 0\n",
    "\n",
    "l = [i for i in range(1,20)]\n",
    "# 返回的filter类型是一个可迭代对象\n",
    "rst = filter(isEven, l)\n",
    "\n",
    "print(type(rst))\n",
    "print(rst)\n",
    "print(list(rst))"
   ]
  },
  {
   "cell_type": "markdown",
   "metadata": {},
   "source": [
    "### 高阶函数-排序\n",
    "  - 把一个序列按照给定算法进行排序()\n",
    "  - key：在排序前对每一个元素进行key函数运算，可以理解成按照key函数定义的逻辑进行排序\n",
    "  - python2 和 python3 相差巨大"
   ]
  },
  {
   "cell_type": "code",
   "execution_count": 6,
   "metadata": {},
   "outputs": [
    {
     "name": "stdout",
     "output_type": "stream",
     "text": [
      "Help on built-in function sorted in module builtins:\n",
      "\n",
      "sorted(iterable, /, *, key=None, reverse=False)\n",
      "    Return a new list containing all items from the iterable in ascending order.\n",
      "    \n",
      "    A custom key function can be supplied to customize the sort order, and the\n",
      "    reverse flag can be set to request the result in descending order.\n",
      "\n"
     ]
    }
   ],
   "source": [
    "help(sorted)"
   ]
  },
  {
   "cell_type": "code",
   "execution_count": 13,
   "metadata": {},
   "outputs": [
    {
     "name": "stdout",
     "output_type": "stream",
     "text": [
      "[-24, 1, 3, 3, 9, 42, 44, 45, 52, 98, 234, 435, 2346]\n",
      "[2346, 435, 234, 98, 52, 45, 44, 42, 9, 3, 3, 1, -24]\n"
     ]
    }
   ],
   "source": [
    "# 排序 案例\n",
    "\n",
    "a = [234,435,-24,45,3,52,42,3,44,2346,1,98,9]\n",
    "al = sorted(a)\n",
    "print(al)\n",
    "al = sorted(a,reverse=True)\n",
    "print(al)"
   ]
  },
  {
   "cell_type": "code",
   "execution_count": 15,
   "metadata": {},
   "outputs": [
    {
     "name": "stdout",
     "output_type": "stream",
     "text": [
      "[0, -1, 2, -3, 5, 7, -23, -33, 34, -45, -99]\n",
      "[-99, -45, 34, -33, -23, 7, 5, -3, 2, -1, 0]\n"
     ]
    }
   ],
   "source": [
    "# 排序 案例2\n",
    "\n",
    "a = [-23,5,34,2,0,-3,-33,-45,7,-99,-1]\n",
    "# 按绝对值进行排序\n",
    "# abs是求绝对值\n",
    "al = sorted(a,key=abs)\n",
    "print(al)\n",
    "al = sorted(a,key=abs,reverse=True)\n",
    "print(al)"
   ]
  },
  {
   "cell_type": "code",
   "execution_count": 17,
   "metadata": {},
   "outputs": [
    {
     "name": "stdout",
     "output_type": "stream",
     "text": [
      "['0', '123', 'Dawa', 'Wang', 'daodao', 'wakaa']\n",
      "['0', '123', 'daodao', 'Dawa', 'wakaa', 'Wang']\n"
     ]
    }
   ],
   "source": [
    "# 排序 案例3\n",
    "# 字符串排序\n",
    "\n",
    "astr = ['Dawa','wakaa','daodao','Wang','123','0']\n",
    "\n",
    "str1 = sorted(astr)\n",
    "print(str1)\n",
    "\n",
    "str2 = sorted(astr,key=str.lower)\n",
    "print(str2)"
   ]
  },
  {
   "cell_type": "markdown",
   "metadata": {},
   "source": [
    "## 返回函数\n",
    "  - 函数可以返回具体的值\n",
    "  - 也可以返回一个函数作为结果"
   ]
  },
  {
   "cell_type": "code",
   "execution_count": 19,
   "metadata": {},
   "outputs": [
    {
     "name": "stdout",
     "output_type": "stream",
     "text": [
      "我是myFun\n",
      "None\n"
     ]
    }
   ],
   "source": [
    "# 定义一个普通函数\n",
    "\n",
    "def myFun(a):\n",
    "    print('我是myFun')\n",
    "    return None\n",
    "\n",
    "a = myFun(9)\n",
    "print(a)"
   ]
  },
  {
   "cell_type": "code",
   "execution_count": 22,
   "metadata": {},
   "outputs": [
    {
     "name": "stdout",
     "output_type": "stream",
     "text": [
      "<class 'function'>\n",
      "<function myFun2.<locals>.myFun3 at 0x0000027D084C1C80>\n",
      "我是myFun3\n"
     ]
    },
    {
     "data": {
      "text/plain": [
       "3"
      ]
     },
     "execution_count": 22,
     "metadata": {},
     "output_type": "execute_result"
    }
   ],
   "source": [
    "# 调用myFun2，返回一个函数myFun3，赋值给f3\n",
    "def myFun2():\n",
    "    def myFun3():\n",
    "        print('我是myFun3')\n",
    "        return 3\n",
    "    return myFun3\n",
    "\n",
    "f3 = myFun2()\n",
    "print(type(f3))\n",
    "print(f3)\n",
    "\n",
    "f3()"
   ]
  },
  {
   "cell_type": "code",
   "execution_count": 3,
   "metadata": {},
   "outputs": [],
   "source": [
    "# 返回函数 案例2\n",
    "# args：参数列表\n",
    "# 1. myFun4定义函数，返回内部定义的函数myFun5\n",
    "# 2. myFun5使用了外部变量，这个变量是myFun4的参数\n",
    "\n",
    "def myFun4(*args):\n",
    "    def myFun5():\n",
    "        rst = 0\n",
    "        for n in args:\n",
    "            rst += n\n",
    "        return rst\n",
    "    return myFun5"
   ]
  },
  {
   "cell_type": "code",
   "execution_count": 4,
   "metadata": {},
   "outputs": [
    {
     "data": {
      "text/plain": [
       "45"
      ]
     },
     "execution_count": 4,
     "metadata": {},
     "output_type": "execute_result"
    }
   ],
   "source": [
    "f5 = myFun4(1,2,3,4,5,6,7,8,9)\n",
    "# f5 的调用方式\n",
    "f5()"
   ]
  },
  {
   "cell_type": "code",
   "execution_count": 6,
   "metadata": {},
   "outputs": [
    {
     "data": {
      "text/plain": [
       "150"
      ]
     },
     "execution_count": 6,
     "metadata": {},
     "output_type": "execute_result"
    }
   ],
   "source": [
    "myFun4(10,20,30,40,50)()"
   ]
  },
  {
   "cell_type": "markdown",
   "metadata": {},
   "source": [
    "## 闭包（closure）\n",
    "  - 当一个函数在内部定义函数，并且内部的函数应用了外部函数的参数或者局部变量，当内部函数被当做返回值的时候，相关参数和变量保存在返回的函数中，这种结构叫闭包。\n",
    "  - 上面案例的 myFun4 是一个标准的闭包结构"
   ]
  },
  {
   "cell_type": "code",
   "execution_count": 7,
   "metadata": {},
   "outputs": [
    {
     "name": "stdout",
     "output_type": "stream",
     "text": [
      "9\n",
      "9\n",
      "9\n"
     ]
    }
   ],
   "source": [
    "# 闭包常见的坑\n",
    "def count():\n",
    "    # 定义列表，列表里存放的是定义的函数\n",
    "    fs = []\n",
    "    for i in range(1,4):\n",
    "        # 定义了一个函数f\n",
    "        # f是一个闭包结构\n",
    "        def f():\n",
    "            return i*i\n",
    "        fs.append(f)\n",
    "    # 返回一个包含三个函数的列表\n",
    "    return fs\n",
    "\n",
    "f1,f2,f3 = count()  # 获取返回的三个函数\n",
    "print(f1())\n",
    "print(f2())\n",
    "print(f3())"
   ]
  },
  {
   "cell_type": "markdown",
   "metadata": {},
   "source": [
    "### 出现的问题：\n",
    "  - 造成上述状况的原因是，返回函数引用了变量i，i并非立即执行，而是等到三个函数都返回的时候才统一使用，此时i已经变成了3，最终调用的时候，都返回的是 3*3\n",
    "\n",
    "#### 说人话：\n",
    "  - 当调用count()时，循环3次，每次都定义一个 f，并把 f 放入列表返回，但是定义和返回，不代表 f 被调用，返回给 f1, f2, f3 的 f() 内容都是 i*i （因为f没有执行），同时 i 也被记录下来，此时 i 的值是 3 .\n",
    "  \n",
    "#### 所以，返回闭包时，返回函数不能引用任何循环变量\n",
    "- 解决方案：再创建一个函数，用该函数的参数绑定循环变量的当前值，无论该循环变量以后如何改变，已经绑定的函数参数值不再改变"
   ]
  },
  {
   "cell_type": "code",
   "execution_count": 2,
   "metadata": {},
   "outputs": [
    {
     "name": "stdout",
     "output_type": "stream",
     "text": [
      "1\n",
      "4\n",
      "9\n"
     ]
    }
   ],
   "source": [
    "# 修改上述函数\n",
    "def count1():\n",
    "    def f(j):\n",
    "        def g():\n",
    "            return j*j\n",
    "        return g\n",
    "    fs = []\n",
    "    for i in range(1,4):\n",
    "        fs.append(f(i))\n",
    "    return fs\n",
    "\n",
    "f1,f2,f3 = count1()\n",
    "print(f1())\n",
    "print(f2())\n",
    "print(f3())"
   ]
  },
  {
   "cell_type": "markdown",
   "metadata": {},
   "source": [
    "# 装饰器"
   ]
  },
  {
   "cell_type": "code",
   "execution_count": 5,
   "metadata": {},
   "outputs": [
    {
     "name": "stdout",
     "output_type": "stream",
     "text": [
      "Hello world\n"
     ]
    }
   ],
   "source": [
    "def hello():\n",
    "    print('Hello world')\n",
    "hello()"
   ]
  },
  {
   "cell_type": "code",
   "execution_count": 6,
   "metadata": {},
   "outputs": [
    {
     "name": "stdout",
     "output_type": "stream",
     "text": [
      "Hello world\n"
     ]
    }
   ],
   "source": [
    "f = hello\n",
    "f()"
   ]
  },
  {
   "cell_type": "code",
   "execution_count": 7,
   "metadata": {},
   "outputs": [
    {
     "name": "stdout",
     "output_type": "stream",
     "text": [
      "2150288603744\n",
      "2150288603744\n",
      "hello\n",
      "hello\n"
     ]
    }
   ],
   "source": [
    "# f 和 hello 是一个函数\n",
    "print(id(f))\n",
    "print(id(hello))\n",
    "\n",
    "print(f.__name__)\n",
    "print(hello.__name__)"
   ]
  },
  {
   "cell_type": "code",
   "execution_count": 8,
   "metadata": {},
   "outputs": [],
   "source": [
    "# 现在有新的需求：\n",
    "# 对 hello 功能进行扩展，每次打印 hello 之前打印当前系统时间\n",
    "# 而实现功能又不能改动现有代码\n",
    "# ==> 使用装饰器"
   ]
  },
  {
   "cell_type": "markdown",
   "metadata": {},
   "source": [
    "### 装饰器（Decrator）\n",
    "  - 在不改动函数代码的基础上无限制扩展函数功能的一种机制，本质上讲，装饰器是一个返回函数的高阶函数\n",
    "  - 装饰器的使用：@语法，即在每次要扩展到函数定义前使用@+函数名\n",
    "    - @ 是python的语法糖"
   ]
  },
  {
   "cell_type": "code",
   "execution_count": 11,
   "metadata": {},
   "outputs": [],
   "source": [
    "# 任务：\n",
    "# 扩展hello，每次执行前先打印当前时间\n",
    "import time\n",
    "\n",
    "# 高阶函数，以函数作为参数\n",
    "def printTime(f):\n",
    "    def wrapper(*args,**kwargs):\n",
    "        print('Time:',time.ctime())\n",
    "        return f(*args,**kwargs)\n",
    "    return wrapper"
   ]
  },
  {
   "cell_type": "code",
   "execution_count": 12,
   "metadata": {},
   "outputs": [
    {
     "name": "stdout",
     "output_type": "stream",
     "text": [
      "Time: Tue Jun 12 13:12:21 2018\n",
      "Hello world\n"
     ]
    }
   ],
   "source": [
    "# 上面定义了装饰器，使用的时候需要用到@，此符号是python的语法糖\n",
    "# 下面，使用装饰器，装饰hello()\n",
    "@printTime\n",
    "def hello():\n",
    "    print('Hello world')\n",
    "    \n",
    "hello()"
   ]
  },
  {
   "cell_type": "code",
   "execution_count": 14,
   "metadata": {},
   "outputs": [
    {
     "name": "stdout",
     "output_type": "stream",
     "text": [
      "Time: Tue Jun 12 13:15:25 2018\n",
      "我是hello2，你来装饰一下我啊\n"
     ]
    }
   ],
   "source": [
    "# 装饰器的好处是：一旦定义，则可以装饰任意函数\n",
    "# 一旦被其装饰，则把装饰器的功能直接添加到定义函数的功能上\n",
    "\n",
    "@printTime\n",
    "def hello2():\n",
    "    print('我是hello2，你来装饰一下我啊')\n",
    "    \n",
    "hello2()"
   ]
  },
  {
   "cell_type": "code",
   "execution_count": 17,
   "metadata": {},
   "outputs": [
    {
     "name": "stdout",
     "output_type": "stream",
     "text": [
      "我是hello3，我要手动执行装饰器\n",
      "**************\n",
      "Time: Tue Jun 12 13:40:04 2018\n",
      "我是hello3，我要手动执行装饰器\n",
      "**************\n",
      "Time: Tue Jun 12 13:40:04 2018\n",
      "Time: Tue Jun 12 13:40:04 2018\n",
      "我是hello3，我要手动执行装饰器\n"
     ]
    }
   ],
   "source": [
    "# 上面对函数的装饰使用了系统定义的语法糖\n",
    "# 下面手动执行装饰器\n",
    "# 先定义函数\n",
    "\n",
    "def hello3():\n",
    "    print('我是hello3，我要手动执行装饰器')\n",
    "    \n",
    "hello3()\n",
    "print(\"**************\")\n",
    "'''\n",
    "相当于：把 hello3 扔给装饰器printTime，装饰完之后再赋值给hello3\n",
    "当然装饰完之后也可以赋值给一个新变量。\n",
    "'''\n",
    "hello3 = printTime(hello3)\n",
    "f = printTime(hello3)\n",
    "hello3()\n",
    "print(\"**************\")\n",
    "f()"
   ]
  },
  {
   "cell_type": "markdown",
   "metadata": {},
   "source": [
    "### 偏函数"
   ]
  },
  {
   "cell_type": "code",
   "execution_count": 21,
   "metadata": {},
   "outputs": [
    {
     "data": {
      "text/plain": [
       "5349"
      ]
     },
     "execution_count": 21,
     "metadata": {},
     "output_type": "execute_result"
    }
   ],
   "source": [
    "# 把字符串转化成十进制数字\n",
    "int('12345')\n",
    "\n",
    "# 八进制字符串'12345'，表示成十进制数\n",
    "int('12345',base=8)"
   ]
  },
  {
   "cell_type": "code",
   "execution_count": 25,
   "metadata": {},
   "outputs": [
    {
     "data": {
      "text/plain": [
       "74565"
      ]
     },
     "execution_count": 25,
     "metadata": {},
     "output_type": "execute_result"
    }
   ],
   "source": [
    "def int16(x,base=16):\n",
    "    return int(x,base)\n",
    "\n",
    "int16('12345')"
   ]
  },
  {
   "cell_type": "markdown",
   "metadata": {},
   "source": [
    "### 偏函数\n",
    "  - 参数固定的函数，相当于一个有特定参数的函数体\n",
    "  - functools.partial 的作用是，把一个函数某些参数固定，返回一个新函数"
   ]
  },
  {
   "cell_type": "code",
   "execution_count": 24,
   "metadata": {},
   "outputs": [
    {
     "data": {
      "text/plain": [
       "74565"
      ]
     },
     "execution_count": 24,
     "metadata": {},
     "output_type": "execute_result"
    }
   ],
   "source": [
    "import functools\n",
    "# 实现上面int16的功能\n",
    "# base 被固定为16\n",
    "int16 = functools.partial(int,base=16)\n",
    "int16('12345')"
   ]
  },
  {
   "cell_type": "code",
   "execution_count": null,
   "metadata": {},
   "outputs": [],
   "source": []
  },
  {
   "cell_type": "code",
   "execution_count": null,
   "metadata": {},
   "outputs": [],
   "source": []
  },
  {
   "cell_type": "code",
   "execution_count": null,
   "metadata": {},
   "outputs": [],
   "source": []
  },
  {
   "cell_type": "code",
   "execution_count": null,
   "metadata": {},
   "outputs": [],
   "source": []
  }
 ],
 "metadata": {
  "kernelspec": {
   "display_name": "Python 3",
   "language": "python",
   "name": "python3"
  },
  "language_info": {
   "codemirror_mode": {
    "name": "ipython",
    "version": 3
   },
   "file_extension": ".py",
   "mimetype": "text/x-python",
   "name": "python",
   "nbconvert_exporter": "python",
   "pygments_lexer": "ipython3",
   "version": "3.6.5"
  }
 },
 "nbformat": 4,
 "nbformat_minor": 2
}
