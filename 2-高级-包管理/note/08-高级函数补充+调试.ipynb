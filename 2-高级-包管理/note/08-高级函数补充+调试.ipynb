{
 "cells": [
  {
   "cell_type": "markdown",
   "metadata": {},
   "source": [
    "# zip\n",
    "  - 把两个可迭代内容生成一个可迭代的内容\n",
    "  - 元素为tuple类型"
   ]
  },
  {
   "cell_type": "code",
   "execution_count": 9,
   "metadata": {},
   "outputs": [
    {
     "name": "stdout",
     "output_type": "stream",
     "text": [
      "<class 'zip'>\n",
      "<zip object at 0x000002400EE0EC48>\n",
      "i: (1, 11)\n",
      "i: (2, 22)\n",
      "i: (3, 33)\n",
      "i: (4, 44)\n",
      "i: (5, 55)\n"
     ]
    }
   ],
   "source": [
    "# zip 案例\n",
    "l1 = [1,2,3,4,5]\n",
    "l2 = [11,22,33,44,55]\n",
    "\n",
    "z = zip(l1,l2)\n",
    "\n",
    "print(type(z))\n",
    "print(z)\n",
    "\n",
    "for i in z:\n",
    "    print('i:',i)\n",
    "    \n",
    "# zip 类型可迭代，类似 map ，取一次为空\n",
    "for k in z:\n",
    "    print('k:',k)"
   ]
  },
  {
   "cell_type": "code",
   "execution_count": 11,
   "metadata": {},
   "outputs": [
    {
     "name": "stdout",
     "output_type": "stream",
     "text": [
      "('wangdao', 89)\n",
      "('jakaa', 58)\n",
      "('python', 77)\n",
      "[]\n"
     ]
    }
   ],
   "source": [
    "l1 = ['wangdao','jakaa','python']\n",
    "l2 = [89, 58, 77]\n",
    "\n",
    "z = zip(l1,l2)\n",
    "\n",
    "for i in z:\n",
    "    print(i)\n",
    "    \n",
    "# zip取一次为空\n",
    "l3 = [i for i in z]\n",
    "print(l3)"
   ]
  },
  {
   "cell_type": "markdown",
   "metadata": {},
   "source": [
    "# enumerate\n",
    "  - 跟 zip 功能比较像\n",
    "  - 对可迭代对象里的每一个元素，配上一个索引，然后索引和内容构成tuple类型"
   ]
  },
  {
   "cell_type": "code",
   "execution_count": 14,
   "metadata": {},
   "outputs": [
    {
     "name": "stdout",
     "output_type": "stream",
     "text": [
      "[(0, 11), (1, 22), (2, 33), (3, 44), (4, 55)]\n"
     ]
    }
   ],
   "source": [
    "l1 = [11,22,33,44,55]\n",
    "\n",
    "em = enumerate(l1)\n",
    "# 取完就空了\n",
    "l2 = [i for i in em]\n",
    "print(l2)\n"
   ]
  },
  {
   "cell_type": "code",
   "execution_count": 15,
   "metadata": {},
   "outputs": [
    {
     "name": "stdout",
     "output_type": "stream",
     "text": [
      "[(100, 11), (101, 22), (102, 33), (103, 44), (104, 55)]\n"
     ]
    }
   ],
   "source": [
    "em = enumerate(l1,start=100)\n",
    "\n",
    "l2 = [i for i in em]\n",
    "print(l2)"
   ]
  },
  {
   "cell_type": "markdown",
   "metadata": {},
   "source": [
    "# collections 模块\n",
    "  - namedtuple\n",
    "  - deque"
   ]
  },
  {
   "cell_type": "markdown",
   "metadata": {},
   "source": [
    "### namedtuple\n",
    "  - tuple 类型\n",
    "  - 是一个可命名的tuple"
   ]
  },
  {
   "cell_type": "code",
   "execution_count": 56,
   "metadata": {},
   "outputs": [
    {
     "name": "stdout",
     "output_type": "stream",
     "text": [
      "11\n",
      "22\n"
     ]
    }
   ],
   "source": [
    "#import collections\n",
    "#print(type(collections.namedtuple))\n",
    "#help(collections.namedtuple)\n",
    "\n",
    "# 定义一个 Pt 类\n",
    "Point = collections.namedtuple('Point',['x','y'])\n",
    "# Pt 类实例化对象p\n",
    "p = Point(11,22)\n",
    "print(p.x)\n",
    "print(p[1])"
   ]
  },
  {
   "cell_type": "code",
   "execution_count": 43,
   "metadata": {},
   "outputs": [
    {
     "name": "stdout",
     "output_type": "stream",
     "text": [
      "Circle(x=3, y=5, r=2)\n",
      "<class '__main__.Circle'>\n"
     ]
    },
    {
     "data": {
      "text/plain": [
       "True"
      ]
     },
     "execution_count": 43,
     "metadata": {},
     "output_type": "execute_result"
    }
   ],
   "source": [
    "Circle = collections.namedtuple('Circle',['x','y','r'])\n",
    "c = Circle(3,5,2)\n",
    "print(c)\n",
    "print(type(c))\n",
    "\n",
    "# 检测以下namedtuple到底属于谁的子类\n",
    "isinstance(c,tuple)"
   ]
  },
  {
   "cell_type": "markdown",
   "metadata": {},
   "source": [
    "# deque\n",
    "  - 比较方便的解决了频繁删除插入带来的效率问题"
   ]
  },
  {
   "cell_type": "code",
   "execution_count": 39,
   "metadata": {},
   "outputs": [
    {
     "name": "stdout",
     "output_type": "stream",
     "text": [
      "deque(['a', 'b', 'c'])\n",
      "deque(['a', 'b', 'c', 'd'])\n",
      "deque(['x', 'a', 'b', 'c', 'd'])\n"
     ]
    }
   ],
   "source": [
    "from collections import deque\n",
    "\n",
    "q = deque(['a','b','c'])\n",
    "print(q)\n",
    "\n",
    "q.append('d')\n",
    "print(q)\n",
    "\n",
    "q.appendleft('x')\n",
    "print(q)"
   ]
  },
  {
   "cell_type": "markdown",
   "metadata": {},
   "source": [
    "# defaultdict\n",
    "  - 当直接读取dict不存在的属性时，直接返回默认值"
   ]
  },
  {
   "cell_type": "code",
   "execution_count": 45,
   "metadata": {},
   "outputs": [
    {
     "name": "stdout",
     "output_type": "stream",
     "text": [
      "1\n"
     ]
    },
    {
     "ename": "KeyError",
     "evalue": "'four'",
     "output_type": "error",
     "traceback": [
      "\u001b[1;31m---------------------------------------------------------------------------\u001b[0m",
      "\u001b[1;31mKeyError\u001b[0m                                  Traceback (most recent call last)",
      "\u001b[1;32m<ipython-input-45-a8f18608ec8c>\u001b[0m in \u001b[0;36m<module>\u001b[1;34m()\u001b[0m\n\u001b[0;32m      1\u001b[0m \u001b[0md1\u001b[0m \u001b[1;33m=\u001b[0m \u001b[1;33m{\u001b[0m\u001b[1;34m'one'\u001b[0m\u001b[1;33m:\u001b[0m\u001b[1;36m1\u001b[0m\u001b[1;33m,\u001b[0m\u001b[1;34m'two'\u001b[0m\u001b[1;33m:\u001b[0m\u001b[1;36m2\u001b[0m\u001b[1;33m,\u001b[0m\u001b[1;34m'three'\u001b[0m\u001b[1;33m:\u001b[0m\u001b[1;36m3\u001b[0m\u001b[1;33m}\u001b[0m\u001b[1;33m\u001b[0m\u001b[0m\n\u001b[0;32m      2\u001b[0m \u001b[0mprint\u001b[0m\u001b[1;33m(\u001b[0m\u001b[0md1\u001b[0m\u001b[1;33m[\u001b[0m\u001b[1;34m'one'\u001b[0m\u001b[1;33m]\u001b[0m\u001b[1;33m)\u001b[0m\u001b[1;33m\u001b[0m\u001b[0m\n\u001b[1;32m----> 3\u001b[1;33m \u001b[0mprint\u001b[0m\u001b[1;33m(\u001b[0m\u001b[0md1\u001b[0m\u001b[1;33m[\u001b[0m\u001b[1;34m'four'\u001b[0m\u001b[1;33m]\u001b[0m\u001b[1;33m)\u001b[0m\u001b[1;33m\u001b[0m\u001b[0m\n\u001b[0m",
      "\u001b[1;31mKeyError\u001b[0m: 'four'"
     ]
    }
   ],
   "source": [
    "d1 = {'one':1,'two':2,'three':3}\n",
    "print(d1['one'])\n",
    "print(d1['four'])"
   ]
  },
  {
   "cell_type": "code",
   "execution_count": 51,
   "metadata": {},
   "outputs": [
    {
     "name": "stdout",
     "output_type": "stream",
     "text": [
      "1\n",
      "daodao\n"
     ]
    }
   ],
   "source": [
    "from collections import defaultdict\n",
    "#help(defaultdict)\n",
    "\n",
    "# lambda表达式，直接返回字符串\n",
    "func = lambda:'daodao'\n",
    "d2 = defaultdict(func)\n",
    "\n",
    "d2['one'] = 1\n",
    "d2['two'] = 2\n",
    "\n",
    "print(d2['one'])\n",
    "print(d2['four'])\n"
   ]
  },
  {
   "cell_type": "markdown",
   "metadata": {},
   "source": [
    "# Counter\n",
    "  - 统计字符串个数\n",
    "  - 把如果参数为str，则以str中每一个字符作为key，把字符出现的次数作为value\n",
    "    - 为什么不把字符串整体作为统计对象，统计结果为1\n",
    "    - 因为str本身为可迭代，str为迭代对象，字符为统计对象\n",
    "    - 如果参数是一个由str组成的list，则list为迭代对象，str为统计对象"
   ]
  },
  {
   "cell_type": "code",
   "execution_count": 63,
   "metadata": {},
   "outputs": [
    {
     "name": "stdout",
     "output_type": "stream",
     "text": [
      "Counter({' ': 6, 'd': 3, 'a': 2, 's': 2, 'f': 1})\n",
      "Counter({'as': 1, 'das': 1, 'ddf': 1})\n"
     ]
    }
   ],
   "source": [
    "from collections import Counter\n",
    "#help(Counter)\n",
    "\n",
    "c = Counter( 'as   das   ddf' )\n",
    "print(c)\n",
    "c = Counter(['as','das','ddf'])\n",
    "print(c)"
   ]
  },
  {
   "cell_type": "code",
   "execution_count": null,
   "metadata": {},
   "outputs": [],
   "source": []
  },
  {
   "cell_type": "code",
   "execution_count": null,
   "metadata": {},
   "outputs": [],
   "source": []
  },
  {
   "cell_type": "code",
   "execution_count": null,
   "metadata": {
    "scrolled": true
   },
   "outputs": [],
   "source": []
  },
  {
   "cell_type": "code",
   "execution_count": null,
   "metadata": {},
   "outputs": [],
   "source": []
  }
 ],
 "metadata": {
  "kernelspec": {
   "display_name": "Python 3",
   "language": "python",
   "name": "python3"
  },
  "language_info": {
   "codemirror_mode": {
    "name": "ipython",
    "version": 3
   },
   "file_extension": ".py",
   "mimetype": "text/x-python",
   "name": "python",
   "nbconvert_exporter": "python",
   "pygments_lexer": "ipython3",
   "version": "3.6.5"
  }
 },
 "nbformat": 4,
 "nbformat_minor": 2
}
